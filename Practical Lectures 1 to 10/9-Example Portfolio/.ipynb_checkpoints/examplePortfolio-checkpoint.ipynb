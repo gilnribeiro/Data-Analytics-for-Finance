{
 "cells": [
  {
   "cell_type": "code",
   "execution_count": null,
   "metadata": {
    "dotnet_interactive": {
     "language": "fsharp"
    }
   },
   "outputs": [
    {
     "data": {
      "text/plain": "Installed package Plotly.NET version 2.0.0-beta9"
     },
     "output_type": "unknown"
    },
    {
     "data": {
      "text/plain": "Installed package FSharp.Data version 4.1.1"
     },
     "output_type": "unknown"
    },
    {
     "data": {
      "text/plain": "Installed package NodaTime version 3.0.5"
     },
     "output_type": "unknown"
    },
    {
     "data": {
      "text/plain": "Installed package FSharp.Stats version 0.4.1"
     },
     "output_type": "unknown"
    }
   ],
   "source": [
    "#r \"nuget:FSharp.Data\"\n",
    "#r \"nuget:NodaTime\"\n",
    "#r \"nuget: FSharp.Stats\"\n",
    "#r \"nuget: Plotly.NET, 2.0.0-beta9\"\n"
   ]
  },
  {
   "cell_type": "code",
   "execution_count": null,
   "metadata": {
    "dotnet_interactive": {
     "language": "fsharp"
    }
   },
   "outputs": [
    {
     "data": {
      "text/plain": "Installed package Plotly.NET.Interactive version 2.0.0-beta9"
     },
     "output_type": "unknown"
    },
    {
     "data": {
      "text/markdown": "Loading extensions from `Plotly.NET.Interactive.dll`"
     },
     "output_type": "unknown"
    },
    {
     "data": {
      "text/markdown": "Added Kernel Extension including formatters for GenericChart"
     },
     "output_type": "unknown"
    }
   ],
   "source": [
    "#r \"nuget: Plotly.NET.Interactive, 2.0.0-beta9\"\n"
   ]
  },
  {
   "cell_type": "code",
   "execution_count": null,
   "metadata": {
    "dotnet_interactive": {
     "language": "fsharp"
    }
   },
   "outputs": [],
   "source": [
    "open System\n",
    "open FSharp.Data\n",
    "open NodaTime\n",
    "open Plotly.NET\n",
    "open FSharp.Stats\n"
   ]
  },
  {
   "cell_type": "code",
   "execution_count": null,
   "metadata": {
    "dotnet_interactive": {
     "language": "fsharp"
    }
   },
   "outputs": [],
   "source": [
    "// set working directory to script directory\n",
    "Environment.CurrentDirectory <- __SOURCE_DIRECTORY__\n"
   ]
  },
  {
   "cell_type": "markdown",
   "metadata": {},
   "source": [
    "## First, make sure that you're referencing the correct files.\n",
    "\n",
    "Here I'm assuming that\n",
    "I have a folder called `Project` inside my class folder and\n",
    "that the `Project` folder is where this code that I am working\n",
    "on is.\n",
    "\n",
    "For example, a folder hierarchy like below where you\n",
    "have the below files and folders accessible:\n",
    "```\n",
    "/class\n",
    "    Common.fsx\n",
    "    /data-cache\n",
    "        id_and_return_data.csv\n",
    "        zero_trades_252d.csv\n",
    "    /Project\n",
    "        examplePortfolio.fsx\n",
    "        examplePortfolio.dib\n",
    "        Portfolio-3.fsx\n",
    "```\n",
    "\n",
    "### We will use the portfolio module\n",
    "Make sure that you load this code\n"
   ]
  },
  {
   "cell_type": "code",
   "execution_count": null,
   "metadata": {
    "dotnet_interactive": {
     "language": "fsharp"
    }
   },
   "outputs": [],
   "source": [
    "#load \"Portfolio-3.fsx\"\n",
    "open Portfolio\n"
   ]
  },
  {
   "cell_type": "markdown",
   "metadata": {},
   "source": [
    "### We will use the Common.fsx file\n",
    "Make sure that this loads correctly.\n"
   ]
  },
  {
   "cell_type": "code",
   "execution_count": null,
   "metadata": {
    "dotnet_interactive": {
     "language": "fsharp"
    }
   },
   "outputs": [],
   "source": [
    "#load \"../Common.fsx\"\n",
    "open Common\n"
   ]
  },
  {
   "cell_type": "markdown",
   "metadata": {},
   "source": [
    "### We need to reference the data\n",
    "This script assumes the data .csv files  are in the data-cache folder\n",
    "that is one level above the folder we're working in.\n",
    "\n"
   ]
  },
  {
   "cell_type": "code",
   "execution_count": null,
   "metadata": {
    "dotnet_interactive": {
     "language": "fsharp"
    }
   },
   "outputs": [],
   "source": [
    "let [<Literal>] dataCache = __SOURCE_DIRECTORY__ + \"/../data-cache/\"\n",
    "let [<Literal>] idAndReturnsFile = dataCache + \"id_and_return_data.csv\"\n",
    "let [<Literal>] mySignalFile = dataCache + \"zero_trades_252d.csv\"\n"
   ]
  },
  {
   "cell_type": "markdown",
   "metadata": {},
   "source": [
    "If my paths are correct, then this code should read the first few lines of the files.\n",
    "If it doesn't show the first few lines, fix the above file paths.\n"
   ]
  },
  {
   "cell_type": "code",
   "execution_count": null,
   "metadata": {
    "dotnet_interactive": {
     "language": "fsharp"
    }
   },
   "outputs": [
    {
     "data": {
      "text/html": "<table><thead><tr><th><i>index</i></th><th>value</th></tr></thead><tbody><tr><td>0</td><td>id(string),eom(date),source(string),sizeGrp(string),obsMain(string),exchMain(string),primarySec(bool),gvkey(string),iid(string),permno(int Option),permco(int Option),excntry(string),curcd(string),fx(string),common(bool),compTpci(string),crspShrcd(int Option),compExchg(string),crsp_exchcd(int Option),adjfct(float Option),shares(float Option),gics(int Option),sic(int Option),naics(int Option),ff49(int Option),ret(float Option),retExc(float Option),prc(float Option),marketEquity(float Option)</td></tr><tr><td>1</td><td>crsp_86432,2000-01-31T00:00:00.0000000,CRSP,micro,1,1,true,115876,01,86432,16313,USA,USD,1,true,,11,,3,2,5.218,40101010,6020,522110,45,-0.003906,-0.00824925,15.9375,83.161875</td></tr><tr><td>2</td><td>crsp_85640,2000-01-31T00:00:00.0000000,CRSP,small,1,1,true,002193,01,85640,20300,USA,USD,1,true,,11,,1,1,102.496,35102020,8051,623110,11,-0.157143,-0.161485863,3.6875,377.954</td></tr><tr><td>3</td><td>crsp_86430,2000-01-31T00:00:00.0000000,CRSP,micro,1,1,true,115946,01,86430,16319,USA,USD,1,true,,11,,3,1,10.764,45103010,7372,511210,36,0.285714,0.2813712985,3.9375,42.38325</td></tr><tr><td>4</td><td>crsp_85756,2000-01-31T00:00:00.0000000,CRSP,nano,1,1,true,066389,01,85756,15930,USA,USD,1,true,,11,,3,1,1.582,,6720,,48,0.190685,0.1863418699,10.25,16.2155</td></tr></tbody></table>"
     },
     "output_type": "unknown"
    }
   ],
   "source": [
    "IO.File.ReadLines(idAndReturnsFile) |> Seq.truncate 5\n"
   ]
  },
  {
   "cell_type": "code",
   "execution_count": null,
   "metadata": {
    "dotnet_interactive": {
     "language": "fsharp"
    }
   },
   "outputs": [
    {
     "data": {
      "text/html": "<table><thead><tr><th><i>index</i></th><th>value</th></tr></thead><tbody><tr><td>0</td><td>id(string),eom(date),signal(float option)</td></tr><tr><td>1</td><td>comp_001034_01,2008-12-31T00:00:00.0000000,0.00041064</td></tr><tr><td>2</td><td>comp_001043_01,2000-01-31T00:00:00.0000000,6.78131102</td></tr><tr><td>3</td><td>comp_001076_02,2010-12-31T00:00:00.0000000,0.00159523</td></tr><tr><td>4</td><td>comp_001081_01,2007-10-31T00:00:00.0000000,0.00282442</td></tr></tbody></table>"
     },
     "output_type": "unknown"
    }
   ],
   "source": [
    "IO.File.ReadLines(mySignalFile) |> Seq.truncate 5\n"
   ]
  },
  {
   "cell_type": "markdown",
   "metadata": {},
   "source": [
    "## Now we're making the momentum code match this new dataset.\n",
    "Define types for the main ID+Return dataset and your signal dataset.\n"
   ]
  },
  {
   "cell_type": "code",
   "execution_count": null,
   "metadata": {
    "dotnet_interactive": {
     "language": "fsharp"
    }
   },
   "outputs": [],
   "source": [
    "type IdAndReturnCsv = CsvProvider<Sample=idAndReturnsFile,\n",
    "                                  // Override some column types that I forgot to make boolean\n",
    "                                  // for easier use when doing filtering.\n",
    "                                  // If I didn't do this overriding the columns would have strings\n",
    "                                  // of \"1\" or \"0\", but explicit boolean is nicer.\n",
    "                                  Schema=\"obsMain(string)->obsMain=bool,exchMain(string)->exchMain=bool\",\n",
    "                                  ResolutionFolder= __SOURCE_DIRECTORY__>\n",
    "\n",
    "type Signal = CsvProvider<Sample=mySignalFile,\n",
    "                          ResolutionFolder= __SOURCE_DIRECTORY__>\n"
   ]
  },
  {
   "cell_type": "markdown",
   "metadata": {},
   "source": [
    "Load your data. \n",
    "\n",
    "It can be interesting to plot your data\n",
    "\n"
   ]
  },
  {
   "cell_type": "code",
   "execution_count": null,
   "metadata": {
    "dotnet_interactive": {
     "language": "fsharp"
    }
   },
   "outputs": [],
   "source": [
    "let idAndReturns = IdAndReturnCsv.Load(idAndReturnsFile)\n",
    "let mySignal = Signal.Load(mySignalFile)\n"
   ]
  },
  {
   "cell_type": "markdown",
   "metadata": {},
   "source": [
    "This data is already cleaned, but in general it's always useful\n",
    "to see what the data looks like.\n",
    "\n",
    "There are lots of observations, so I'm going to sample it\n",
    "before plotting.\n"
   ]
  },
  {
   "cell_type": "code",
   "execution_count": null,
   "metadata": {
    "dotnet_interactive": {
     "language": "fsharp"
    }
   },
   "outputs": [],
   "source": [
    "let rand = new Random()\n",
    "\n",
    "let signalDistribution =\n",
    "    mySignal.Rows\n",
    "    |> Seq.choose(fun x -> x.Signal)\n",
    "    // rand.NextDouble() generates a random floating point number\n",
    "    // between 0 and 1.\n",
    "    // Here I'm iterating through the sequence and on each iteration\n",
    "    // I'm generating a random number that I'll use to sort the sequence.\n",
    "    // It's like Seq.sortBy(fun x -> x.Symbol) but instead of sorting by\n",
    "    // whatever x.Symbol gives you I'm sorting by whatever\n",
    "    //  rand.NextDouble() gives you.\n",
    "    |> Seq.sortBy(fun _ -> rand.NextDouble()) \n",
    "    |> Seq.truncate 1_000 \n",
    "    |> Seq.toArray\n",
    "\n",
    "let histogram =\n",
    "    signalDistribution\n",
    "    |> Chart.Histogram\n"
   ]
  },
  {
   "cell_type": "code",
   "execution_count": null,
   "metadata": {
    "dotnet_interactive": {
     "language": "fsharp"
    }
   },
   "outputs": [
    {
     "data": {
      "text/html": "<div id=\"7a4cf40d-b3b9-44cd-9114-54b1177ccd57\" style=\"width: 600px; height: 600px;\"><!-- Plotly chart will be drawn inside this DIV --></div>\r\n<script type=\"text/javascript\">\r\n\n            var renderPlotly_7a4cf40db3b944cd911454b1177ccd57 = function() {\n            var fsharpPlotlyRequire = requirejs.config({context:'fsharp-plotly',paths:{plotly:'https://cdn.plot.ly/plotly-latest.min'}}) || require;\n            fsharpPlotlyRequire(['plotly'], function(Plotly) {\r\n\n            var data = [{\"type\":\"histogram\",\"x\":[0.00072693,0.00175914,0.00299927,0.00282763,3.0548225,0.00255614,9.32348629,0.50144802,10.00462667,0.00394359,0.0027865,2.21585014,0.00100373,0.00377968,0.00118858,0.00480066,0.00141202,0.00571591,0.00359159,0.26496043,0.25845045,0.0022216,5.996E-05,0.00080421,0.00211017,0.00070365,0.00044855,0.00203996,0.00246747,0.00359003,0.00488226,0.00128007,0.00282367,0.33629171,0.00207027,0.00105124,0.00192983,0.00479197,0.24931971,0.00125101,0.00035636,0.00074162,0.00141232,0.00294961,2.26725601,8.25890885,0.00304634,0.00261032,0.00283296,0.00423877,0.00457107,0.67418488,0.51145979,0.17311424,0.00251543,0.42521243,0.0068905,4.10741372,0.00102136,0.00317201,0.00017108,2.93351478,0.17127293,0.00229378,5.86369015,0.42222753,0.0074641,0.00013147,0.00678622,0.00207793,0.00038315,0.65738019,0.0005583,0.00156131,1.09441981,0.00099745,0.00276107,1.17518535,0.00373637,0.00042311,1.08585291,0.08712116,0.00762424,0.58688718,0.00129214,0.00288516,0.00183373,0.67497079,0.08515725,0.0023045,0.00351563,0.00118366,0.00353188,0.00227527,0.00111492,0.0023931,0.00076269,0.0023982,0.0021327,0.00389642,0.0007181,0.00205763,0.00209885,0.000409,0.3392289,0.0027791,0.59020272,11.67586872,0.00113149,0.00503751,0.00241477,0.08803989,0.00195338,0.00332117,9.91324526,14.80659537,8.64117057,0.00310548,0.00306276,1.09481832,0.00207621,0.00473582,0.00232489,0.00689435,0.00158386,11.48473158,0.00201018,0.00214808,0.00092929,0.25657373,0.00369339,0.0024417,1.75136174,0.00199855,2.43134852,0.00123957,0.00334026,0.00564572,0.00329366,0.00444888,0.00182212,0.0052741,0.09012054,0.00157005,18.58259254,0.00548433,0.00386426,0.00594415,0.17182109,0.0028977,0.42141651,0.00552568,0.00402541,0.00138172,0.00110476,0.0015503,0.00263582,2.01435052,0.00732626,3.84183509,0.00239965,0.00464359,0.0035782,0.00251875,0.58481485,0.00112303,0.00503066,0.00371945,0.00357211,0.00217649,0.50247779,0.0010026,9.34216507,0.00299151,0.0024684,0.00309985,0.00049225,0.00333201,0.1739167,0.00402156,0.00254934,0.00070549,0.00367933,0.00265889,0.00340903,0.00160479,0.00177754,0.00279551,0.00131399,0.00033338,0.00297789,0.00325271,0.25762832,21.00979555,0.00116585,12.42558317,0.00686629,0.00131073,0.00081164,0.00327451,0.34077643,0.00071233,0.00249976,0.00253444,0.00094018,0.00651437,6.5075166,0.00166511,0.00074802,0.00104573,2.03758201,0.00156363,11.88905841,0.00339045,0.000593,0.00263734,0.00207542,0.00163614,0.00167881,0.00054065,2.00316504,0.00119452,0.00250056,0.00379294,0.0005206,0.0028742,0.0029427,0.00247608,0.00354901,0.00343895,0.00111074,0.00300107,0.00098918,0.00214967,0.00549532,0.35237856,0.00699963,0.00101481,0.0025786,0.00257984,0.00180816,0.92641334,0.00352413,0.00029629,0.00179148,0.08864399,0.00377727,1.7578453,0.00549775,0.00627698,0.00371212,0.00083066,2.18453052,0.00356103,0.00063213,0.00301317,0.00567086,0.09028659,2.40652386,0.00193074,0.00419914,0.00183883,0.00417994,0.00170317,1.25473405,0.00170352,0.59053346,0.00470712,0.00137327,0.16905083,0.00460815,0.00440709,0.25607734,0.00258804,0.00100847,0.00526108,0.00553008,0.50469231,0.00049832,0.00253706,0.00302119,0.00158256,0.08897754,0.00272074,0.0018441,0.00651891,0.00178703,0.00621124,0.00364339,0.00209304,0.00347177,0.00154154,0.00071354,0.00200126,1.66877663,0.00424185,0.00303123,6.55490247,9.33756108,0.25924261,0.00153563,0.00253081,0.00163006,0.0007167,0.00372987,0.00352016,0.00691168,0.00225344,0.00640696,0.00037773,3.27041017,0.00474413,0.09000346,0.00775363,4.047E-05,0.00108236,5.05152043,0.00067179,0.00716323,0.00178928,0.00271622,0.00328699,0.00634064,0.00277474,0.00275952,0.17458399,0.00469425,0.00299172,0.00283021,0.00278825,0.00073467,0.00249876,0.00316664,0.00541565,0.0026219,0.00236677,0.00362893,0.58857126,14.67596671,0.17099579,0.00503348,0.5956701,0.00181831,0.00155657,0.00095936,0.00426091,0.00043931,0.00310351,0.00315532,0.00174884,0.00326561,0.00154169,0.00355435,0.00322124,0.00220728,0.00070549,0.002551,0.0047721,0.00273048,0.00161022,0.00217755,0.00172375,0.00580597,0.00134289,5.80519383,0.25734367,0.00325146,0.00133718,4.09179211,0.08785138,0.00053342,0.00406428,0.00245436,0.00284591,0.00123562,0.00451366,0.00015966,0.00112407,0.0055514,0.00100174,0.59028825,0.00220618,0.0922982,0.00137917,10.33814371,0.00932808,0.00141645,0.00215298,0.00203815,0.08877689,0.0040862,0.00466707,0.0030011,0.00295001,0.50418792,0.00158068,0.00239838,0.00277077,15.0916552,0.00301251,0.00093983,0.00042969,0.00203544,0.08859765,0.08994149,0.00156534,9.5535088,0.25653982,0.00226915,0.00196413,0.41758323,0.00059728,0.58999271,0.00218057,0.46485181,0.00226857,0.00252531,0.00233074,0.00517728,0.00175835,0.00505175,0.00660599,1.00450839,0.00732735,0.09322028,2.51857201,0.5867875,0.00390973,0.00129357,0.00130074,0.0043456,0.00455876,0.0032906,0.25598963,0.00297593,0.00233668,0.00179559,0.00254752,0.00200982,0.00503294,0.0024431,0.0013493,0.00245924,0.00077426,0.00743241,0.00484042,0.00364855,0.0005523,0.00211946,0.00153529,2.00593808,2.00828092,0.0004756,0.00044642,0.00476175,10.67173745,0.00203761,0.00231436,0.67292856,0.00469581,0.00245784,0.00096211,0.00263134,0.00490747,0.00620225,0.00429062,0.00121913,0.00119659,0.00197758,0.00199242,0.00060198,0.00070284,0.00332311,0.00751266,0.00211553,2.59850024,0.00158656,0.00349615,7.92495791,5.51081416,0.00028046,0.00283202,1.87592137,0.50404313,0.00026497,0.00196685,10.96448768,0.00287262,0.00825368,0.00063006,0.58757005,8.39112622,0.00387347,0.00162707,0.00221716,0.00130952,0.0025602,0.08863317,0.17228267,0.00478899,0.00056791,0.00209695,0.00011555,0.00339929,0.00167524,0.00181717,0.00075617,0.00072115,0.00329335,0.00060742,0.00271472,0.00330995,0.001711,0.00143103,0.09058252,0.00228215,1.83390393,0.00200433,0.00328279,0.00170439,0.00716217,0.001626,0.0032513,0.00234703,4.26434194,0.00367836,0.00237531,0.00327263,0.00341511,0.00256077,0.00099718,3.6863281,3.59155444,0.00368314,0.00432533,0.00342177,0.00341267,0.00625067,0.00119951,0.00259936,0.00235393,0.00091225,0.00322798,0.00404887,12.55968149,0.00389903,0.00266963,0.00463457,0.00105941,0.00173241,0.00100465,1.66779933,0.00184884,0.00389438,0.8431152,1.01145698,0.75413875,0.75615583,0.00202163,0.00469647,0.00423892,0.00128594,3.01512729,0.00420564,0.00111226,8.8288725,0.00170254,0.00315295,0.00369931,0.00092588,5.50550769,0.00190375,0.00311968,2.58843825,0.0005522,0.0056127,0.0023788,0.0046039,0.00579322,0.00204824,0.00694036,0.00303922,0.00246095,0.0008389,6.70012687,0.00171004,0.00615312,0.00309653,0.00683315,0.00436454,0.00123512,0.25900031,0.00233792,0.00542043,0.00079544,4.2750185,1.95579836,0.00224618,0.0890402,0.00370801,0.00460726,0.00432123,0.00420179,0.00437717,0.00241061,0.00319835,0.00222057,0.00733104,0.00510022,0.00399496,0.00108963,0.00194854,0.00208389,0.00545554,0.00243173,0.00255393,0.00228774,0.00038991,2.50547135,0.00218831,0.00215084,7.2571516,1.68103935,0.00190551,0.0047132,0.00019674,0.00540503,0.00466597,0.00564237,0.00447103,0.08443691,0.00339825,0.00284291,0.0037845,0.00163306,0.00360965,0.09154949,0.00599515,0.00179155,0.00153567,2.09875184,0.00010749,0.00670884,0.00177012,0.00197247,0.00114209,1.92530591,0.340996,0.0010633,0.00268819,0.00167028,0.4213796,0.00068148,0.00244834,0.00062273,0.00283121,0.00105635,0.00380234,0.00279333,0.00080443,0.00267431,0.00087159,0.00515087,0.0035005,0.00168497,0.00606318,0.00325496,0.00131216,0.00687579,0.0002819,0.00044918,0.00225268,0.00327438,0.00263331,0.00187845,2.51677216,0.00229929,0.00038158,0.00451722,0.00070915,0.00238932,0.00203155,0.00065285,1.90825464,0.00121388,2.67378066,0.00250195,0.00068294,0.00124697,0.00451899,0.00437304,0.00118464,7.92501835,0.00544176,0.00090582,6.78924239,0.84433803,0.00505266,0.0010488,5.00702242,0.0013058,0.00409225,0.08731182,7.8412507,0.00065113,0.00215161,0.00299564,0.00263769,0.00097274,0.00110997,0.00055393,0.00282708,9.96377788,0.25319105,0.0033014,0.00369166,0.00613579,0.00196103,0.00415333,0.00261085,0.00407123,0.00205132,0.00119591,2.01037839,0.00253674,0.00342053,1.92161228,0.00018919,0.00631689,0.00122479,0.00591035,6.18217295,0.00380183,0.00172688,0.0017658,0.00533645,0.25012786,0.08834882,0.00184473,0.0906932,0.00154923,10.25834209,0.00306623,0.00213763,10.96137754,0.00054038,0.00295582,0.00229346,0.00315049,0.00339639,13.25892961,0.00256385,0.00489784,0.00217957,0.00556416,0.00038054,2.73619352,0.0007087,0.00403549,0.00280746,0.00333531,0.00250164,0.22469582,0.00273009,0.00093007,0.00670765,0.00096791,0.00196168,1.01151464,0.08790067,0.00025587,0.00179151,0.00130052,0.00377962,0.00355428,0.00343641,0.00422799,0.00172259,0.00511844,21.00991493,0.50582729,0.00160812,0.00133247,0.00063069,0.25559788,0.00336348,6.45067676,0.00223548,0.00139572,0.00094479,4.42090878,0.5625018,0.00020778,0.00292164,0.00281587,0.00250273,0.00458925,0.00459292,0.00356516,0.00260777,9.00905551,0.00135863,5.08357809,0.00207416,3.80277466,0.00196601,0.00100496,0.00106554,0.00231568,0.00050029,0.00233014,0.25297917,0.00288946,0.00334019,0.41941249,0.00270543,0.00050731,11.90156293,0.00497276,0.00175717,0.00182457,0.00481328,0.0037115,0.34950011,0.00058251,0.0040569,0.00169865,0.00309438,0.50368494,0.00483175,0.00496283,0.42297357,0.00432653,9.085E-05,0.00035818,0.00579432,0.00202745,0.00111538,0.00084138,0.00133074,0.00448155,0.00263454,0.0887732,0.00306172,0.00040431,0.00410039,6.17090129,10.42632306,9.316E-05,1.45211782,0.00282305,0.33732098,0.00555091,0.00151282,13.25976849,0.0046803,0.00418502,1.19642986,0.0037231,0.00256505,0.00050868,0.00012766,0.00281746,0.00190349,0.0010564,0.00339304,0.91782214,12.04428302,0.00066861,0.0051358,0.00427401,0.0014219,0.00202414,0.00113338,0.0001402,0.00011513,0.0018534,0.00552564,3.77377276,0.00341298,0.25696505,0.00354909,0.00347573,8.09061287,0.00754221,0.00258299,0.00120161,0.00127401,2.00006105,0.00186691,0.0008206,0.00346597,0.00154747,0.00058216,0.00325212,0.00054171,0.00019603,0.00318616,0.00106938,1.26032457,0.00565115,0.33957857,0.00186344,0.00153641,0.00078228,0.2563452,0.00080559,0.00287595,2.17322479,14.17410745,4.30744653,0.00116639,0.00193128,0.00341601,0.00426361,0.00224238,0.00564106,0.00202631,0.00451981,0.00135862,0.00213034,0.08448828,0.00445393,0.00116502,1.91829909,0.00174154,0.00363546,0.00136252,0.00179382,0.00164039,0.00237402,0.00096233,4.61732464,0.00182749,0.00361509,0.00185781,0.00597533,0.00158725,0.00190432,1.66248669,0.16796632,0.0012858,1.00412647,0.00350318,0.003236,0.00363495,0.00255183,0.00094952,0.00320675,0.00185285,0.00289309,0.00144015,0.00069578,0.00211266,1.2752623,0.0030478,0.00369321,4.93806343,0.00245344,0.00017604,0.00358876,0.00111588,3.35498415,0.00172792,0.00486122,0.00193808,0.00217196,0.00090147,1.76475087,0.27061509,0.42240251,0.17333448,0.00026369,0.00632128,0.84167941,0.00269053,0.00625649,0.00040857,0.0026473,0.00495149,0.00323457,0.00086518,1.76390125,0.00733927,0.00168818,0.00136551,0.00108544,0.00586158,0.08832319,0.00198264,0.00227433,0.00428523,0.00308706,0.00304417,0.08895807,0.00290336,1.17943284,9.38863864,5.54734583,3.90137407],\"marker\":{}}];\n            var layout = {};\n            var config = {};\n            Plotly.newPlot('7a4cf40d-b3b9-44cd-9114-54b1177ccd57', data, layout, config);\r\n});\n            };\n            if ((typeof(requirejs) !==  typeof(Function)) || (typeof(requirejs.config) !== typeof(Function))) {\n                var script = document.createElement(\"script\");\n                script.setAttribute(\"src\", \"https://cdnjs.cloudflare.com/ajax/libs/require.js/2.3.6/require.min.js\");\n                script.onload = function(){\n                    renderPlotly_7a4cf40db3b944cd911454b1177ccd57();\n                };\n                document.getElementsByTagName(\"head\")[0].appendChild(script);\n            }\n            else {\n                renderPlotly_7a4cf40db3b944cd911454b1177ccd57();\n            }\r\n</script>\r\n"
     },
     "output_type": "unknown"
    }
   ],
   "source": [
    "histogram\n"
   ]
  },
  {
   "cell_type": "markdown",
   "metadata": {},
   "source": [
    "Let's index the data by security id and month.\n",
    "\n",
    "- In this dataset, we'll use `row.Id` as the identifier. We'll assign it to\n",
    "the `Other` SecurityId case, because it's a dataset specific one.\n",
    "- In this dataset, the Eom variable defines the \"end of month\".\n",
    "- The returns are for the month ending in EOM.\n",
    "- The signals are \"known\" as of EOM. So you can use them on/after EOM. We'll\n",
    "form portfolios in the month ending EOM; that's the `FormationMonth`.\n"
   ]
  },
  {
   "cell_type": "code",
   "execution_count": null,
   "metadata": {
    "dotnet_interactive": {
     "language": "fsharp"
    }
   },
   "outputs": [],
   "source": [
    "let msfBySecurityIdAndMonth =\n",
    "    idAndReturns.Rows\n",
    "    |> Seq.map(fun row -> \n",
    "        let index = Other row.Id, YearMonth(row.Eom.Year,row.Eom.Month)\n",
    "        index, row)\n",
    "    |> Map.ofSeq    \n",
    "\n",
    "let signalBySecurityIdAndMonth =\n",
    "    mySignal.Rows\n",
    "    |> Seq.choose(fun row -> \n",
    "        // we'll use Seq.choose to drop the security if the security is missing. \n",
    "        match row.Signal with\n",
    "        | None -> None // choose will drop these None observations\n",
    "        | Some signal ->\n",
    "            let index = Other row.Id, YearMonth(row.Eom.Year,row.Eom.Month)\n",
    "            Some (index, signal) // choose will convert Some(index,signal) into\n",
    "                                 // (index,signal) and keep that.\n",
    "    )\n",
    "    |> Map.ofSeq    \n"
   ]
  },
  {
   "cell_type": "markdown",
   "metadata": {},
   "source": [
    "The `securitiesByFormationMonth` that we'll use to define our investment universe.\n",
    "\n"
   ]
  },
  {
   "cell_type": "code",
   "execution_count": null,
   "metadata": {
    "dotnet_interactive": {
     "language": "fsharp"
    }
   },
   "outputs": [],
   "source": [
    "let securitiesByFormationMonth =\n",
    "    idAndReturns.Rows\n",
    "    |> Seq.groupBy(fun x -> YearMonth(x.Eom.Year, x.Eom.Month))\n",
    "    |> Seq.map(fun (ym, xs) -> \n",
    "        ym, \n",
    "        xs \n",
    "        |> Seq.map(fun x -> Other x.Id) \n",
    "        |> Seq.toArray)\n",
    "    |> Map.ofSeq\n",
    "\n",
    "let getInvestmentUniverse formationMonth =\n",
    "    match Map.tryFind formationMonth securitiesByFormationMonth with\n",
    "    | Some securities -> \n",
    "        { FormationMonth = formationMonth \n",
    "          Securities = securities }\n",
    "    | None -> failwith $\"{formationMonth} is not in the date range\"      \n"
   ]
  },
  {
   "cell_type": "markdown",
   "metadata": {},
   "source": [
    "Now I want to be able to get my signal.\n"
   ]
  },
  {
   "cell_type": "code",
   "execution_count": null,
   "metadata": {
    "dotnet_interactive": {
     "language": "fsharp"
    }
   },
   "outputs": [],
   "source": [
    "let getMySignal (securityId, formationMonth) =\n",
    "    match Map.tryFind (securityId, formationMonth) signalBySecurityIdAndMonth with\n",
    "    | None -> None\n",
    "    | Some signal ->\n",
    "        Some { SecurityId = securityId; Signal = signal }\n",
    "\n",
    "let getMySignals (investmentUniverse: InvestmentUniverse) =\n",
    "    let arrayOfSecuritySignals =\n",
    "        investmentUniverse.Securities\n",
    "        |> Array.choose(fun security -> \n",
    "            getMySignal (security, investmentUniverse.FormationMonth))    \n",
    "    \n",
    "    { FormationMonth = investmentUniverse.FormationMonth \n",
    "      Signals = arrayOfSecuritySignals }\n"
   ]
  },
  {
   "cell_type": "markdown",
   "metadata": {},
   "source": [
    "And I should be able to get my market capitalization\n"
   ]
  },
  {
   "cell_type": "code",
   "execution_count": null,
   "metadata": {
    "dotnet_interactive": {
     "language": "fsharp"
    }
   },
   "outputs": [],
   "source": [
    "let getMarketCap (security, formationMonth) =\n",
    "    match Map.tryFind (security, formationMonth) msfBySecurityIdAndMonth with\n",
    "    | None -> None\n",
    "    | Some row -> \n",
    "        match row.MarketEquity with\n",
    "        | None -> None\n",
    "        | Some me -> Some (security, me)\n"
   ]
  },
  {
   "cell_type": "markdown",
   "metadata": {},
   "source": [
    "And I should be able to get my returns.\n"
   ]
  },
  {
   "cell_type": "code",
   "execution_count": null,
   "metadata": {
    "dotnet_interactive": {
     "language": "fsharp"
    }
   },
   "outputs": [],
   "source": [
    "let getSecurityReturn (security, formationMonth) =\n",
    "    // If the security has a missing return, assume that we got 0.0.\n",
    "    // Note: If we were doing excess returns, we wouldd need 0.0 - rf.\n",
    "    let missingReturn = 0.0\n",
    "    match Map.tryFind (security, formationMonth) msfBySecurityIdAndMonth with\n",
    "    | None -> security, missingReturn\n",
    "    | Some x ->  \n",
    "        match x.Ret with \n",
    "        | None -> security, missingReturn\n",
    "        | Some r -> security, r\n"
   ]
  },
  {
   "cell_type": "markdown",
   "metadata": {},
   "source": [
    "And we should do a few restrictions. These come from the data documentation\n",
    "section 1.2, \"How to use the data\". These are some basic ones.\n"
   ]
  },
  {
   "cell_type": "code",
   "execution_count": null,
   "metadata": {
    "dotnet_interactive": {
     "language": "fsharp"
    }
   },
   "outputs": [],
   "source": [
    "let isObsMain (security, formationMonth) =\n",
    "    match Map.tryFind (security, formationMonth) msfBySecurityIdAndMonth with\n",
    "    | None -> false\n",
    "    | Some row -> row.ObsMain\n",
    "\n",
    "let isPrimarySecurity (security, formationMonth) =\n",
    "    match Map.tryFind (security, formationMonth) msfBySecurityIdAndMonth with\n",
    "    | None -> false\n",
    "    | Some row -> row.PrimarySec\n",
    "\n",
    "let isCommonStock (security, formationMonth) =\n",
    "    match Map.tryFind (security, formationMonth) msfBySecurityIdAndMonth with\n",
    "    | None -> false\n",
    "    | Some row -> row.Common\n",
    "\n",
    "let isExchMain (security, formationMonth) =\n",
    "    match Map.tryFind (security, formationMonth) msfBySecurityIdAndMonth with\n",
    "    | None -> false\n",
    "    | Some row -> row.ExchMain\n",
    "\n",
    "let hasMarketEquity (security, formationMonth) =\n",
    "    match Map.tryFind (security, formationMonth) msfBySecurityIdAndMonth with\n",
    "    | None -> false\n",
    "    | Some row -> row.MarketEquity.IsSome\n",
    "\n",
    "let myFilters securityAndFormationMonth =\n",
    "    isObsMain securityAndFormationMonth &&\n",
    "    isPrimarySecurity securityAndFormationMonth &&\n",
    "    isCommonStock securityAndFormationMonth &&\n",
    "    isExchMain securityAndFormationMonth &&\n",
    "    isExchMain securityAndFormationMonth &&\n",
    "    hasMarketEquity securityAndFormationMonth\n",
    "\n",
    "let doMyFilters (universe:InvestmentUniverse) =\n",
    "    let filtered = \n",
    "        universe.Securities\n",
    "        // my filters expect security, formationMonth\n",
    "        |> Array.map(fun security -> security, universe.FormationMonth)\n",
    "        // do the filters\n",
    "        |> Array.filter myFilters\n",
    "        // now convert back from security, formationMonth -> security\n",
    "        |> Array.map fst\n",
    "    { universe with Securities = filtered }\n"
   ]
  },
  {
   "cell_type": "markdown",
   "metadata": {},
   "source": [
    "Define sample months\n"
   ]
  },
  {
   "cell_type": "code",
   "execution_count": null,
   "metadata": {
    "dotnet_interactive": {
     "language": "fsharp"
    }
   },
   "outputs": [],
   "source": [
    "let startSample = \n",
    "    idAndReturns.Rows\n",
    "    |> Seq.map(fun row -> YearMonth(row.Eom.Year,row.Eom.Month))\n",
    "    |> Seq.min\n",
    "\n",
    "let endSample = \n",
    "    idAndReturns.Rows\n",
    "    |> Seq.map(fun row -> YearMonth(row.Eom.Year,row.Eom.Month))\n",
    "    |> Seq.max\n",
    "    // The end of sample is the last month when we have returns.\n",
    "    // So the last month when we can form portfolios is one month\n",
    "    // before that.\n",
    "    |> fun maxMonth -> maxMonth.PlusMonths(-1) \n",
    "\n",
    "let sampleMonths = \n",
    "    getSampleMonths (startSample, endSample)\n",
    "    |> List.toArray\n"
   ]
  },
  {
   "cell_type": "markdown",
   "metadata": {},
   "source": [
    "Strategy function\n"
   ]
  },
  {
   "cell_type": "code",
   "execution_count": null,
   "metadata": {
    "dotnet_interactive": {
     "language": "fsharp"
    }
   },
   "outputs": [],
   "source": [
    "let formStrategy ym =\n",
    "    ym\n",
    "    |> getInvestmentUniverse\n",
    "    |> doMyFilters\n",
    "    |> getMySignals\n",
    "    |> assignSignalSort \"Mine\" 3\n",
    "    |> Array.map (giveValueWeights getMarketCap)\n",
    "    |> Array.map (getPortfolioReturn getSecurityReturn)  \n"
   ]
  },
  {
   "cell_type": "markdown",
   "metadata": {},
   "source": [
    "Your strategy portfolios \n"
   ]
  },
  {
   "cell_type": "code",
   "execution_count": null,
   "metadata": {
    "dotnet_interactive": {
     "language": "fsharp"
    }
   },
   "outputs": [],
   "source": [
    "let portfolios =\n",
    "    sampleMonths\n",
    "    |> Array.Parallel.collect formStrategy\n"
   ]
  },
  {
   "cell_type": "markdown",
   "metadata": {},
   "source": [
    "Common.fsx has some easy to use code to get Fama-French factors.\n",
    "We're going to use the French data to get monthly risk-free rates.\n"
   ]
  },
  {
   "cell_type": "code",
   "execution_count": null,
   "metadata": {
    "dotnet_interactive": {
     "language": "fsharp"
    }
   },
   "outputs": [],
   "source": [
    "let ff3 = French.getFF3 Frequency.Monthly\n",
    "let monthlyRiskFreeRate =\n",
    "    ff3\n",
    "    |> Array.map(fun x -> YearMonth(x.Date.Year,x.Date.Month),x.Rf)\n",
    "    |> Map.ofArray\n"
   ]
  },
  {
   "cell_type": "markdown",
   "metadata": {},
   "source": [
    "Now I'll convert my portfolios into excess returns.\n"
   ]
  },
  {
   "cell_type": "code",
   "execution_count": null,
   "metadata": {
    "dotnet_interactive": {
     "language": "fsharp"
    }
   },
   "outputs": [],
   "source": [
    "let portfolioExcessReturns =\n",
    "    portfolios\n",
    "    |> Array.Parallel.map(fun x -> \n",
    "        match Map.tryFind x.YearMonth monthlyRiskFreeRate with \n",
    "        | None -> failwith $\"Can't find risk-free rate for {x.YearMonth}\"\n",
    "        | Some rf -> { x with Return = x.Return - rf })\n"
   ]
  },
  {
   "cell_type": "markdown",
   "metadata": {},
   "source": [
    "Let's plot the top portfolio\n"
   ]
  },
  {
   "cell_type": "code",
   "execution_count": null,
   "metadata": {
    "dotnet_interactive": {
     "language": "fsharp"
    }
   },
   "outputs": [],
   "source": [
    "let top =\n",
    "    portfolioExcessReturns\n",
    "    |> Array.filter(fun port ->\n",
    "        port.PortfolioId = Indexed(\"Mine\", 3))\n",
    "    \n",
    "let cumulateReturn (xs: PortfolioReturn array) =\n",
    "    let mapper (priorRet:float) (thisObservation:PortfolioReturn) =\n",
    "        let asOfNow = priorRet*(1.0 + thisObservation.Return)\n",
    "        { thisObservation with Return = asOfNow}, asOfNow\n",
    "    // remember to make sure that your sort order is correct.\n",
    "    let sorted = xs |> Array.sortBy(fun x -> x.YearMonth)\n",
    "    (1.0, sorted) \n",
    "    ||> Array.mapFold mapper \n",
    "    |> fst    \n",
    "\n",
    "let topCumulative = top |> cumulateReturn\n"
   ]
  },
  {
   "cell_type": "markdown",
   "metadata": {},
   "source": [
    "Plotly.NET doesn't know about YearMonth, so I will convert to DateTime before plotting.\n"
   ]
  },
  {
   "cell_type": "code",
   "execution_count": null,
   "metadata": {
    "dotnet_interactive": {
     "language": "fsharp"
    }
   },
   "outputs": [],
   "source": [
    "let topCumulativeChart =\n",
    "    topCumulative\n",
    "    |> Array.map(fun x -> DateTime(x.YearMonth.Year,x.YearMonth.Month,1), x.Return)\n",
    "    |> Chart.Line \n",
    "    |> Chart.withTitle \"Growth of 1 Euro\"\n"
   ]
  },
  {
   "cell_type": "code",
   "execution_count": null,
   "metadata": {
    "dotnet_interactive": {
     "language": "fsharp"
    }
   },
   "outputs": [
    {
     "data": {
      "text/html": "<div id=\"31e0722c-7433-4359-8bb8-7a927b8dca87\" style=\"width: 600px; height: 600px;\"><!-- Plotly chart will be drawn inside this DIV --></div>\r\n<script type=\"text/javascript\">\r\n\n            var renderPlotly_31e0722c743343598bb87a927b8dca87 = function() {\n            var fsharpPlotlyRequire = requirejs.config({context:'fsharp-plotly',paths:{plotly:'https://cdn.plot.ly/plotly-latest.min'}}) || require;\n            fsharpPlotlyRequire(['plotly'], function(Plotly) {\r\n\n            var data = [{\"type\":\"scatter\",\"x\":[\"2000-02-01T00:00:00\",\"2000-03-01T00:00:00\",\"2000-04-01T00:00:00\",\"2000-05-01T00:00:00\",\"2000-06-01T00:00:00\",\"2000-07-01T00:00:00\",\"2000-08-01T00:00:00\",\"2000-09-01T00:00:00\",\"2000-10-01T00:00:00\",\"2000-11-01T00:00:00\",\"2000-12-01T00:00:00\",\"2001-01-01T00:00:00\",\"2001-02-01T00:00:00\",\"2001-03-01T00:00:00\",\"2001-04-01T00:00:00\",\"2001-05-01T00:00:00\",\"2001-06-01T00:00:00\",\"2001-07-01T00:00:00\",\"2001-08-01T00:00:00\",\"2001-09-01T00:00:00\",\"2001-10-01T00:00:00\",\"2001-11-01T00:00:00\",\"2001-12-01T00:00:00\",\"2002-01-01T00:00:00\",\"2002-02-01T00:00:00\",\"2002-03-01T00:00:00\",\"2002-04-01T00:00:00\",\"2002-05-01T00:00:00\",\"2002-06-01T00:00:00\",\"2002-07-01T00:00:00\",\"2002-08-01T00:00:00\",\"2002-09-01T00:00:00\",\"2002-10-01T00:00:00\",\"2002-11-01T00:00:00\",\"2002-12-01T00:00:00\",\"2003-01-01T00:00:00\",\"2003-02-01T00:00:00\",\"2003-03-01T00:00:00\",\"2003-04-01T00:00:00\",\"2003-05-01T00:00:00\",\"2003-06-01T00:00:00\",\"2003-07-01T00:00:00\",\"2003-08-01T00:00:00\",\"2003-09-01T00:00:00\",\"2003-10-01T00:00:00\",\"2003-11-01T00:00:00\",\"2003-12-01T00:00:00\",\"2004-01-01T00:00:00\",\"2004-02-01T00:00:00\",\"2004-03-01T00:00:00\",\"2004-04-01T00:00:00\",\"2004-05-01T00:00:00\",\"2004-06-01T00:00:00\",\"2004-07-01T00:00:00\",\"2004-08-01T00:00:00\",\"2004-09-01T00:00:00\",\"2004-10-01T00:00:00\",\"2004-11-01T00:00:00\",\"2004-12-01T00:00:00\",\"2005-01-01T00:00:00\",\"2005-02-01T00:00:00\",\"2005-03-01T00:00:00\",\"2005-04-01T00:00:00\",\"2005-05-01T00:00:00\",\"2005-06-01T00:00:00\",\"2005-07-01T00:00:00\",\"2005-08-01T00:00:00\",\"2005-09-01T00:00:00\",\"2005-10-01T00:00:00\",\"2005-11-01T00:00:00\",\"2005-12-01T00:00:00\",\"2006-01-01T00:00:00\",\"2006-02-01T00:00:00\",\"2006-03-01T00:00:00\",\"2006-04-01T00:00:00\",\"2006-05-01T00:00:00\",\"2006-06-01T00:00:00\",\"2006-07-01T00:00:00\",\"2006-08-01T00:00:00\",\"2006-09-01T00:00:00\",\"2006-10-01T00:00:00\",\"2006-11-01T00:00:00\",\"2006-12-01T00:00:00\",\"2007-01-01T00:00:00\",\"2007-02-01T00:00:00\",\"2007-03-01T00:00:00\",\"2007-04-01T00:00:00\",\"2007-05-01T00:00:00\",\"2007-06-01T00:00:00\",\"2007-07-01T00:00:00\",\"2007-08-01T00:00:00\",\"2007-09-01T00:00:00\",\"2007-10-01T00:00:00\",\"2007-11-01T00:00:00\",\"2007-12-01T00:00:00\",\"2008-01-01T00:00:00\",\"2008-02-01T00:00:00\",\"2008-03-01T00:00:00\",\"2008-04-01T00:00:00\",\"2008-05-01T00:00:00\",\"2008-06-01T00:00:00\",\"2008-07-01T00:00:00\",\"2008-08-01T00:00:00\",\"2008-09-01T00:00:00\",\"2008-10-01T00:00:00\",\"2008-11-01T00:00:00\",\"2008-12-01T00:00:00\",\"2009-01-01T00:00:00\",\"2009-02-01T00:00:00\",\"2009-03-01T00:00:00\",\"2009-04-01T00:00:00\",\"2009-05-01T00:00:00\",\"2009-06-01T00:00:00\",\"2009-07-01T00:00:00\",\"2009-08-01T00:00:00\",\"2009-09-01T00:00:00\",\"2009-10-01T00:00:00\",\"2009-11-01T00:00:00\",\"2009-12-01T00:00:00\",\"2010-01-01T00:00:00\",\"2010-02-01T00:00:00\",\"2010-03-01T00:00:00\",\"2010-04-01T00:00:00\",\"2010-05-01T00:00:00\",\"2010-06-01T00:00:00\",\"2010-07-01T00:00:00\",\"2010-08-01T00:00:00\",\"2010-09-01T00:00:00\",\"2010-10-01T00:00:00\",\"2010-11-01T00:00:00\",\"2010-12-01T00:00:00\",\"2011-01-01T00:00:00\",\"2011-02-01T00:00:00\",\"2011-03-01T00:00:00\",\"2011-04-01T00:00:00\",\"2011-05-01T00:00:00\",\"2011-06-01T00:00:00\",\"2011-07-01T00:00:00\",\"2011-08-01T00:00:00\",\"2011-09-01T00:00:00\",\"2011-10-01T00:00:00\",\"2011-11-01T00:00:00\",\"2011-12-01T00:00:00\",\"2012-01-01T00:00:00\",\"2012-02-01T00:00:00\",\"2012-03-01T00:00:00\",\"2012-04-01T00:00:00\",\"2012-05-01T00:00:00\",\"2012-06-01T00:00:00\",\"2012-07-01T00:00:00\",\"2012-08-01T00:00:00\",\"2012-09-01T00:00:00\",\"2012-10-01T00:00:00\",\"2012-11-01T00:00:00\",\"2012-12-01T00:00:00\",\"2013-01-01T00:00:00\",\"2013-02-01T00:00:00\",\"2013-03-01T00:00:00\",\"2013-04-01T00:00:00\",\"2013-05-01T00:00:00\",\"2013-06-01T00:00:00\",\"2013-07-01T00:00:00\",\"2013-08-01T00:00:00\",\"2013-09-01T00:00:00\",\"2013-10-01T00:00:00\",\"2013-11-01T00:00:00\",\"2013-12-01T00:00:00\",\"2014-01-01T00:00:00\",\"2014-02-01T00:00:00\",\"2014-03-01T00:00:00\",\"2014-04-01T00:00:00\",\"2014-05-01T00:00:00\",\"2014-06-01T00:00:00\",\"2014-07-01T00:00:00\",\"2014-08-01T00:00:00\",\"2014-09-01T00:00:00\",\"2014-10-01T00:00:00\",\"2014-11-01T00:00:00\",\"2014-12-01T00:00:00\",\"2015-01-01T00:00:00\",\"2015-02-01T00:00:00\",\"2015-03-01T00:00:00\",\"2015-04-01T00:00:00\",\"2015-05-01T00:00:00\",\"2015-06-01T00:00:00\",\"2015-07-01T00:00:00\",\"2015-08-01T00:00:00\",\"2015-09-01T00:00:00\",\"2015-10-01T00:00:00\",\"2015-11-01T00:00:00\",\"2015-12-01T00:00:00\",\"2016-01-01T00:00:00\",\"2016-02-01T00:00:00\",\"2016-03-01T00:00:00\",\"2016-04-01T00:00:00\",\"2016-05-01T00:00:00\",\"2016-06-01T00:00:00\",\"2016-07-01T00:00:00\",\"2016-08-01T00:00:00\",\"2016-09-01T00:00:00\",\"2016-10-01T00:00:00\",\"2016-11-01T00:00:00\",\"2016-12-01T00:00:00\",\"2017-01-01T00:00:00\",\"2017-02-01T00:00:00\",\"2017-03-01T00:00:00\",\"2017-04-01T00:00:00\",\"2017-05-01T00:00:00\",\"2017-06-01T00:00:00\",\"2017-07-01T00:00:00\",\"2017-08-01T00:00:00\",\"2017-09-01T00:00:00\",\"2017-10-01T00:00:00\",\"2017-11-01T00:00:00\",\"2017-12-01T00:00:00\",\"2018-01-01T00:00:00\",\"2018-02-01T00:00:00\",\"2018-03-01T00:00:00\",\"2018-04-01T00:00:00\",\"2018-05-01T00:00:00\",\"2018-06-01T00:00:00\",\"2018-07-01T00:00:00\",\"2018-08-01T00:00:00\",\"2018-09-01T00:00:00\",\"2018-10-01T00:00:00\",\"2018-11-01T00:00:00\",\"2018-12-01T00:00:00\",\"2019-01-01T00:00:00\",\"2019-02-01T00:00:00\",\"2019-03-01T00:00:00\",\"2019-04-01T00:00:00\",\"2019-05-01T00:00:00\",\"2019-06-01T00:00:00\",\"2019-07-01T00:00:00\",\"2019-08-01T00:00:00\",\"2019-09-01T00:00:00\",\"2019-10-01T00:00:00\",\"2019-11-01T00:00:00\",\"2019-12-01T00:00:00\",\"2020-01-01T00:00:00\",\"2020-02-01T00:00:00\",\"2020-03-01T00:00:00\",\"2020-04-01T00:00:00\",\"2020-05-01T00:00:00\",\"2020-06-01T00:00:00\",\"2020-07-01T00:00:00\",\"2020-08-01T00:00:00\",\"2020-09-01T00:00:00\",\"2020-10-01T00:00:00\",\"2020-11-01T00:00:00\",\"2020-12-01T00:00:00\"],\"y\":[1.0961818816313227,1.0655328595781102,1.0234459375604785,0.9882692524796167,1.022099932185003,1.0213492926236467,1.0556219326745557,1.0530576198688442,1.0093532121815716,0.9729831931223404,0.998352179828711,1.0354079063734325,1.0342743137941095,1.0248085991227032,1.0558684526762339,1.1303578142886246,1.146619332084876,1.1506612990588647,1.1419048545883248,1.0602182887516285,1.0893973335991882,1.128574675794069,1.1732564735645696,1.212053217618194,1.21216499777207,1.2770975924676449,1.335712720042714,1.3652682731151486,1.3492073189408966,1.2499558127631072,1.2485771489573878,1.1923877092975774,1.2067394514541934,1.2475730223851769,1.2567258034197433,1.270994611217296,1.2776851315073723,1.283829206563108,1.3625569060583098,1.4532550389982966,1.5134528682321018,1.570035187887387,1.6235908085671278,1.670475592698832,1.7984365859412634,1.8756234037162798,1.9521116552706501,1.9936365340252846,2.0516205644340086,2.042996059502092,1.989741725724492,1.9853226995545126,2.0362834431181174,2.0036327673086296,1.9786890615740869,2.068150958352149,2.131246150994221,2.2380813450079975,2.28862094046766,2.2409973959826197,2.373071387125406,2.3495713759144237,2.276107077141135,2.316351977160468,2.3409920704716423,2.4114094150784493,2.4240582683737784,2.4743670402226785,2.437535771343356,2.5199145655247985,2.5303687964911212,2.580143197988297,2.5876233605248857,2.6291373859038916,2.6758352453432233,2.6379506924003016,2.5895336857321767,2.6079218428185578,2.6873051267838304,2.7117353453039654,2.768646526301077,2.7995917256287703,2.854896996392917,2.8571138128591174,2.798387759476917,2.83597825910049,2.9412279602277187,3.0274686208903963,2.9702576536900573,2.9096046701112908,2.9328230743367034,3.093528576855212,3.2116811955288562,3.0418952291262302,3.00422173066934,2.7638720304840945,2.789883898053194,2.711385446014205,2.857045503968768,2.9006122168059365,2.634287455091935,2.5899383842996766,2.5631710478110126,2.3350151285282825,1.8086312601863788,1.6061324064873055,1.6440450911518336,1.48220397985827,1.3312792713608148,1.4642749293404647,1.691043200226984,1.8959828465146749,1.8555352212773926,2.1023952155798264,2.1421534900556547,2.2371324254721765,2.143019354276429,2.2294917082312677,2.294559531363344,2.2026608522296773,2.283638294230722,2.502770903189503,2.5278434256088795,2.33584218252566,2.2594215009409404,2.469234931669273,2.337173357815488,2.5101693555020352,2.588085313999125,2.5679037288978197,2.760401841119801,2.801215982303279,2.991583052729443,3.0085528744881427,3.077340551349545,3.000293635973469,2.9448244527760945,2.8294915480352043,2.674213887149977,2.3924576843114,2.665743278928297,2.609531970134299,2.649784184209188,2.765240894861008,2.8774839098719576,2.9274715380171625,2.899700700602607,2.6449737767357653,2.725579424631632,2.765774525748064,2.8524542364355936,2.9327765199880287,2.9804136893167943,2.9817047971475694,3.022428227042982,3.1562027711307263,3.116067537717964,3.1701331995345114,3.2252350898977897,3.189101308457456,3.1195494528405754,3.2971007548586,3.1936796776626197,3.293039569576334,3.3902443735655385,3.4485240413722713,3.5148849825215187,3.3081274161512075,3.4294530959865344,3.5172941374977915,3.6089791864164025,3.6212325156008487,3.690722866228013,3.593909418633836,3.712953848179095,3.606177653758253,3.665978906514224,3.7284225504031645,3.698548711872071,3.5236132349331677,3.6728382176786436,3.59683238485269,3.65679940627166,3.638570748087155,3.553438972372639,3.5803559001483647,3.3667230126777925,3.307932940793478,3.5358258703090795,3.5244758430045677,3.455637707104048,3.425601075276022,3.440354135055848,3.6659418547195837,3.7344683982667695,3.7492996623840913,3.8266269583783536,3.8491569925589024,3.8570164711521824,3.8219592169490255,3.753448745697309,3.8401535715516295,3.939992488108693,3.949542354188617,4.048566220276458,4.075679298559365,4.089491377727056,4.144805442587651,4.178040752003612,4.246882031717742,4.244089859082991,4.3351600204225775,4.38011518749297,4.508103635846554,4.567439555786057,4.764195740131402,4.515044099428384,4.412096162301784,4.4128803645104036,4.463577564987547,4.489320311841107,4.685280588452311,4.769975187735311,4.801053058087179,4.566272917620548,4.736766803603425,4.3255020537512,4.5612051474612,4.714321694124188,4.790560670917613,4.930866655648346,4.723470834207057,5.003050470820324,4.9998245488765765,4.971236362460745,5.064870481485533,5.111259075899335,5.236516033326712,5.362043318426706,5.3642277464475425,4.937254801370959,4.343675292363658,4.78215411665047,4.927841029016502,4.962648928856541,5.171148052610229,5.462627371585553,5.310657159960889,5.138755787436386,5.6677874984886,5.84154871176425],\"mode\":\"lines\",\"line\":{},\"marker\":{}}];\n            var layout = {\"title\":\"Growth of 1 Euro\"};\n            var config = {};\n            Plotly.newPlot('31e0722c-7433-4359-8bb8-7a927b8dca87', data, layout, config);\r\n});\n            };\n            if ((typeof(requirejs) !==  typeof(Function)) || (typeof(requirejs.config) !== typeof(Function))) {\n                var script = document.createElement(\"script\");\n                script.setAttribute(\"src\", \"https://cdnjs.cloudflare.com/ajax/libs/require.js/2.3.6/require.min.js\");\n                script.onload = function(){\n                    renderPlotly_31e0722c743343598bb87a927b8dca87();\n                };\n                document.getElementsByTagName(\"head\")[0].appendChild(script);\n            }\n            else {\n                renderPlotly_31e0722c743343598bb87a927b8dca87();\n            }\r\n</script>\r\n"
     },
     "output_type": "unknown"
    }
   ],
   "source": [
    "topCumulativeChart\n"
   ]
  },
  {
   "cell_type": "markdown",
   "metadata": {},
   "source": [
    "We could create one normalized to have 10\\% annualized volatility\n",
    "for the entire period. This isn't dynamic rebalancing. We're\n",
    "just making the whole time-series have 10% vol.\n"
   ]
  },
  {
   "cell_type": "code",
   "execution_count": null,
   "metadata": {
    "dotnet_interactive": {
     "language": "fsharp"
    }
   },
   "outputs": [],
   "source": [
    "let top10PctVol =\n",
    "    let topAnnualizedVol = sqrt(12.0) * (top |> Seq.stDevBy(fun x -> x.Return))\n",
    "    // now lever to have 10% vol.\n",
    "    // We learned how to do this in volatility timing and it works so long\n",
    "    // as we have excess returns.\n",
    "    top \n",
    "    |> Array.map(fun x -> { x with Return = (0.1/topAnnualizedVol) * x.Return })\n"
   ]
  },
  {
   "cell_type": "markdown",
   "metadata": {},
   "source": [
    "Check to make sure it's 10\\% vol. \n"
   ]
  },
  {
   "cell_type": "code",
   "execution_count": null,
   "metadata": {
    "dotnet_interactive": {
     "language": "fsharp"
    }
   },
   "outputs": [
    {
     "data": {
      "text/html": "<div class=\"dni-plaintext\">0.1</div>"
     },
     "output_type": "unknown"
    }
   ],
   "source": [
    "sqrt(12.0) * (top10PctVol |> Seq.stDevBy(fun x -> x.Return)) \n"
   ]
  },
  {
   "cell_type": "markdown",
   "metadata": {},
   "source": [
    "Now do the plot \n"
   ]
  },
  {
   "cell_type": "code",
   "execution_count": null,
   "metadata": {
    "dotnet_interactive": {
     "language": "fsharp"
    }
   },
   "outputs": [],
   "source": [
    "let topNormalizedPlot =\n",
    "    top10PctVol\n",
    "    |> cumulateReturn\n",
    "    |> Array.map(fun x -> DateTime(x.YearMonth.Year,x.YearMonth.Month,1), x.Return)\n",
    "    |> Chart.Line \n",
    "    |> Chart.withTitle \"Growth of 1 Euro\"\n"
   ]
  },
  {
   "cell_type": "code",
   "execution_count": null,
   "metadata": {
    "dotnet_interactive": {
     "language": "fsharp"
    }
   },
   "outputs": [
    {
     "data": {
      "text/html": "<div id=\"bcaa4e13-9f19-4b2a-9084-0354e7b83522\" style=\"width: 600px; height: 600px;\"><!-- Plotly chart will be drawn inside this DIV --></div>\r\n<script type=\"text/javascript\">\r\n\n            var renderPlotly_bcaa4e139f194b2a90840354e7b83522 = function() {\n            var fsharpPlotlyRequire = requirejs.config({context:'fsharp-plotly',paths:{plotly:'https://cdn.plot.ly/plotly-latest.min'}}) || require;\n            fsharpPlotlyRequire(['plotly'], function(Plotly) {\r\n\n            var data = [{\"type\":\"scatter\",\"x\":[\"2000-02-01T00:00:00\",\"2000-03-01T00:00:00\",\"2000-04-01T00:00:00\",\"2000-05-01T00:00:00\",\"2000-06-01T00:00:00\",\"2000-07-01T00:00:00\",\"2000-08-01T00:00:00\",\"2000-09-01T00:00:00\",\"2000-10-01T00:00:00\",\"2000-11-01T00:00:00\",\"2000-12-01T00:00:00\",\"2001-01-01T00:00:00\",\"2001-02-01T00:00:00\",\"2001-03-01T00:00:00\",\"2001-04-01T00:00:00\",\"2001-05-01T00:00:00\",\"2001-06-01T00:00:00\",\"2001-07-01T00:00:00\",\"2001-08-01T00:00:00\",\"2001-09-01T00:00:00\",\"2001-10-01T00:00:00\",\"2001-11-01T00:00:00\",\"2001-12-01T00:00:00\",\"2002-01-01T00:00:00\",\"2002-02-01T00:00:00\",\"2002-03-01T00:00:00\",\"2002-04-01T00:00:00\",\"2002-05-01T00:00:00\",\"2002-06-01T00:00:00\",\"2002-07-01T00:00:00\",\"2002-08-01T00:00:00\",\"2002-09-01T00:00:00\",\"2002-10-01T00:00:00\",\"2002-11-01T00:00:00\",\"2002-12-01T00:00:00\",\"2003-01-01T00:00:00\",\"2003-02-01T00:00:00\",\"2003-03-01T00:00:00\",\"2003-04-01T00:00:00\",\"2003-05-01T00:00:00\",\"2003-06-01T00:00:00\",\"2003-07-01T00:00:00\",\"2003-08-01T00:00:00\",\"2003-09-01T00:00:00\",\"2003-10-01T00:00:00\",\"2003-11-01T00:00:00\",\"2003-12-01T00:00:00\",\"2004-01-01T00:00:00\",\"2004-02-01T00:00:00\",\"2004-03-01T00:00:00\",\"2004-04-01T00:00:00\",\"2004-05-01T00:00:00\",\"2004-06-01T00:00:00\",\"2004-07-01T00:00:00\",\"2004-08-01T00:00:00\",\"2004-09-01T00:00:00\",\"2004-10-01T00:00:00\",\"2004-11-01T00:00:00\",\"2004-12-01T00:00:00\",\"2005-01-01T00:00:00\",\"2005-02-01T00:00:00\",\"2005-03-01T00:00:00\",\"2005-04-01T00:00:00\",\"2005-05-01T00:00:00\",\"2005-06-01T00:00:00\",\"2005-07-01T00:00:00\",\"2005-08-01T00:00:00\",\"2005-09-01T00:00:00\",\"2005-10-01T00:00:00\",\"2005-11-01T00:00:00\",\"2005-12-01T00:00:00\",\"2006-01-01T00:00:00\",\"2006-02-01T00:00:00\",\"2006-03-01T00:00:00\",\"2006-04-01T00:00:00\",\"2006-05-01T00:00:00\",\"2006-06-01T00:00:00\",\"2006-07-01T00:00:00\",\"2006-08-01T00:00:00\",\"2006-09-01T00:00:00\",\"2006-10-01T00:00:00\",\"2006-11-01T00:00:00\",\"2006-12-01T00:00:00\",\"2007-01-01T00:00:00\",\"2007-02-01T00:00:00\",\"2007-03-01T00:00:00\",\"2007-04-01T00:00:00\",\"2007-05-01T00:00:00\",\"2007-06-01T00:00:00\",\"2007-07-01T00:00:00\",\"2007-08-01T00:00:00\",\"2007-09-01T00:00:00\",\"2007-10-01T00:00:00\",\"2007-11-01T00:00:00\",\"2007-12-01T00:00:00\",\"2008-01-01T00:00:00\",\"2008-02-01T00:00:00\",\"2008-03-01T00:00:00\",\"2008-04-01T00:00:00\",\"2008-05-01T00:00:00\",\"2008-06-01T00:00:00\",\"2008-07-01T00:00:00\",\"2008-08-01T00:00:00\",\"2008-09-01T00:00:00\",\"2008-10-01T00:00:00\",\"2008-11-01T00:00:00\",\"2008-12-01T00:00:00\",\"2009-01-01T00:00:00\",\"2009-02-01T00:00:00\",\"2009-03-01T00:00:00\",\"2009-04-01T00:00:00\",\"2009-05-01T00:00:00\",\"2009-06-01T00:00:00\",\"2009-07-01T00:00:00\",\"2009-08-01T00:00:00\",\"2009-09-01T00:00:00\",\"2009-10-01T00:00:00\",\"2009-11-01T00:00:00\",\"2009-12-01T00:00:00\",\"2010-01-01T00:00:00\",\"2010-02-01T00:00:00\",\"2010-03-01T00:00:00\",\"2010-04-01T00:00:00\",\"2010-05-01T00:00:00\",\"2010-06-01T00:00:00\",\"2010-07-01T00:00:00\",\"2010-08-01T00:00:00\",\"2010-09-01T00:00:00\",\"2010-10-01T00:00:00\",\"2010-11-01T00:00:00\",\"2010-12-01T00:00:00\",\"2011-01-01T00:00:00\",\"2011-02-01T00:00:00\",\"2011-03-01T00:00:00\",\"2011-04-01T00:00:00\",\"2011-05-01T00:00:00\",\"2011-06-01T00:00:00\",\"2011-07-01T00:00:00\",\"2011-08-01T00:00:00\",\"2011-09-01T00:00:00\",\"2011-10-01T00:00:00\",\"2011-11-01T00:00:00\",\"2011-12-01T00:00:00\",\"2012-01-01T00:00:00\",\"2012-02-01T00:00:00\",\"2012-03-01T00:00:00\",\"2012-04-01T00:00:00\",\"2012-05-01T00:00:00\",\"2012-06-01T00:00:00\",\"2012-07-01T00:00:00\",\"2012-08-01T00:00:00\",\"2012-09-01T00:00:00\",\"2012-10-01T00:00:00\",\"2012-11-01T00:00:00\",\"2012-12-01T00:00:00\",\"2013-01-01T00:00:00\",\"2013-02-01T00:00:00\",\"2013-03-01T00:00:00\",\"2013-04-01T00:00:00\",\"2013-05-01T00:00:00\",\"2013-06-01T00:00:00\",\"2013-07-01T00:00:00\",\"2013-08-01T00:00:00\",\"2013-09-01T00:00:00\",\"2013-10-01T00:00:00\",\"2013-11-01T00:00:00\",\"2013-12-01T00:00:00\",\"2014-01-01T00:00:00\",\"2014-02-01T00:00:00\",\"2014-03-01T00:00:00\",\"2014-04-01T00:00:00\",\"2014-05-01T00:00:00\",\"2014-06-01T00:00:00\",\"2014-07-01T00:00:00\",\"2014-08-01T00:00:00\",\"2014-09-01T00:00:00\",\"2014-10-01T00:00:00\",\"2014-11-01T00:00:00\",\"2014-12-01T00:00:00\",\"2015-01-01T00:00:00\",\"2015-02-01T00:00:00\",\"2015-03-01T00:00:00\",\"2015-04-01T00:00:00\",\"2015-05-01T00:00:00\",\"2015-06-01T00:00:00\",\"2015-07-01T00:00:00\",\"2015-08-01T00:00:00\",\"2015-09-01T00:00:00\",\"2015-10-01T00:00:00\",\"2015-11-01T00:00:00\",\"2015-12-01T00:00:00\",\"2016-01-01T00:00:00\",\"2016-02-01T00:00:00\",\"2016-03-01T00:00:00\",\"2016-04-01T00:00:00\",\"2016-05-01T00:00:00\",\"2016-06-01T00:00:00\",\"2016-07-01T00:00:00\",\"2016-08-01T00:00:00\",\"2016-09-01T00:00:00\",\"2016-10-01T00:00:00\",\"2016-11-01T00:00:00\",\"2016-12-01T00:00:00\",\"2017-01-01T00:00:00\",\"2017-02-01T00:00:00\",\"2017-03-01T00:00:00\",\"2017-04-01T00:00:00\",\"2017-05-01T00:00:00\",\"2017-06-01T00:00:00\",\"2017-07-01T00:00:00\",\"2017-08-01T00:00:00\",\"2017-09-01T00:00:00\",\"2017-10-01T00:00:00\",\"2017-11-01T00:00:00\",\"2017-12-01T00:00:00\",\"2018-01-01T00:00:00\",\"2018-02-01T00:00:00\",\"2018-03-01T00:00:00\",\"2018-04-01T00:00:00\",\"2018-05-01T00:00:00\",\"2018-06-01T00:00:00\",\"2018-07-01T00:00:00\",\"2018-08-01T00:00:00\",\"2018-09-01T00:00:00\",\"2018-10-01T00:00:00\",\"2018-11-01T00:00:00\",\"2018-12-01T00:00:00\",\"2019-01-01T00:00:00\",\"2019-02-01T00:00:00\",\"2019-03-01T00:00:00\",\"2019-04-01T00:00:00\",\"2019-05-01T00:00:00\",\"2019-06-01T00:00:00\",\"2019-07-01T00:00:00\",\"2019-08-01T00:00:00\",\"2019-09-01T00:00:00\",\"2019-10-01T00:00:00\",\"2019-11-01T00:00:00\",\"2019-12-01T00:00:00\",\"2020-01-01T00:00:00\",\"2020-02-01T00:00:00\",\"2020-03-01T00:00:00\",\"2020-04-01T00:00:00\",\"2020-05-01T00:00:00\",\"2020-06-01T00:00:00\",\"2020-07-01T00:00:00\",\"2020-08-01T00:00:00\",\"2020-09-01T00:00:00\",\"2020-10-01T00:00:00\",\"2020-11-01T00:00:00\",\"2020-12-01T00:00:00\"],\"y\":[1.0625819160507468,1.0432510189442137,1.016439296054512,0.9937078513840998,1.015841333689782,1.0153559115765178,1.0375249652919787,1.0358850676610851,1.0079119892238289,0.9842811820152418,1.0009794932361376,1.0251537053936173,1.0244234242453236,1.0183231022778714,1.0384046797939988,1.086070455104084,1.096236656850477,1.0987510512914485,1.0933105968013594,1.042422071783194,1.061089090587998,1.0859179116196256,1.1138918053699827,1.1378581012230566,1.1379263801530872,1.1775880294998866,1.2127549708638754,1.230215390572341,1.2207988780651786,1.1623658858899302,1.1615317013136128,1.1275201866771694,1.1363503156127042,1.1613694150594063,1.166913285457005,1.1755339615350802,1.1795602691276783,1.1832509661460444,1.230463005884925,1.2837557208232675,1.3183557903710004,1.3504258719556472,1.3803983055921496,1.4063350427476413,1.476429205573463,1.517659479633795,1.5579292372800677,1.579492130532915,1.6093827880766909,1.6049807674795995,1.5777592177405044,1.5754792632466668,1.60179241835901,1.585080905590756,1.5722413536089295,1.6184938683905077,1.650621645647936,1.7044590178244317,1.729502691957721,1.7060860466784884,1.7715093498916379,1.7600948654097957,1.7242869237300618,1.7441242567902475,1.7561960226788482,1.7905682976443162,1.7966795002318328,1.8209415148245816,1.8033053502452885,1.842959559200328,1.8479343825723538,1.871586191173761,1.8751166621346855,1.8946905755481052,1.916587220391564,1.8989314378367634,1.8762538878097763,1.8849227845945407,1.9222549894238992,1.9336254211394701,1.96002993827411,1.9742841781590972,1.9996609908069993,2.0006712929079735,1.973914466442206,1.9911670493114562,2.039248909079769,2.078154249011334,2.0526017720360206,2.0253296876774387,2.035845666385356,2.1084304056581566,2.1608271226686133,2.0865004021395603,2.069686606698767,1.9619478951678646,1.973962145015233,1.937823707713265,2.005559633251634,2.0254585210005205,1.9044542176355372,1.8835926238485627,1.8709260752435732,1.7625667314919957,1.5040348970310937,1.3944663163735571,1.415883719378225,1.32519394910146,1.2373953873885786,1.3178280363481958,1.4506206721602435,1.565008741143547,1.5432851820954345,1.6768780536872223,1.6975114269886642,1.7464831071882227,1.6986775670707586,1.7432758076903683,1.7763799321347526,1.7300884181898692,1.7714731653278006,1.8820769166043916,1.8943448069604496,1.8007248389066526,1.7623920558214163,1.8688784548395208,1.8038429223462067,1.8907188454163417,1.9289050006627035,1.919118146634328,2.012724437249782,2.0320876875865337,2.121942897298106,2.129774767760625,2.1614589321609605,2.126247614984898,2.100670153692691,2.0471389176806722,1.974041256687166,1.8387127910879333,1.9753729617217575,1.9482704172317393,1.9678242535152046,2.0236135098503465,2.077058808685824,2.100536425297732,2.0875711393916965,1.968249682255041,2.0072780042262868,2.026538940559779,2.067863784366161,2.105751190663037,2.1280062941484497,2.1286061051960186,2.1475221613671773,2.209368034305331,2.191087682516082,2.2158237128940668,2.24088363866764,2.2245483456358914,2.192981016328135,2.274193435128156,2.2277782778624484,2.2728752420510645,2.3165290329854624,2.342439748018165,2.3717691558209677,2.280991639337045,2.335423074473164,2.374344950270338,2.4146156553940883,2.4199499048581976,2.450165423563012,2.4083462694611057,2.460252138595336,2.4142169324924345,2.440266171608297,2.4673114254931603,2.4544483310075984,2.3789119747849217,2.4444641736103008,2.411549891553077,2.4377102756341484,2.4298036488704713,2.392813367485751,2.4046068221228207,2.311250964539876,2.2849906879700717,2.387417622576138,2.382431189219053,2.3521543513166945,2.3388515093791633,2.3454054658474153,2.445471301039561,2.4752147558153097,2.481610894212131,2.5149130190729196,2.524547410337753,2.5279014425432718,2.5129514103242707,2.483641763571141,2.520971706089202,2.563617364599286,2.5676604291834586,2.609548106311808,2.620919101474979,2.6266983085783115,2.649815339760133,2.6636403917547664,2.6921970537978552,2.691045366703616,2.7286176978528363,2.747028502142656,2.7992565741855584,2.823229557444417,2.9023625084903557,2.803602436695569,2.7620087259275032,2.762328147118494,2.782976845464694,2.7934201268431234,2.8727577700249487,2.9065467209048053,2.918868346995156,2.8259941768664016,2.8946494333436563,2.731121840565916,2.827955294351071,2.8897243051153865,2.9201310438100445,2.9757788156096687,2.894339713219265,3.0058075025742377,3.004546442658275,2.993368384911124,3.0300531270050097,3.0481102559461886,3.0967129365017634,3.145013503997647,3.1458471573900786,2.9829226735234218,2.749581734471612,2.930179965820418,2.9882626732684225,3.001996624095574,3.0840613393928806,3.197170913719473,3.139297602436742,3.073179686849987,3.279037458239534,3.3444470209825443],\"mode\":\"lines\",\"line\":{},\"marker\":{}}];\n            var layout = {\"title\":\"Growth of 1 Euro\"};\n            var config = {};\n            Plotly.newPlot('bcaa4e13-9f19-4b2a-9084-0354e7b83522', data, layout, config);\r\n});\n            };\n            if ((typeof(requirejs) !==  typeof(Function)) || (typeof(requirejs.config) !== typeof(Function))) {\n                var script = document.createElement(\"script\");\n                script.setAttribute(\"src\", \"https://cdnjs.cloudflare.com/ajax/libs/require.js/2.3.6/require.min.js\");\n                script.onload = function(){\n                    renderPlotly_bcaa4e139f194b2a90840354e7b83522();\n                };\n                document.getElementsByTagName(\"head\")[0].appendChild(script);\n            }\n            else {\n                renderPlotly_bcaa4e139f194b2a90840354e7b83522();\n            }\r\n</script>\r\n"
     },
     "output_type": "unknown"
    }
   ],
   "source": [
    "topNormalizedPlot\n"
   ]
  },
  {
   "cell_type": "markdown",
   "metadata": {},
   "source": [
    "We could write a function to do the vol normalization. \n"
   ]
  },
  {
   "cell_type": "code",
   "execution_count": null,
   "metadata": {
    "dotnet_interactive": {
     "language": "fsharp"
    }
   },
   "outputs": [],
   "source": [
    "let normalizeToTenPct (xs:PortfolioReturn array) =\n",
    "    let annualizedVol = sqrt(12.0) * (xs |> Seq.stDevBy(fun x -> x.Return))\n",
    "    xs \n",
    "    |> Array.map(fun x -> \n",
    "        { x with Return = (0.1/annualizedVol) * x.Return })\n"
   ]
  },
  {
   "cell_type": "markdown",
   "metadata": {},
   "source": [
    "Check that it does all ports correctly: \n"
   ]
  },
  {
   "cell_type": "code",
   "execution_count": null,
   "metadata": {
    "dotnet_interactive": {
     "language": "fsharp"
    }
   },
   "outputs": [
    {
     "data": {
      "text/html": "<table><thead><tr><th><i>index</i></th><th>Item1</th><th>Item2</th></tr></thead><tbody><tr><td>0</td><td><table><thead><tr><th>name</th><th>index</th></tr></thead><tbody><tr><td><div class=\"dni-plaintext\">Mine</div></td><td><div class=\"dni-plaintext\">1</div></td></tr></tbody></table></td><td><div class=\"dni-plaintext\">0.09999999999999998</div></td></tr><tr><td>1</td><td><table><thead><tr><th>name</th><th>index</th></tr></thead><tbody><tr><td><div class=\"dni-plaintext\">Mine</div></td><td><div class=\"dni-plaintext\">2</div></td></tr></tbody></table></td><td><div class=\"dni-plaintext\">0.10000000000000003</div></td></tr><tr><td>2</td><td><table><thead><tr><th>name</th><th>index</th></tr></thead><tbody><tr><td><div class=\"dni-plaintext\">Mine</div></td><td><div class=\"dni-plaintext\">3</div></td></tr></tbody></table></td><td><div class=\"dni-plaintext\">0.1</div></td></tr></tbody></table>"
     },
     "output_type": "unknown"
    }
   ],
   "source": [
    "portfolioExcessReturns\n",
    "|> Array.groupBy(fun port -> port.PortfolioId)\n",
    "|> Array.map(fun (portId, xs) ->\n",
    "    let normalized = xs |> normalizeToTenPct  \n",
    "    portId,\n",
    "    sqrt(12.0)*(normalized |> Seq.stDevBy(fun x -> x.Return)))\n"
   ]
  },
  {
   "cell_type": "markdown",
   "metadata": {},
   "source": [
    "And function to do the plot \n"
   ]
  },
  {
   "cell_type": "code",
   "execution_count": null,
   "metadata": {
    "dotnet_interactive": {
     "language": "fsharp"
    }
   },
   "outputs": [],
   "source": [
    "let portfolioReturnPlot (xs:PortfolioReturn array) =\n",
    "    xs\n",
    "    |> Array.map(fun x -> DateTime(x.YearMonth.Year,x.YearMonth.Month,1), x.Return)\n",
    "    |> Chart.Line \n",
    "    |> Chart.withTitle \"Growth of 1 Euro\"\n"
   ]
  },
  {
   "cell_type": "markdown",
   "metadata": {},
   "source": [
    "Using the functions: \n"
   ]
  },
  {
   "cell_type": "code",
   "execution_count": null,
   "metadata": {
    "dotnet_interactive": {
     "language": "fsharp"
    }
   },
   "outputs": [],
   "source": [
    "let topWithFunctionsPlot =\n",
    "    top\n",
    "    |> normalizeToTenPct\n",
    "    |> cumulateReturn\n",
    "    |> portfolioReturnPlot\n"
   ]
  },
  {
   "cell_type": "code",
   "execution_count": null,
   "metadata": {
    "dotnet_interactive": {
     "language": "fsharp"
    }
   },
   "outputs": [
    {
     "data": {
      "text/html": "<div id=\"a0b4a83f-00e7-4447-af23-9c81ff4fac45\" style=\"width: 600px; height: 600px;\"><!-- Plotly chart will be drawn inside this DIV --></div>\r\n<script type=\"text/javascript\">\r\n\n            var renderPlotly_a0b4a83f00e74447af239c81ff4fac45 = function() {\n            var fsharpPlotlyRequire = requirejs.config({context:'fsharp-plotly',paths:{plotly:'https://cdn.plot.ly/plotly-latest.min'}}) || require;\n            fsharpPlotlyRequire(['plotly'], function(Plotly) {\r\n\n            var data = [{\"type\":\"scatter\",\"x\":[\"2000-02-01T00:00:00\",\"2000-03-01T00:00:00\",\"2000-04-01T00:00:00\",\"2000-05-01T00:00:00\",\"2000-06-01T00:00:00\",\"2000-07-01T00:00:00\",\"2000-08-01T00:00:00\",\"2000-09-01T00:00:00\",\"2000-10-01T00:00:00\",\"2000-11-01T00:00:00\",\"2000-12-01T00:00:00\",\"2001-01-01T00:00:00\",\"2001-02-01T00:00:00\",\"2001-03-01T00:00:00\",\"2001-04-01T00:00:00\",\"2001-05-01T00:00:00\",\"2001-06-01T00:00:00\",\"2001-07-01T00:00:00\",\"2001-08-01T00:00:00\",\"2001-09-01T00:00:00\",\"2001-10-01T00:00:00\",\"2001-11-01T00:00:00\",\"2001-12-01T00:00:00\",\"2002-01-01T00:00:00\",\"2002-02-01T00:00:00\",\"2002-03-01T00:00:00\",\"2002-04-01T00:00:00\",\"2002-05-01T00:00:00\",\"2002-06-01T00:00:00\",\"2002-07-01T00:00:00\",\"2002-08-01T00:00:00\",\"2002-09-01T00:00:00\",\"2002-10-01T00:00:00\",\"2002-11-01T00:00:00\",\"2002-12-01T00:00:00\",\"2003-01-01T00:00:00\",\"2003-02-01T00:00:00\",\"2003-03-01T00:00:00\",\"2003-04-01T00:00:00\",\"2003-05-01T00:00:00\",\"2003-06-01T00:00:00\",\"2003-07-01T00:00:00\",\"2003-08-01T00:00:00\",\"2003-09-01T00:00:00\",\"2003-10-01T00:00:00\",\"2003-11-01T00:00:00\",\"2003-12-01T00:00:00\",\"2004-01-01T00:00:00\",\"2004-02-01T00:00:00\",\"2004-03-01T00:00:00\",\"2004-04-01T00:00:00\",\"2004-05-01T00:00:00\",\"2004-06-01T00:00:00\",\"2004-07-01T00:00:00\",\"2004-08-01T00:00:00\",\"2004-09-01T00:00:00\",\"2004-10-01T00:00:00\",\"2004-11-01T00:00:00\",\"2004-12-01T00:00:00\",\"2005-01-01T00:00:00\",\"2005-02-01T00:00:00\",\"2005-03-01T00:00:00\",\"2005-04-01T00:00:00\",\"2005-05-01T00:00:00\",\"2005-06-01T00:00:00\",\"2005-07-01T00:00:00\",\"2005-08-01T00:00:00\",\"2005-09-01T00:00:00\",\"2005-10-01T00:00:00\",\"2005-11-01T00:00:00\",\"2005-12-01T00:00:00\",\"2006-01-01T00:00:00\",\"2006-02-01T00:00:00\",\"2006-03-01T00:00:00\",\"2006-04-01T00:00:00\",\"2006-05-01T00:00:00\",\"2006-06-01T00:00:00\",\"2006-07-01T00:00:00\",\"2006-08-01T00:00:00\",\"2006-09-01T00:00:00\",\"2006-10-01T00:00:00\",\"2006-11-01T00:00:00\",\"2006-12-01T00:00:00\",\"2007-01-01T00:00:00\",\"2007-02-01T00:00:00\",\"2007-03-01T00:00:00\",\"2007-04-01T00:00:00\",\"2007-05-01T00:00:00\",\"2007-06-01T00:00:00\",\"2007-07-01T00:00:00\",\"2007-08-01T00:00:00\",\"2007-09-01T00:00:00\",\"2007-10-01T00:00:00\",\"2007-11-01T00:00:00\",\"2007-12-01T00:00:00\",\"2008-01-01T00:00:00\",\"2008-02-01T00:00:00\",\"2008-03-01T00:00:00\",\"2008-04-01T00:00:00\",\"2008-05-01T00:00:00\",\"2008-06-01T00:00:00\",\"2008-07-01T00:00:00\",\"2008-08-01T00:00:00\",\"2008-09-01T00:00:00\",\"2008-10-01T00:00:00\",\"2008-11-01T00:00:00\",\"2008-12-01T00:00:00\",\"2009-01-01T00:00:00\",\"2009-02-01T00:00:00\",\"2009-03-01T00:00:00\",\"2009-04-01T00:00:00\",\"2009-05-01T00:00:00\",\"2009-06-01T00:00:00\",\"2009-07-01T00:00:00\",\"2009-08-01T00:00:00\",\"2009-09-01T00:00:00\",\"2009-10-01T00:00:00\",\"2009-11-01T00:00:00\",\"2009-12-01T00:00:00\",\"2010-01-01T00:00:00\",\"2010-02-01T00:00:00\",\"2010-03-01T00:00:00\",\"2010-04-01T00:00:00\",\"2010-05-01T00:00:00\",\"2010-06-01T00:00:00\",\"2010-07-01T00:00:00\",\"2010-08-01T00:00:00\",\"2010-09-01T00:00:00\",\"2010-10-01T00:00:00\",\"2010-11-01T00:00:00\",\"2010-12-01T00:00:00\",\"2011-01-01T00:00:00\",\"2011-02-01T00:00:00\",\"2011-03-01T00:00:00\",\"2011-04-01T00:00:00\",\"2011-05-01T00:00:00\",\"2011-06-01T00:00:00\",\"2011-07-01T00:00:00\",\"2011-08-01T00:00:00\",\"2011-09-01T00:00:00\",\"2011-10-01T00:00:00\",\"2011-11-01T00:00:00\",\"2011-12-01T00:00:00\",\"2012-01-01T00:00:00\",\"2012-02-01T00:00:00\",\"2012-03-01T00:00:00\",\"2012-04-01T00:00:00\",\"2012-05-01T00:00:00\",\"2012-06-01T00:00:00\",\"2012-07-01T00:00:00\",\"2012-08-01T00:00:00\",\"2012-09-01T00:00:00\",\"2012-10-01T00:00:00\",\"2012-11-01T00:00:00\",\"2012-12-01T00:00:00\",\"2013-01-01T00:00:00\",\"2013-02-01T00:00:00\",\"2013-03-01T00:00:00\",\"2013-04-01T00:00:00\",\"2013-05-01T00:00:00\",\"2013-06-01T00:00:00\",\"2013-07-01T00:00:00\",\"2013-08-01T00:00:00\",\"2013-09-01T00:00:00\",\"2013-10-01T00:00:00\",\"2013-11-01T00:00:00\",\"2013-12-01T00:00:00\",\"2014-01-01T00:00:00\",\"2014-02-01T00:00:00\",\"2014-03-01T00:00:00\",\"2014-04-01T00:00:00\",\"2014-05-01T00:00:00\",\"2014-06-01T00:00:00\",\"2014-07-01T00:00:00\",\"2014-08-01T00:00:00\",\"2014-09-01T00:00:00\",\"2014-10-01T00:00:00\",\"2014-11-01T00:00:00\",\"2014-12-01T00:00:00\",\"2015-01-01T00:00:00\",\"2015-02-01T00:00:00\",\"2015-03-01T00:00:00\",\"2015-04-01T00:00:00\",\"2015-05-01T00:00:00\",\"2015-06-01T00:00:00\",\"2015-07-01T00:00:00\",\"2015-08-01T00:00:00\",\"2015-09-01T00:00:00\",\"2015-10-01T00:00:00\",\"2015-11-01T00:00:00\",\"2015-12-01T00:00:00\",\"2016-01-01T00:00:00\",\"2016-02-01T00:00:00\",\"2016-03-01T00:00:00\",\"2016-04-01T00:00:00\",\"2016-05-01T00:00:00\",\"2016-06-01T00:00:00\",\"2016-07-01T00:00:00\",\"2016-08-01T00:00:00\",\"2016-09-01T00:00:00\",\"2016-10-01T00:00:00\",\"2016-11-01T00:00:00\",\"2016-12-01T00:00:00\",\"2017-01-01T00:00:00\",\"2017-02-01T00:00:00\",\"2017-03-01T00:00:00\",\"2017-04-01T00:00:00\",\"2017-05-01T00:00:00\",\"2017-06-01T00:00:00\",\"2017-07-01T00:00:00\",\"2017-08-01T00:00:00\",\"2017-09-01T00:00:00\",\"2017-10-01T00:00:00\",\"2017-11-01T00:00:00\",\"2017-12-01T00:00:00\",\"2018-01-01T00:00:00\",\"2018-02-01T00:00:00\",\"2018-03-01T00:00:00\",\"2018-04-01T00:00:00\",\"2018-05-01T00:00:00\",\"2018-06-01T00:00:00\",\"2018-07-01T00:00:00\",\"2018-08-01T00:00:00\",\"2018-09-01T00:00:00\",\"2018-10-01T00:00:00\",\"2018-11-01T00:00:00\",\"2018-12-01T00:00:00\",\"2019-01-01T00:00:00\",\"2019-02-01T00:00:00\",\"2019-03-01T00:00:00\",\"2019-04-01T00:00:00\",\"2019-05-01T00:00:00\",\"2019-06-01T00:00:00\",\"2019-07-01T00:00:00\",\"2019-08-01T00:00:00\",\"2019-09-01T00:00:00\",\"2019-10-01T00:00:00\",\"2019-11-01T00:00:00\",\"2019-12-01T00:00:00\",\"2020-01-01T00:00:00\",\"2020-02-01T00:00:00\",\"2020-03-01T00:00:00\",\"2020-04-01T00:00:00\",\"2020-05-01T00:00:00\",\"2020-06-01T00:00:00\",\"2020-07-01T00:00:00\",\"2020-08-01T00:00:00\",\"2020-09-01T00:00:00\",\"2020-10-01T00:00:00\",\"2020-11-01T00:00:00\",\"2020-12-01T00:00:00\"],\"y\":[1.0625819160507468,1.0432510189442137,1.016439296054512,0.9937078513840998,1.015841333689782,1.0153559115765178,1.0375249652919787,1.0358850676610851,1.0079119892238289,0.9842811820152418,1.0009794932361376,1.0251537053936173,1.0244234242453236,1.0183231022778714,1.0384046797939988,1.086070455104084,1.096236656850477,1.0987510512914485,1.0933105968013594,1.042422071783194,1.061089090587998,1.0859179116196256,1.1138918053699827,1.1378581012230566,1.1379263801530872,1.1775880294998866,1.2127549708638754,1.230215390572341,1.2207988780651786,1.1623658858899302,1.1615317013136128,1.1275201866771694,1.1363503156127042,1.1613694150594063,1.166913285457005,1.1755339615350802,1.1795602691276783,1.1832509661460444,1.230463005884925,1.2837557208232675,1.3183557903710004,1.3504258719556472,1.3803983055921496,1.4063350427476413,1.476429205573463,1.517659479633795,1.5579292372800677,1.579492130532915,1.6093827880766909,1.6049807674795995,1.5777592177405044,1.5754792632466668,1.60179241835901,1.585080905590756,1.5722413536089295,1.6184938683905077,1.650621645647936,1.7044590178244317,1.729502691957721,1.7060860466784884,1.7715093498916379,1.7600948654097957,1.7242869237300618,1.7441242567902475,1.7561960226788482,1.7905682976443162,1.7966795002318328,1.8209415148245816,1.8033053502452885,1.842959559200328,1.8479343825723538,1.871586191173761,1.8751166621346855,1.8946905755481052,1.916587220391564,1.8989314378367634,1.8762538878097763,1.8849227845945407,1.9222549894238992,1.9336254211394701,1.96002993827411,1.9742841781590972,1.9996609908069993,2.0006712929079735,1.973914466442206,1.9911670493114562,2.039248909079769,2.078154249011334,2.0526017720360206,2.0253296876774387,2.035845666385356,2.1084304056581566,2.1608271226686133,2.0865004021395603,2.069686606698767,1.9619478951678646,1.973962145015233,1.937823707713265,2.005559633251634,2.0254585210005205,1.9044542176355372,1.8835926238485627,1.8709260752435732,1.7625667314919957,1.5040348970310937,1.3944663163735571,1.415883719378225,1.32519394910146,1.2373953873885786,1.3178280363481958,1.4506206721602435,1.565008741143547,1.5432851820954345,1.6768780536872223,1.6975114269886642,1.7464831071882227,1.6986775670707586,1.7432758076903683,1.7763799321347526,1.7300884181898692,1.7714731653278006,1.8820769166043916,1.8943448069604496,1.8007248389066526,1.7623920558214163,1.8688784548395208,1.8038429223462067,1.8907188454163417,1.9289050006627035,1.919118146634328,2.012724437249782,2.0320876875865337,2.121942897298106,2.129774767760625,2.1614589321609605,2.126247614984898,2.100670153692691,2.0471389176806722,1.974041256687166,1.8387127910879333,1.9753729617217575,1.9482704172317393,1.9678242535152046,2.0236135098503465,2.077058808685824,2.100536425297732,2.0875711393916965,1.968249682255041,2.0072780042262868,2.026538940559779,2.067863784366161,2.105751190663037,2.1280062941484497,2.1286061051960186,2.1475221613671773,2.209368034305331,2.191087682516082,2.2158237128940668,2.24088363866764,2.2245483456358914,2.192981016328135,2.274193435128156,2.2277782778624484,2.2728752420510645,2.3165290329854624,2.342439748018165,2.3717691558209677,2.280991639337045,2.335423074473164,2.374344950270338,2.4146156553940883,2.4199499048581976,2.450165423563012,2.4083462694611057,2.460252138595336,2.4142169324924345,2.440266171608297,2.4673114254931603,2.4544483310075984,2.3789119747849217,2.4444641736103008,2.411549891553077,2.4377102756341484,2.4298036488704713,2.392813367485751,2.4046068221228207,2.311250964539876,2.2849906879700717,2.387417622576138,2.382431189219053,2.3521543513166945,2.3388515093791633,2.3454054658474153,2.445471301039561,2.4752147558153097,2.481610894212131,2.5149130190729196,2.524547410337753,2.5279014425432718,2.5129514103242707,2.483641763571141,2.520971706089202,2.563617364599286,2.5676604291834586,2.609548106311808,2.620919101474979,2.6266983085783115,2.649815339760133,2.6636403917547664,2.6921970537978552,2.691045366703616,2.7286176978528363,2.747028502142656,2.7992565741855584,2.823229557444417,2.9023625084903557,2.803602436695569,2.7620087259275032,2.762328147118494,2.782976845464694,2.7934201268431234,2.8727577700249487,2.9065467209048053,2.918868346995156,2.8259941768664016,2.8946494333436563,2.731121840565916,2.827955294351071,2.8897243051153865,2.9201310438100445,2.9757788156096687,2.894339713219265,3.0058075025742377,3.004546442658275,2.993368384911124,3.0300531270050097,3.0481102559461886,3.0967129365017634,3.145013503997647,3.1458471573900786,2.9829226735234218,2.749581734471612,2.930179965820418,2.9882626732684225,3.001996624095574,3.0840613393928806,3.197170913719473,3.139297602436742,3.073179686849987,3.279037458239534,3.3444470209825443],\"mode\":\"lines\",\"line\":{},\"marker\":{}}];\n            var layout = {\"title\":\"Growth of 1 Euro\"};\n            var config = {};\n            Plotly.newPlot('a0b4a83f-00e7-4447-af23-9c81ff4fac45', data, layout, config);\r\n});\n            };\n            if ((typeof(requirejs) !==  typeof(Function)) || (typeof(requirejs.config) !== typeof(Function))) {\n                var script = document.createElement(\"script\");\n                script.setAttribute(\"src\", \"https://cdnjs.cloudflare.com/ajax/libs/require.js/2.3.6/require.min.js\");\n                script.onload = function(){\n                    renderPlotly_a0b4a83f00e74447af239c81ff4fac45();\n                };\n                document.getElementsByTagName(\"head\")[0].appendChild(script);\n            }\n            else {\n                renderPlotly_a0b4a83f00e74447af239c81ff4fac45();\n            }\r\n</script>\r\n"
     },
     "output_type": "unknown"
    }
   ],
   "source": [
    "topWithFunctionsPlot\n"
   ]
  },
  {
   "cell_type": "markdown",
   "metadata": {},
   "source": [
    "Now let's use the functions to do a bunch of portfolios at once. \n",
    "\n",
    "First, let's add a version of value-weighted market portfolio that\n",
    "has the same time range and same F# type as our portfolios.\n"
   ]
  },
  {
   "cell_type": "code",
   "execution_count": null,
   "metadata": {
    "dotnet_interactive": {
     "language": "fsharp"
    }
   },
   "outputs": [],
   "source": [
    "let vwMktRf =\n",
    "    let portfolioMonths = portfolioExcessReturns |> Array.map(fun x -> x.YearMonth)\n",
    "    let minYm = portfolioMonths |> Array.min\n",
    "    let maxYm = portfolioMonths |> Array.max\n",
    "    \n",
    "    ff3\n",
    "    |> Array.map(fun x -> \n",
    "        { PortfolioId = Named(\"Mkt-Rf\")\n",
    "          YearMonth = YearMonth(x.Date.Year,x.Date.Month)\n",
    "          Return = x.MktRf })\n",
    "    |> Array.filter(fun x -> \n",
    "        x.YearMonth >= minYm &&\n",
    "        x.YearMonth <= maxYm)\n"
   ]
  },
  {
   "cell_type": "markdown",
   "metadata": {},
   "source": [
    "This Chart.Combine method had been shown previously in e.g., the Fred code.\n"
   ]
  },
  {
   "cell_type": "code",
   "execution_count": null,
   "metadata": {
    "dotnet_interactive": {
     "language": "fsharp"
    }
   },
   "outputs": [],
   "source": [
    "let combinedChart =\n",
    "    Array.concat [portfolioExcessReturns; vwMktRf]\n",
    "    |> Array.groupBy(fun x -> x.PortfolioId)\n",
    "    |> Array.map(fun (portId, xs) ->\n",
    "        xs\n",
    "        |> normalizeToTenPct\n",
    "        |> cumulateReturn\n",
    "        |> portfolioReturnPlot\n",
    "        |> Chart.withTraceName (portId.ToString()))\n",
    "    |> Chart.Combine\n"
   ]
  },
  {
   "cell_type": "code",
   "execution_count": null,
   "metadata": {
    "dotnet_interactive": {
     "language": "fsharp"
    }
   },
   "outputs": [
    {
     "data": {
      "text/html": "<div id=\"cd9bb939-d5ed-4fd3-8213-f782b0c792fb\" style=\"width: 600px; height: 600px;\"><!-- Plotly chart will be drawn inside this DIV --></div>\r\n<script type=\"text/javascript\">\r\n\n            var renderPlotly_cd9bb939d5ed4fd38213f782b0c792fb = function() {\n            var fsharpPlotlyRequire = requirejs.config({context:'fsharp-plotly',paths:{plotly:'https://cdn.plot.ly/plotly-latest.min'}}) || require;\n            fsharpPlotlyRequire(['plotly'], function(Plotly) {\r\n\n            var data = [{\"type\":\"scatter\",\"x\":[\"2000-02-01T00:00:00\",\"2000-03-01T00:00:00\",\"2000-04-01T00:00:00\",\"2000-05-01T00:00:00\",\"2000-06-01T00:00:00\",\"2000-07-01T00:00:00\",\"2000-08-01T00:00:00\",\"2000-09-01T00:00:00\",\"2000-10-01T00:00:00\",\"2000-11-01T00:00:00\",\"2000-12-01T00:00:00\",\"2001-01-01T00:00:00\",\"2001-02-01T00:00:00\",\"2001-03-01T00:00:00\",\"2001-04-01T00:00:00\",\"2001-05-01T00:00:00\",\"2001-06-01T00:00:00\",\"2001-07-01T00:00:00\",\"2001-08-01T00:00:00\",\"2001-09-01T00:00:00\",\"2001-10-01T00:00:00\",\"2001-11-01T00:00:00\",\"2001-12-01T00:00:00\",\"2002-01-01T00:00:00\",\"2002-02-01T00:00:00\",\"2002-03-01T00:00:00\",\"2002-04-01T00:00:00\",\"2002-05-01T00:00:00\",\"2002-06-01T00:00:00\",\"2002-07-01T00:00:00\",\"2002-08-01T00:00:00\",\"2002-09-01T00:00:00\",\"2002-10-01T00:00:00\",\"2002-11-01T00:00:00\",\"2002-12-01T00:00:00\",\"2003-01-01T00:00:00\",\"2003-02-01T00:00:00\",\"2003-03-01T00:00:00\",\"2003-04-01T00:00:00\",\"2003-05-01T00:00:00\",\"2003-06-01T00:00:00\",\"2003-07-01T00:00:00\",\"2003-08-01T00:00:00\",\"2003-09-01T00:00:00\",\"2003-10-01T00:00:00\",\"2003-11-01T00:00:00\",\"2003-12-01T00:00:00\",\"2004-01-01T00:00:00\",\"2004-02-01T00:00:00\",\"2004-03-01T00:00:00\",\"2004-04-01T00:00:00\",\"2004-05-01T00:00:00\",\"2004-06-01T00:00:00\",\"2004-07-01T00:00:00\",\"2004-08-01T00:00:00\",\"2004-09-01T00:00:00\",\"2004-10-01T00:00:00\",\"2004-11-01T00:00:00\",\"2004-12-01T00:00:00\",\"2005-01-01T00:00:00\",\"2005-02-01T00:00:00\",\"2005-03-01T00:00:00\",\"2005-04-01T00:00:00\",\"2005-05-01T00:00:00\",\"2005-06-01T00:00:00\",\"2005-07-01T00:00:00\",\"2005-08-01T00:00:00\",\"2005-09-01T00:00:00\",\"2005-10-01T00:00:00\",\"2005-11-01T00:00:00\",\"2005-12-01T00:00:00\",\"2006-01-01T00:00:00\",\"2006-02-01T00:00:00\",\"2006-03-01T00:00:00\",\"2006-04-01T00:00:00\",\"2006-05-01T00:00:00\",\"2006-06-01T00:00:00\",\"2006-07-01T00:00:00\",\"2006-08-01T00:00:00\",\"2006-09-01T00:00:00\",\"2006-10-01T00:00:00\",\"2006-11-01T00:00:00\",\"2006-12-01T00:00:00\",\"2007-01-01T00:00:00\",\"2007-02-01T00:00:00\",\"2007-03-01T00:00:00\",\"2007-04-01T00:00:00\",\"2007-05-01T00:00:00\",\"2007-06-01T00:00:00\",\"2007-07-01T00:00:00\",\"2007-08-01T00:00:00\",\"2007-09-01T00:00:00\",\"2007-10-01T00:00:00\",\"2007-11-01T00:00:00\",\"2007-12-01T00:00:00\",\"2008-01-01T00:00:00\",\"2008-02-01T00:00:00\",\"2008-03-01T00:00:00\",\"2008-04-01T00:00:00\",\"2008-05-01T00:00:00\",\"2008-06-01T00:00:00\",\"2008-07-01T00:00:00\",\"2008-08-01T00:00:00\",\"2008-09-01T00:00:00\",\"2008-10-01T00:00:00\",\"2008-11-01T00:00:00\",\"2008-12-01T00:00:00\",\"2009-01-01T00:00:00\",\"2009-02-01T00:00:00\",\"2009-03-01T00:00:00\",\"2009-04-01T00:00:00\",\"2009-05-01T00:00:00\",\"2009-06-01T00:00:00\",\"2009-07-01T00:00:00\",\"2009-08-01T00:00:00\",\"2009-09-01T00:00:00\",\"2009-10-01T00:00:00\",\"2009-11-01T00:00:00\",\"2009-12-01T00:00:00\",\"2010-01-01T00:00:00\",\"2010-02-01T00:00:00\",\"2010-03-01T00:00:00\",\"2010-04-01T00:00:00\",\"2010-05-01T00:00:00\",\"2010-06-01T00:00:00\",\"2010-07-01T00:00:00\",\"2010-08-01T00:00:00\",\"2010-09-01T00:00:00\",\"2010-10-01T00:00:00\",\"2010-11-01T00:00:00\",\"2010-12-01T00:00:00\",\"2011-01-01T00:00:00\",\"2011-02-01T00:00:00\",\"2011-03-01T00:00:00\",\"2011-04-01T00:00:00\",\"2011-05-01T00:00:00\",\"2011-06-01T00:00:00\",\"2011-07-01T00:00:00\",\"2011-08-01T00:00:00\",\"2011-09-01T00:00:00\",\"2011-10-01T00:00:00\",\"2011-11-01T00:00:00\",\"2011-12-01T00:00:00\",\"2012-01-01T00:00:00\",\"2012-02-01T00:00:00\",\"2012-03-01T00:00:00\",\"2012-04-01T00:00:00\",\"2012-05-01T00:00:00\",\"2012-06-01T00:00:00\",\"2012-07-01T00:00:00\",\"2012-08-01T00:00:00\",\"2012-09-01T00:00:00\",\"2012-10-01T00:00:00\",\"2012-11-01T00:00:00\",\"2012-12-01T00:00:00\",\"2013-01-01T00:00:00\",\"2013-02-01T00:00:00\",\"2013-03-01T00:00:00\",\"2013-04-01T00:00:00\",\"2013-05-01T00:00:00\",\"2013-06-01T00:00:00\",\"2013-07-01T00:00:00\",\"2013-08-01T00:00:00\",\"2013-09-01T00:00:00\",\"2013-10-01T00:00:00\",\"2013-11-01T00:00:00\",\"2013-12-01T00:00:00\",\"2014-01-01T00:00:00\",\"2014-02-01T00:00:00\",\"2014-03-01T00:00:00\",\"2014-04-01T00:00:00\",\"2014-05-01T00:00:00\",\"2014-06-01T00:00:00\",\"2014-07-01T00:00:00\",\"2014-08-01T00:00:00\",\"2014-09-01T00:00:00\",\"2014-10-01T00:00:00\",\"2014-11-01T00:00:00\",\"2014-12-01T00:00:00\",\"2015-01-01T00:00:00\",\"2015-02-01T00:00:00\",\"2015-03-01T00:00:00\",\"2015-04-01T00:00:00\",\"2015-05-01T00:00:00\",\"2015-06-01T00:00:00\",\"2015-07-01T00:00:00\",\"2015-08-01T00:00:00\",\"2015-09-01T00:00:00\",\"2015-10-01T00:00:00\",\"2015-11-01T00:00:00\",\"2015-12-01T00:00:00\",\"2016-01-01T00:00:00\",\"2016-02-01T00:00:00\",\"2016-03-01T00:00:00\",\"2016-04-01T00:00:00\",\"2016-05-01T00:00:00\",\"2016-06-01T00:00:00\",\"2016-07-01T00:00:00\",\"2016-08-01T00:00:00\",\"2016-09-01T00:00:00\",\"2016-10-01T00:00:00\",\"2016-11-01T00:00:00\",\"2016-12-01T00:00:00\",\"2017-01-01T00:00:00\",\"2017-02-01T00:00:00\",\"2017-03-01T00:00:00\",\"2017-04-01T00:00:00\",\"2017-05-01T00:00:00\",\"2017-06-01T00:00:00\",\"2017-07-01T00:00:00\",\"2017-08-01T00:00:00\",\"2017-09-01T00:00:00\",\"2017-10-01T00:00:00\",\"2017-11-01T00:00:00\",\"2017-12-01T00:00:00\",\"2018-01-01T00:00:00\",\"2018-02-01T00:00:00\",\"2018-03-01T00:00:00\",\"2018-04-01T00:00:00\",\"2018-05-01T00:00:00\",\"2018-06-01T00:00:00\",\"2018-07-01T00:00:00\",\"2018-08-01T00:00:00\",\"2018-09-01T00:00:00\",\"2018-10-01T00:00:00\",\"2018-11-01T00:00:00\",\"2018-12-01T00:00:00\",\"2019-01-01T00:00:00\",\"2019-02-01T00:00:00\",\"2019-03-01T00:00:00\",\"2019-04-01T00:00:00\",\"2019-05-01T00:00:00\",\"2019-06-01T00:00:00\",\"2019-07-01T00:00:00\",\"2019-08-01T00:00:00\",\"2019-09-01T00:00:00\",\"2019-10-01T00:00:00\",\"2019-11-01T00:00:00\",\"2019-12-01T00:00:00\",\"2020-01-01T00:00:00\",\"2020-02-01T00:00:00\",\"2020-03-01T00:00:00\",\"2020-04-01T00:00:00\",\"2020-05-01T00:00:00\",\"2020-06-01T00:00:00\",\"2020-07-01T00:00:00\",\"2020-08-01T00:00:00\",\"2020-09-01T00:00:00\",\"2020-10-01T00:00:00\",\"2020-11-01T00:00:00\",\"2020-12-01T00:00:00\"],\"y\":[1.053983453234847,1.0657110281160924,1.0226554854390646,0.9824371127327306,1.0241448283614507,1.0026719145017247,1.0582086829927968,1.017071088269813,0.9794290136552654,0.8953611536593409,0.9049992829482231,0.9395596246725326,0.8638008857445727,0.8239438952584172,0.8666191720102847,0.8656088237668346,0.856497971398673,0.8413306376007085,0.8113951632645504,0.7616455649226924,0.7791930023810485,0.8160152318131085,0.8213363211821648,0.8128524083247256,0.793564428214979,0.8151186287487041,0.792366254534058,0.785001138658991,0.7519789865764176,0.718687712966657,0.7213605214784604,0.6823419484056008,0.7080641024159527,0.7361303547969078,0.7114281295846505,0.7036764131562455,0.699451877783907,0.6995385430474763,0.7283907330119346,0.7561767580737696,0.7616625563494617,0.77283533882541,0.7868710294983621,0.7820696566199907,0.810212256909402,0.8186043601917387,0.8316563045394572,0.8421022408243551,0.8466710375185493,0.8434477418529531,0.8272122550794467,0.8376476924468453,0.8486612957685641,0.8180199261686876,0.8075307498650854,0.8261153224379819,0.8371438973921694,0.862108760912423,0.8774840090531432,0.8605196266988666,0.8703784509424534,0.8613016920066341,0.8416630241180468,0.8695551869121342,0.8774420834945381,0.9021919160389682,0.8988518199213944,0.9050967766173028,0.8899003186359001,0.9122500973021879,0.9133581883360795,0.9423313563934622,0.9296004224133578,0.9416650247769532,0.9464340498494074,0.9196214169562547,0.9168775701626249,0.900614932350903,0.9086727513445346,0.9154537092407622,0.9347421857340655,0.9515463046669713,0.9420300404391658,0.9531530696217237,0.9493096813439035,0.9533864941155922,0.9719821215927724,0.9907876460933167,0.9875850385447891,0.9724926020768973,0.9725123239256285,0.9927157156125952,1.0094306916693314,0.9778418729379652,0.9758501131649681,0.9385496808679883,0.926858256889695,0.9173245444988434,0.9488653392309724,0.9652151209835795,0.9283786359724394,0.9130431899088949,0.913946314479917,0.8552551458016259,0.7722057055166036,0.7285576357455822,0.7350977884435573,0.705724583444223,0.675071289038427,0.7101329087681068,0.7611857999304287,0.7886971852497108,0.7825775873466106,0.8162517668885229,0.8324761501253354,0.8535454904131313,0.8367077196131987,0.8598371093489862,0.8729811746092698,0.8573714227886889,0.8752553042776153,0.9049301292535307,0.9158096893740159,0.8816648269395001,0.851285621235525,0.880245145357956,0.8573737382728802,0.9014733368327839,0.9198121579024385,0.9280284581605187,0.9592738000224812,0.9696086025183026,0.9879799352034633,0.9886160756739618,0.9981987440796762,0.9897698842056412,0.9779539726225496,0.970369525242018,0.9340996606347141,0.8869788296619929,0.9463183890189344,0.938656979638291,0.9326777862554008,0.9698428008451987,0.9952366367861014,1.0105214776498086,1.00252163240757,0.9618469577858215,0.9746329703465422,0.9749045414187727,0.9962057137797893,1.0089656884001745,0.9974225527281214,1.0018805009200185,1.0108636793052097,1.0366211226099007,1.0381096389495554,1.0559918641008321,1.0595037643321752,1.0823816867140474,1.0705332013786222,1.1058492120603234,1.0990357631947578,1.1213788124569586,1.1401605436907754,1.1567020148808007,1.17323946905913,1.1600661719525467,1.191303419739356,1.1834610410163664,1.1768884796031696,1.1908410564759273,1.2141127333988424,1.2007383994375527,1.2298467696009603,1.209704884193458,1.2171627038683421,1.2314976820411945,1.2247494946388071,1.2172976019345445,1.256597339286072,1.2513133025582936,1.2578344300835782,1.2672111007587217,1.2567249364144433,1.2477460183076214,1.2120994357032622,1.1781064035392825,1.2147412064803584,1.2171777445149297,1.1903990535239415,1.1428046188705154,1.1481391035863695,1.1918202456424414,1.2065267682502268,1.2130226672767281,1.204121488579592,1.2377656727342339,1.244152241781559,1.2553541471672538,1.2371907679611562,1.2718742039475819,1.2738335275301147,1.2981703294040314,1.3119223947354337,1.3125589018838395,1.3162328535076364,1.3191335891644929,1.3266351504017626,1.3363210943712371,1.328838059789569,1.3547829898464756,1.3637233030370541,1.3788449477030054,1.3927853127257308,1.43183418896564,1.4094369679915377,1.4046603244859934,1.4099025272763774,1.4391226396841528,1.4476322408672118,1.441245521518521,1.4651147391060657,1.455747664317937,1.369483279469198,1.3707195189630605,1.3023575532838176,1.383483139576718,1.3983130902165861,1.4079555663957002,1.4443530791956662,1.3795753076341633,1.431442206620002,1.4333248563380587,1.398701678979504,1.4010680825091544,1.4136642063549618,1.4427325004797849,1.4662962753285835,1.4570477333915723,1.4112991909420498,1.278865236700058,1.3882212013713977,1.4553613537414845,1.500390826573854,1.55638441605202,1.634303873111444,1.6172525932821482,1.607086928602203,1.7653799771798062,1.8243134523161164],\"mode\":\"lines\",\"line\":{},\"marker\":{},\"name\":\"Indexed (\\\"Mine\\\", 1)\"},{\"type\":\"scatter\",\"x\":[\"2000-02-01T00:00:00\",\"2000-03-01T00:00:00\",\"2000-04-01T00:00:00\",\"2000-05-01T00:00:00\",\"2000-06-01T00:00:00\",\"2000-07-01T00:00:00\",\"2000-08-01T00:00:00\",\"2000-09-01T00:00:00\",\"2000-10-01T00:00:00\",\"2000-11-01T00:00:00\",\"2000-12-01T00:00:00\",\"2001-01-01T00:00:00\",\"2001-02-01T00:00:00\",\"2001-03-01T00:00:00\",\"2001-04-01T00:00:00\",\"2001-05-01T00:00:00\",\"2001-06-01T00:00:00\",\"2001-07-01T00:00:00\",\"2001-08-01T00:00:00\",\"2001-09-01T00:00:00\",\"2001-10-01T00:00:00\",\"2001-11-01T00:00:00\",\"2001-12-01T00:00:00\",\"2002-01-01T00:00:00\",\"2002-02-01T00:00:00\",\"2002-03-01T00:00:00\",\"2002-04-01T00:00:00\",\"2002-05-01T00:00:00\",\"2002-06-01T00:00:00\",\"2002-07-01T00:00:00\",\"2002-08-01T00:00:00\",\"2002-09-01T00:00:00\",\"2002-10-01T00:00:00\",\"2002-11-01T00:00:00\",\"2002-12-01T00:00:00\",\"2003-01-01T00:00:00\",\"2003-02-01T00:00:00\",\"2003-03-01T00:00:00\",\"2003-04-01T00:00:00\",\"2003-05-01T00:00:00\",\"2003-06-01T00:00:00\",\"2003-07-01T00:00:00\",\"2003-08-01T00:00:00\",\"2003-09-01T00:00:00\",\"2003-10-01T00:00:00\",\"2003-11-01T00:00:00\",\"2003-12-01T00:00:00\",\"2004-01-01T00:00:00\",\"2004-02-01T00:00:00\",\"2004-03-01T00:00:00\",\"2004-04-01T00:00:00\",\"2004-05-01T00:00:00\",\"2004-06-01T00:00:00\",\"2004-07-01T00:00:00\",\"2004-08-01T00:00:00\",\"2004-09-01T00:00:00\",\"2004-10-01T00:00:00\",\"2004-11-01T00:00:00\",\"2004-12-01T00:00:00\",\"2005-01-01T00:00:00\",\"2005-02-01T00:00:00\",\"2005-03-01T00:00:00\",\"2005-04-01T00:00:00\",\"2005-05-01T00:00:00\",\"2005-06-01T00:00:00\",\"2005-07-01T00:00:00\",\"2005-08-01T00:00:00\",\"2005-09-01T00:00:00\",\"2005-10-01T00:00:00\",\"2005-11-01T00:00:00\",\"2005-12-01T00:00:00\",\"2006-01-01T00:00:00\",\"2006-02-01T00:00:00\",\"2006-03-01T00:00:00\",\"2006-04-01T00:00:00\",\"2006-05-01T00:00:00\",\"2006-06-01T00:00:00\",\"2006-07-01T00:00:00\",\"2006-08-01T00:00:00\",\"2006-09-01T00:00:00\",\"2006-10-01T00:00:00\",\"2006-11-01T00:00:00\",\"2006-12-01T00:00:00\",\"2007-01-01T00:00:00\",\"2007-02-01T00:00:00\",\"2007-03-01T00:00:00\",\"2007-04-01T00:00:00\",\"2007-05-01T00:00:00\",\"2007-06-01T00:00:00\",\"2007-07-01T00:00:00\",\"2007-08-01T00:00:00\",\"2007-09-01T00:00:00\",\"2007-10-01T00:00:00\",\"2007-11-01T00:00:00\",\"2007-12-01T00:00:00\",\"2008-01-01T00:00:00\",\"2008-02-01T00:00:00\",\"2008-03-01T00:00:00\",\"2008-04-01T00:00:00\",\"2008-05-01T00:00:00\",\"2008-06-01T00:00:00\",\"2008-07-01T00:00:00\",\"2008-08-01T00:00:00\",\"2008-09-01T00:00:00\",\"2008-10-01T00:00:00\",\"2008-11-01T00:00:00\",\"2008-12-01T00:00:00\",\"2009-01-01T00:00:00\",\"2009-02-01T00:00:00\",\"2009-03-01T00:00:00\",\"2009-04-01T00:00:00\",\"2009-05-01T00:00:00\",\"2009-06-01T00:00:00\",\"2009-07-01T00:00:00\",\"2009-08-01T00:00:00\",\"2009-09-01T00:00:00\",\"2009-10-01T00:00:00\",\"2009-11-01T00:00:00\",\"2009-12-01T00:00:00\",\"2010-01-01T00:00:00\",\"2010-02-01T00:00:00\",\"2010-03-01T00:00:00\",\"2010-04-01T00:00:00\",\"2010-05-01T00:00:00\",\"2010-06-01T00:00:00\",\"2010-07-01T00:00:00\",\"2010-08-01T00:00:00\",\"2010-09-01T00:00:00\",\"2010-10-01T00:00:00\",\"2010-11-01T00:00:00\",\"2010-12-01T00:00:00\",\"2011-01-01T00:00:00\",\"2011-02-01T00:00:00\",\"2011-03-01T00:00:00\",\"2011-04-01T00:00:00\",\"2011-05-01T00:00:00\",\"2011-06-01T00:00:00\",\"2011-07-01T00:00:00\",\"2011-08-01T00:00:00\",\"2011-09-01T00:00:00\",\"2011-10-01T00:00:00\",\"2011-11-01T00:00:00\",\"2011-12-01T00:00:00\",\"2012-01-01T00:00:00\",\"2012-02-01T00:00:00\",\"2012-03-01T00:00:00\",\"2012-04-01T00:00:00\",\"2012-05-01T00:00:00\",\"2012-06-01T00:00:00\",\"2012-07-01T00:00:00\",\"2012-08-01T00:00:00\",\"2012-09-01T00:00:00\",\"2012-10-01T00:00:00\",\"2012-11-01T00:00:00\",\"2012-12-01T00:00:00\",\"2013-01-01T00:00:00\",\"2013-02-01T00:00:00\",\"2013-03-01T00:00:00\",\"2013-04-01T00:00:00\",\"2013-05-01T00:00:00\",\"2013-06-01T00:00:00\",\"2013-07-01T00:00:00\",\"2013-08-01T00:00:00\",\"2013-09-01T00:00:00\",\"2013-10-01T00:00:00\",\"2013-11-01T00:00:00\",\"2013-12-01T00:00:00\",\"2014-01-01T00:00:00\",\"2014-02-01T00:00:00\",\"2014-03-01T00:00:00\",\"2014-04-01T00:00:00\",\"2014-05-01T00:00:00\",\"2014-06-01T00:00:00\",\"2014-07-01T00:00:00\",\"2014-08-01T00:00:00\",\"2014-09-01T00:00:00\",\"2014-10-01T00:00:00\",\"2014-11-01T00:00:00\",\"2014-12-01T00:00:00\",\"2015-01-01T00:00:00\",\"2015-02-01T00:00:00\",\"2015-03-01T00:00:00\",\"2015-04-01T00:00:00\",\"2015-05-01T00:00:00\",\"2015-06-01T00:00:00\",\"2015-07-01T00:00:00\",\"2015-08-01T00:00:00\",\"2015-09-01T00:00:00\",\"2015-10-01T00:00:00\",\"2015-11-01T00:00:00\",\"2015-12-01T00:00:00\",\"2016-01-01T00:00:00\",\"2016-02-01T00:00:00\",\"2016-03-01T00:00:00\",\"2016-04-01T00:00:00\",\"2016-05-01T00:00:00\",\"2016-06-01T00:00:00\",\"2016-07-01T00:00:00\",\"2016-08-01T00:00:00\",\"2016-09-01T00:00:00\",\"2016-10-01T00:00:00\",\"2016-11-01T00:00:00\",\"2016-12-01T00:00:00\",\"2017-01-01T00:00:00\",\"2017-02-01T00:00:00\",\"2017-03-01T00:00:00\",\"2017-04-01T00:00:00\",\"2017-05-01T00:00:00\",\"2017-06-01T00:00:00\",\"2017-07-01T00:00:00\",\"2017-08-01T00:00:00\",\"2017-09-01T00:00:00\",\"2017-10-01T00:00:00\",\"2017-11-01T00:00:00\",\"2017-12-01T00:00:00\",\"2018-01-01T00:00:00\",\"2018-02-01T00:00:00\",\"2018-03-01T00:00:00\",\"2018-04-01T00:00:00\",\"2018-05-01T00:00:00\",\"2018-06-01T00:00:00\",\"2018-07-01T00:00:00\",\"2018-08-01T00:00:00\",\"2018-09-01T00:00:00\",\"2018-10-01T00:00:00\",\"2018-11-01T00:00:00\",\"2018-12-01T00:00:00\",\"2019-01-01T00:00:00\",\"2019-02-01T00:00:00\",\"2019-03-01T00:00:00\",\"2019-04-01T00:00:00\",\"2019-05-01T00:00:00\",\"2019-06-01T00:00:00\",\"2019-07-01T00:00:00\",\"2019-08-01T00:00:00\",\"2019-09-01T00:00:00\",\"2019-10-01T00:00:00\",\"2019-11-01T00:00:00\",\"2019-12-01T00:00:00\",\"2020-01-01T00:00:00\",\"2020-02-01T00:00:00\",\"2020-03-01T00:00:00\",\"2020-04-01T00:00:00\",\"2020-05-01T00:00:00\",\"2020-06-01T00:00:00\",\"2020-07-01T00:00:00\",\"2020-08-01T00:00:00\",\"2020-09-01T00:00:00\",\"2020-10-01T00:00:00\",\"2020-11-01T00:00:00\",\"2020-12-01T00:00:00\"],\"y\":[0.9463846038533815,1.0126096380270013,0.9854890787404887,0.9778039692667437,0.9863387656251217,0.9808186509490268,1.0057501337853088,0.9819055741568705,0.9922829144063046,0.9570560430377522,0.9638668119182761,0.9646501201261304,0.932664470067268,0.8963138340841197,0.9267815051128959,0.9384193761211616,0.9249997592654224,0.9256215757040566,0.8952086417193452,0.8684886599893865,0.8655503757587568,0.8930970683373267,0.9045638564230822,0.8972833866492825,0.9068117528120925,0.9222869647819535,0.8920357830541877,0.8896261206888082,0.856436585061498,0.8140011619446005,0.8167892726492436,0.7652277198780754,0.8054491362660202,0.8225302841085766,0.800613012969289,0.783765967628605,0.770048431545305,0.7819819587633697,0.8221180166847681,0.8423557133016243,0.8505320543601433,0.8568309959169865,0.8609465304810093,0.8552082615514038,0.8821074281461563,0.8875609770634416,0.9220198525430789,0.9337533458539918,0.9446976344939506,0.933438939077977,0.9269324220349583,0.9317272980524811,0.9431541567095408,0.9259237459371691,0.9335696191893004,0.9364967805383702,0.9422544147173185,0.9687710609842424,0.991128232145214,0.975013614913069,0.9836534181891619,0.9704599066130969,0.9575588828261862,0.9740575978430096,0.9756132356301781,0.9990982822360966,0.9909837565219826,0.9925986310825925,0.9796435990435142,1.0011179801538945,0.9995024769272155,1.0157168036176358,1.0192857178933377,1.0253543805703977,1.0314267383337188,1.0111296585906238,1.009808320177866,1.0135229316776897,1.026828390035714,1.0396501016308977,1.0608294821137483,1.069172703728513,1.0830924245048748,1.091603710615334,1.0746205927801933,1.0808156066383765,1.1078410585205467,1.1354482725708284,1.116675158078128,1.0856636168480245,1.0951500110235777,1.119752654917463,1.1294296955403513,1.094171644314729,1.088767541354025,1.044812548699214,1.0247955291459068,1.0217784710113045,1.0471106930288843,1.0571519437106056,0.9988119653588714,0.998415496024573,1.0117924501341224,0.9604853294146731,0.8515066678475826,0.8243140554990449,0.8361705904333095,0.7938883916594099,0.7343189839749824,0.7693757620537638,0.8016673199254849,0.8306034500919542,0.840291535467704,0.8776450852495689,0.8892194387837817,0.9089118700720794,0.9046407321651004,0.9416457668077732,0.9565989471654259,0.9304654223871234,0.9451616688292152,0.9797918481483548,0.9898378374450313,0.9318035805328138,0.9049378016593151,0.9475109158893443,0.9239753964049984,0.978355443488245,1.0032594771788135,0.9995579698079845,1.0471414263688705,1.0602720925147495,1.0839388474826415,1.0887914028356815,1.1159015513887747,1.10772735611374,1.0983352954624412,1.0767035043163917,1.044188345694446,0.9996822188178178,1.066149995967417,1.072034338213534,1.0836679517579249,1.1063668075077984,1.1330056690495258,1.1499223707999866,1.1500719047569452,1.1118711996397699,1.1489119979764901,1.1619852245071742,1.1713580493316127,1.193764653152366,1.1832680337462036,1.1869545706129943,1.192575705990717,1.2409743240218958,1.2556976060701428,1.2912254289285707,1.3075294072386443,1.3208353975353118,1.3147691482370216,1.3577726379528534,1.3258034858922776,1.3597887285395676,1.4060140461403847,1.4359199316701226,1.4622402478189471,1.4294279781242456,1.4754157998343267,1.48517248983821,1.4825714202012559,1.5069104815142869,1.5336249991567974,1.5148608570593602,1.5554701930822517,1.5377277287476068,1.5696907273502707,1.5966282203706448,1.6027916479415065,1.5614555692573153,1.634015592167458,1.6240810901724014,1.632813268439554,1.6513009052989196,1.6352313559196692,1.6646526843560212,1.59221887459882,1.56211493227635,1.6523338674845482,1.6606378867556573,1.6429447439890563,1.5693840083438455,1.5653331622714266,1.6384948742912304,1.643104594451339,1.6659879579188943,1.6647829711207092,1.7129246301987462,1.715156212460445,1.7156015866037921,1.6953725091582192,1.753861040025847,1.780447094885315,1.8056315772354614,1.8597851363907543,1.8609749468387262,1.8776705057510332,1.8897699824615186,1.9027217244929646,1.9353236795417283,1.9444788540674778,1.973247985067648,2.0144483381085085,2.058376990726391,2.0664962719344553,2.1511365809713165,2.10369958928218,2.0658966857422656,2.071861248881103,2.109576337310682,2.1058038811098756,2.1627010074369037,2.2216346191850214,2.225590126678011,2.1036772150357685,2.1153129803002892,1.968663237827403,2.089695612100601,2.1482551622152584,2.154009088478342,2.212147538409762,2.1019218150418677,2.211218542738571,2.2418102692679374,2.204369269922648,2.2320512296731403,2.2702900916301587,2.3392032925286514,2.385133596030785,2.379995785311025,2.2318840979899295,2.021321818811456,2.2232271459258173,2.3149054746572038,2.3604634358474783,2.46291672372507,2.593945755047152,2.5111964823796957,2.4785321888471077,2.688268111502865,2.7857437613780105],\"mode\":\"lines\",\"line\":{},\"marker\":{},\"name\":\"Indexed (\\\"Mine\\\", 2)\"},{\"type\":\"scatter\",\"x\":[\"2000-02-01T00:00:00\",\"2000-03-01T00:00:00\",\"2000-04-01T00:00:00\",\"2000-05-01T00:00:00\",\"2000-06-01T00:00:00\",\"2000-07-01T00:00:00\",\"2000-08-01T00:00:00\",\"2000-09-01T00:00:00\",\"2000-10-01T00:00:00\",\"2000-11-01T00:00:00\",\"2000-12-01T00:00:00\",\"2001-01-01T00:00:00\",\"2001-02-01T00:00:00\",\"2001-03-01T00:00:00\",\"2001-04-01T00:00:00\",\"2001-05-01T00:00:00\",\"2001-06-01T00:00:00\",\"2001-07-01T00:00:00\",\"2001-08-01T00:00:00\",\"2001-09-01T00:00:00\",\"2001-10-01T00:00:00\",\"2001-11-01T00:00:00\",\"2001-12-01T00:00:00\",\"2002-01-01T00:00:00\",\"2002-02-01T00:00:00\",\"2002-03-01T00:00:00\",\"2002-04-01T00:00:00\",\"2002-05-01T00:00:00\",\"2002-06-01T00:00:00\",\"2002-07-01T00:00:00\",\"2002-08-01T00:00:00\",\"2002-09-01T00:00:00\",\"2002-10-01T00:00:00\",\"2002-11-01T00:00:00\",\"2002-12-01T00:00:00\",\"2003-01-01T00:00:00\",\"2003-02-01T00:00:00\",\"2003-03-01T00:00:00\",\"2003-04-01T00:00:00\",\"2003-05-01T00:00:00\",\"2003-06-01T00:00:00\",\"2003-07-01T00:00:00\",\"2003-08-01T00:00:00\",\"2003-09-01T00:00:00\",\"2003-10-01T00:00:00\",\"2003-11-01T00:00:00\",\"2003-12-01T00:00:00\",\"2004-01-01T00:00:00\",\"2004-02-01T00:00:00\",\"2004-03-01T00:00:00\",\"2004-04-01T00:00:00\",\"2004-05-01T00:00:00\",\"2004-06-01T00:00:00\",\"2004-07-01T00:00:00\",\"2004-08-01T00:00:00\",\"2004-09-01T00:00:00\",\"2004-10-01T00:00:00\",\"2004-11-01T00:00:00\",\"2004-12-01T00:00:00\",\"2005-01-01T00:00:00\",\"2005-02-01T00:00:00\",\"2005-03-01T00:00:00\",\"2005-04-01T00:00:00\",\"2005-05-01T00:00:00\",\"2005-06-01T00:00:00\",\"2005-07-01T00:00:00\",\"2005-08-01T00:00:00\",\"2005-09-01T00:00:00\",\"2005-10-01T00:00:00\",\"2005-11-01T00:00:00\",\"2005-12-01T00:00:00\",\"2006-01-01T00:00:00\",\"2006-02-01T00:00:00\",\"2006-03-01T00:00:00\",\"2006-04-01T00:00:00\",\"2006-05-01T00:00:00\",\"2006-06-01T00:00:00\",\"2006-07-01T00:00:00\",\"2006-08-01T00:00:00\",\"2006-09-01T00:00:00\",\"2006-10-01T00:00:00\",\"2006-11-01T00:00:00\",\"2006-12-01T00:00:00\",\"2007-01-01T00:00:00\",\"2007-02-01T00:00:00\",\"2007-03-01T00:00:00\",\"2007-04-01T00:00:00\",\"2007-05-01T00:00:00\",\"2007-06-01T00:00:00\",\"2007-07-01T00:00:00\",\"2007-08-01T00:00:00\",\"2007-09-01T00:00:00\",\"2007-10-01T00:00:00\",\"2007-11-01T00:00:00\",\"2007-12-01T00:00:00\",\"2008-01-01T00:00:00\",\"2008-02-01T00:00:00\",\"2008-03-01T00:00:00\",\"2008-04-01T00:00:00\",\"2008-05-01T00:00:00\",\"2008-06-01T00:00:00\",\"2008-07-01T00:00:00\",\"2008-08-01T00:00:00\",\"2008-09-01T00:00:00\",\"2008-10-01T00:00:00\",\"2008-11-01T00:00:00\",\"2008-12-01T00:00:00\",\"2009-01-01T00:00:00\",\"2009-02-01T00:00:00\",\"2009-03-01T00:00:00\",\"2009-04-01T00:00:00\",\"2009-05-01T00:00:00\",\"2009-06-01T00:00:00\",\"2009-07-01T00:00:00\",\"2009-08-01T00:00:00\",\"2009-09-01T00:00:00\",\"2009-10-01T00:00:00\",\"2009-11-01T00:00:00\",\"2009-12-01T00:00:00\",\"2010-01-01T00:00:00\",\"2010-02-01T00:00:00\",\"2010-03-01T00:00:00\",\"2010-04-01T00:00:00\",\"2010-05-01T00:00:00\",\"2010-06-01T00:00:00\",\"2010-07-01T00:00:00\",\"2010-08-01T00:00:00\",\"2010-09-01T00:00:00\",\"2010-10-01T00:00:00\",\"2010-11-01T00:00:00\",\"2010-12-01T00:00:00\",\"2011-01-01T00:00:00\",\"2011-02-01T00:00:00\",\"2011-03-01T00:00:00\",\"2011-04-01T00:00:00\",\"2011-05-01T00:00:00\",\"2011-06-01T00:00:00\",\"2011-07-01T00:00:00\",\"2011-08-01T00:00:00\",\"2011-09-01T00:00:00\",\"2011-10-01T00:00:00\",\"2011-11-01T00:00:00\",\"2011-12-01T00:00:00\",\"2012-01-01T00:00:00\",\"2012-02-01T00:00:00\",\"2012-03-01T00:00:00\",\"2012-04-01T00:00:00\",\"2012-05-01T00:00:00\",\"2012-06-01T00:00:00\",\"2012-07-01T00:00:00\",\"2012-08-01T00:00:00\",\"2012-09-01T00:00:00\",\"2012-10-01T00:00:00\",\"2012-11-01T00:00:00\",\"2012-12-01T00:00:00\",\"2013-01-01T00:00:00\",\"2013-02-01T00:00:00\",\"2013-03-01T00:00:00\",\"2013-04-01T00:00:00\",\"2013-05-01T00:00:00\",\"2013-06-01T00:00:00\",\"2013-07-01T00:00:00\",\"2013-08-01T00:00:00\",\"2013-09-01T00:00:00\",\"2013-10-01T00:00:00\",\"2013-11-01T00:00:00\",\"2013-12-01T00:00:00\",\"2014-01-01T00:00:00\",\"2014-02-01T00:00:00\",\"2014-03-01T00:00:00\",\"2014-04-01T00:00:00\",\"2014-05-01T00:00:00\",\"2014-06-01T00:00:00\",\"2014-07-01T00:00:00\",\"2014-08-01T00:00:00\",\"2014-09-01T00:00:00\",\"2014-10-01T00:00:00\",\"2014-11-01T00:00:00\",\"2014-12-01T00:00:00\",\"2015-01-01T00:00:00\",\"2015-02-01T00:00:00\",\"2015-03-01T00:00:00\",\"2015-04-01T00:00:00\",\"2015-05-01T00:00:00\",\"2015-06-01T00:00:00\",\"2015-07-01T00:00:00\",\"2015-08-01T00:00:00\",\"2015-09-01T00:00:00\",\"2015-10-01T00:00:00\",\"2015-11-01T00:00:00\",\"2015-12-01T00:00:00\",\"2016-01-01T00:00:00\",\"2016-02-01T00:00:00\",\"2016-03-01T00:00:00\",\"2016-04-01T00:00:00\",\"2016-05-01T00:00:00\",\"2016-06-01T00:00:00\",\"2016-07-01T00:00:00\",\"2016-08-01T00:00:00\",\"2016-09-01T00:00:00\",\"2016-10-01T00:00:00\",\"2016-11-01T00:00:00\",\"2016-12-01T00:00:00\",\"2017-01-01T00:00:00\",\"2017-02-01T00:00:00\",\"2017-03-01T00:00:00\",\"2017-04-01T00:00:00\",\"2017-05-01T00:00:00\",\"2017-06-01T00:00:00\",\"2017-07-01T00:00:00\",\"2017-08-01T00:00:00\",\"2017-09-01T00:00:00\",\"2017-10-01T00:00:00\",\"2017-11-01T00:00:00\",\"2017-12-01T00:00:00\",\"2018-01-01T00:00:00\",\"2018-02-01T00:00:00\",\"2018-03-01T00:00:00\",\"2018-04-01T00:00:00\",\"2018-05-01T00:00:00\",\"2018-06-01T00:00:00\",\"2018-07-01T00:00:00\",\"2018-08-01T00:00:00\",\"2018-09-01T00:00:00\",\"2018-10-01T00:00:00\",\"2018-11-01T00:00:00\",\"2018-12-01T00:00:00\",\"2019-01-01T00:00:00\",\"2019-02-01T00:00:00\",\"2019-03-01T00:00:00\",\"2019-04-01T00:00:00\",\"2019-05-01T00:00:00\",\"2019-06-01T00:00:00\",\"2019-07-01T00:00:00\",\"2019-08-01T00:00:00\",\"2019-09-01T00:00:00\",\"2019-10-01T00:00:00\",\"2019-11-01T00:00:00\",\"2019-12-01T00:00:00\",\"2020-01-01T00:00:00\",\"2020-02-01T00:00:00\",\"2020-03-01T00:00:00\",\"2020-04-01T00:00:00\",\"2020-05-01T00:00:00\",\"2020-06-01T00:00:00\",\"2020-07-01T00:00:00\",\"2020-08-01T00:00:00\",\"2020-09-01T00:00:00\",\"2020-10-01T00:00:00\",\"2020-11-01T00:00:00\",\"2020-12-01T00:00:00\"],\"y\":[1.0625819160507468,1.0432510189442137,1.016439296054512,0.9937078513840998,1.015841333689782,1.0153559115765178,1.0375249652919787,1.0358850676610851,1.0079119892238289,0.9842811820152418,1.0009794932361376,1.0251537053936173,1.0244234242453236,1.0183231022778714,1.0384046797939988,1.086070455104084,1.096236656850477,1.0987510512914485,1.0933105968013594,1.042422071783194,1.061089090587998,1.0859179116196256,1.1138918053699827,1.1378581012230566,1.1379263801530872,1.1775880294998866,1.2127549708638754,1.230215390572341,1.2207988780651786,1.1623658858899302,1.1615317013136128,1.1275201866771694,1.1363503156127042,1.1613694150594063,1.166913285457005,1.1755339615350802,1.1795602691276783,1.1832509661460444,1.230463005884925,1.2837557208232675,1.3183557903710004,1.3504258719556472,1.3803983055921496,1.4063350427476413,1.476429205573463,1.517659479633795,1.5579292372800677,1.579492130532915,1.6093827880766909,1.6049807674795995,1.5777592177405044,1.5754792632466668,1.60179241835901,1.585080905590756,1.5722413536089295,1.6184938683905077,1.650621645647936,1.7044590178244317,1.729502691957721,1.7060860466784884,1.7715093498916379,1.7600948654097957,1.7242869237300618,1.7441242567902475,1.7561960226788482,1.7905682976443162,1.7966795002318328,1.8209415148245816,1.8033053502452885,1.842959559200328,1.8479343825723538,1.871586191173761,1.8751166621346855,1.8946905755481052,1.916587220391564,1.8989314378367634,1.8762538878097763,1.8849227845945407,1.9222549894238992,1.9336254211394701,1.96002993827411,1.9742841781590972,1.9996609908069993,2.0006712929079735,1.973914466442206,1.9911670493114562,2.039248909079769,2.078154249011334,2.0526017720360206,2.0253296876774387,2.035845666385356,2.1084304056581566,2.1608271226686133,2.0865004021395603,2.069686606698767,1.9619478951678646,1.973962145015233,1.937823707713265,2.005559633251634,2.0254585210005205,1.9044542176355372,1.8835926238485627,1.8709260752435732,1.7625667314919957,1.5040348970310937,1.3944663163735571,1.415883719378225,1.32519394910146,1.2373953873885786,1.3178280363481958,1.4506206721602435,1.565008741143547,1.5432851820954345,1.6768780536872223,1.6975114269886642,1.7464831071882227,1.6986775670707586,1.7432758076903683,1.7763799321347526,1.7300884181898692,1.7714731653278006,1.8820769166043916,1.8943448069604496,1.8007248389066526,1.7623920558214163,1.8688784548395208,1.8038429223462067,1.8907188454163417,1.9289050006627035,1.919118146634328,2.012724437249782,2.0320876875865337,2.121942897298106,2.129774767760625,2.1614589321609605,2.126247614984898,2.100670153692691,2.0471389176806722,1.974041256687166,1.8387127910879333,1.9753729617217575,1.9482704172317393,1.9678242535152046,2.0236135098503465,2.077058808685824,2.100536425297732,2.0875711393916965,1.968249682255041,2.0072780042262868,2.026538940559779,2.067863784366161,2.105751190663037,2.1280062941484497,2.1286061051960186,2.1475221613671773,2.209368034305331,2.191087682516082,2.2158237128940668,2.24088363866764,2.2245483456358914,2.192981016328135,2.274193435128156,2.2277782778624484,2.2728752420510645,2.3165290329854624,2.342439748018165,2.3717691558209677,2.280991639337045,2.335423074473164,2.374344950270338,2.4146156553940883,2.4199499048581976,2.450165423563012,2.4083462694611057,2.460252138595336,2.4142169324924345,2.440266171608297,2.4673114254931603,2.4544483310075984,2.3789119747849217,2.4444641736103008,2.411549891553077,2.4377102756341484,2.4298036488704713,2.392813367485751,2.4046068221228207,2.311250964539876,2.2849906879700717,2.387417622576138,2.382431189219053,2.3521543513166945,2.3388515093791633,2.3454054658474153,2.445471301039561,2.4752147558153097,2.481610894212131,2.5149130190729196,2.524547410337753,2.5279014425432718,2.5129514103242707,2.483641763571141,2.520971706089202,2.563617364599286,2.5676604291834586,2.609548106311808,2.620919101474979,2.6266983085783115,2.649815339760133,2.6636403917547664,2.6921970537978552,2.691045366703616,2.7286176978528363,2.747028502142656,2.7992565741855584,2.823229557444417,2.9023625084903557,2.803602436695569,2.7620087259275032,2.762328147118494,2.782976845464694,2.7934201268431234,2.8727577700249487,2.9065467209048053,2.918868346995156,2.8259941768664016,2.8946494333436563,2.731121840565916,2.827955294351071,2.8897243051153865,2.9201310438100445,2.9757788156096687,2.894339713219265,3.0058075025742377,3.004546442658275,2.993368384911124,3.0300531270050097,3.0481102559461886,3.0967129365017634,3.145013503997647,3.1458471573900786,2.9829226735234218,2.749581734471612,2.930179965820418,2.9882626732684225,3.001996624095574,3.0840613393928806,3.197170913719473,3.139297602436742,3.073179686849987,3.279037458239534,3.3444470209825443],\"mode\":\"lines\",\"line\":{},\"marker\":{},\"name\":\"Indexed (\\\"Mine\\\", 3)\"},{\"type\":\"scatter\",\"x\":[\"2000-02-01T00:00:00\",\"2000-03-01T00:00:00\",\"2000-04-01T00:00:00\",\"2000-05-01T00:00:00\",\"2000-06-01T00:00:00\",\"2000-07-01T00:00:00\",\"2000-08-01T00:00:00\",\"2000-09-01T00:00:00\",\"2000-10-01T00:00:00\",\"2000-11-01T00:00:00\",\"2000-12-01T00:00:00\",\"2001-01-01T00:00:00\",\"2001-02-01T00:00:00\",\"2001-03-01T00:00:00\",\"2001-04-01T00:00:00\",\"2001-05-01T00:00:00\",\"2001-06-01T00:00:00\",\"2001-07-01T00:00:00\",\"2001-08-01T00:00:00\",\"2001-09-01T00:00:00\",\"2001-10-01T00:00:00\",\"2001-11-01T00:00:00\",\"2001-12-01T00:00:00\",\"2002-01-01T00:00:00\",\"2002-02-01T00:00:00\",\"2002-03-01T00:00:00\",\"2002-04-01T00:00:00\",\"2002-05-01T00:00:00\",\"2002-06-01T00:00:00\",\"2002-07-01T00:00:00\",\"2002-08-01T00:00:00\",\"2002-09-01T00:00:00\",\"2002-10-01T00:00:00\",\"2002-11-01T00:00:00\",\"2002-12-01T00:00:00\",\"2003-01-01T00:00:00\",\"2003-02-01T00:00:00\",\"2003-03-01T00:00:00\",\"2003-04-01T00:00:00\",\"2003-05-01T00:00:00\",\"2003-06-01T00:00:00\",\"2003-07-01T00:00:00\",\"2003-08-01T00:00:00\",\"2003-09-01T00:00:00\",\"2003-10-01T00:00:00\",\"2003-11-01T00:00:00\",\"2003-12-01T00:00:00\",\"2004-01-01T00:00:00\",\"2004-02-01T00:00:00\",\"2004-03-01T00:00:00\",\"2004-04-01T00:00:00\",\"2004-05-01T00:00:00\",\"2004-06-01T00:00:00\",\"2004-07-01T00:00:00\",\"2004-08-01T00:00:00\",\"2004-09-01T00:00:00\",\"2004-10-01T00:00:00\",\"2004-11-01T00:00:00\",\"2004-12-01T00:00:00\",\"2005-01-01T00:00:00\",\"2005-02-01T00:00:00\",\"2005-03-01T00:00:00\",\"2005-04-01T00:00:00\",\"2005-05-01T00:00:00\",\"2005-06-01T00:00:00\",\"2005-07-01T00:00:00\",\"2005-08-01T00:00:00\",\"2005-09-01T00:00:00\",\"2005-10-01T00:00:00\",\"2005-11-01T00:00:00\",\"2005-12-01T00:00:00\",\"2006-01-01T00:00:00\",\"2006-02-01T00:00:00\",\"2006-03-01T00:00:00\",\"2006-04-01T00:00:00\",\"2006-05-01T00:00:00\",\"2006-06-01T00:00:00\",\"2006-07-01T00:00:00\",\"2006-08-01T00:00:00\",\"2006-09-01T00:00:00\",\"2006-10-01T00:00:00\",\"2006-11-01T00:00:00\",\"2006-12-01T00:00:00\",\"2007-01-01T00:00:00\",\"2007-02-01T00:00:00\",\"2007-03-01T00:00:00\",\"2007-04-01T00:00:00\",\"2007-05-01T00:00:00\",\"2007-06-01T00:00:00\",\"2007-07-01T00:00:00\",\"2007-08-01T00:00:00\",\"2007-09-01T00:00:00\",\"2007-10-01T00:00:00\",\"2007-11-01T00:00:00\",\"2007-12-01T00:00:00\",\"2008-01-01T00:00:00\",\"2008-02-01T00:00:00\",\"2008-03-01T00:00:00\",\"2008-04-01T00:00:00\",\"2008-05-01T00:00:00\",\"2008-06-01T00:00:00\",\"2008-07-01T00:00:00\",\"2008-08-01T00:00:00\",\"2008-09-01T00:00:00\",\"2008-10-01T00:00:00\",\"2008-11-01T00:00:00\",\"2008-12-01T00:00:00\",\"2009-01-01T00:00:00\",\"2009-02-01T00:00:00\",\"2009-03-01T00:00:00\",\"2009-04-01T00:00:00\",\"2009-05-01T00:00:00\",\"2009-06-01T00:00:00\",\"2009-07-01T00:00:00\",\"2009-08-01T00:00:00\",\"2009-09-01T00:00:00\",\"2009-10-01T00:00:00\",\"2009-11-01T00:00:00\",\"2009-12-01T00:00:00\",\"2010-01-01T00:00:00\",\"2010-02-01T00:00:00\",\"2010-03-01T00:00:00\",\"2010-04-01T00:00:00\",\"2010-05-01T00:00:00\",\"2010-06-01T00:00:00\",\"2010-07-01T00:00:00\",\"2010-08-01T00:00:00\",\"2010-09-01T00:00:00\",\"2010-10-01T00:00:00\",\"2010-11-01T00:00:00\",\"2010-12-01T00:00:00\",\"2011-01-01T00:00:00\",\"2011-02-01T00:00:00\",\"2011-03-01T00:00:00\",\"2011-04-01T00:00:00\",\"2011-05-01T00:00:00\",\"2011-06-01T00:00:00\",\"2011-07-01T00:00:00\",\"2011-08-01T00:00:00\",\"2011-09-01T00:00:00\",\"2011-10-01T00:00:00\",\"2011-11-01T00:00:00\",\"2011-12-01T00:00:00\",\"2012-01-01T00:00:00\",\"2012-02-01T00:00:00\",\"2012-03-01T00:00:00\",\"2012-04-01T00:00:00\",\"2012-05-01T00:00:00\",\"2012-06-01T00:00:00\",\"2012-07-01T00:00:00\",\"2012-08-01T00:00:00\",\"2012-09-01T00:00:00\",\"2012-10-01T00:00:00\",\"2012-11-01T00:00:00\",\"2012-12-01T00:00:00\",\"2013-01-01T00:00:00\",\"2013-02-01T00:00:00\",\"2013-03-01T00:00:00\",\"2013-04-01T00:00:00\",\"2013-05-01T00:00:00\",\"2013-06-01T00:00:00\",\"2013-07-01T00:00:00\",\"2013-08-01T00:00:00\",\"2013-09-01T00:00:00\",\"2013-10-01T00:00:00\",\"2013-11-01T00:00:00\",\"2013-12-01T00:00:00\",\"2014-01-01T00:00:00\",\"2014-02-01T00:00:00\",\"2014-03-01T00:00:00\",\"2014-04-01T00:00:00\",\"2014-05-01T00:00:00\",\"2014-06-01T00:00:00\",\"2014-07-01T00:00:00\",\"2014-08-01T00:00:00\",\"2014-09-01T00:00:00\",\"2014-10-01T00:00:00\",\"2014-11-01T00:00:00\",\"2014-12-01T00:00:00\",\"2015-01-01T00:00:00\",\"2015-02-01T00:00:00\",\"2015-03-01T00:00:00\",\"2015-04-01T00:00:00\",\"2015-05-01T00:00:00\",\"2015-06-01T00:00:00\",\"2015-07-01T00:00:00\",\"2015-08-01T00:00:00\",\"2015-09-01T00:00:00\",\"2015-10-01T00:00:00\",\"2015-11-01T00:00:00\",\"2015-12-01T00:00:00\",\"2016-01-01T00:00:00\",\"2016-02-01T00:00:00\",\"2016-03-01T00:00:00\",\"2016-04-01T00:00:00\",\"2016-05-01T00:00:00\",\"2016-06-01T00:00:00\",\"2016-07-01T00:00:00\",\"2016-08-01T00:00:00\",\"2016-09-01T00:00:00\",\"2016-10-01T00:00:00\",\"2016-11-01T00:00:00\",\"2016-12-01T00:00:00\",\"2017-01-01T00:00:00\",\"2017-02-01T00:00:00\",\"2017-03-01T00:00:00\",\"2017-04-01T00:00:00\",\"2017-05-01T00:00:00\",\"2017-06-01T00:00:00\",\"2017-07-01T00:00:00\",\"2017-08-01T00:00:00\",\"2017-09-01T00:00:00\",\"2017-10-01T00:00:00\",\"2017-11-01T00:00:00\",\"2017-12-01T00:00:00\",\"2018-01-01T00:00:00\",\"2018-02-01T00:00:00\",\"2018-03-01T00:00:00\",\"2018-04-01T00:00:00\",\"2018-05-01T00:00:00\",\"2018-06-01T00:00:00\",\"2018-07-01T00:00:00\",\"2018-08-01T00:00:00\",\"2018-09-01T00:00:00\",\"2018-10-01T00:00:00\",\"2018-11-01T00:00:00\",\"2018-12-01T00:00:00\",\"2019-01-01T00:00:00\",\"2019-02-01T00:00:00\",\"2019-03-01T00:00:00\",\"2019-04-01T00:00:00\",\"2019-05-01T00:00:00\",\"2019-06-01T00:00:00\",\"2019-07-01T00:00:00\",\"2019-08-01T00:00:00\",\"2019-09-01T00:00:00\",\"2019-10-01T00:00:00\",\"2019-11-01T00:00:00\",\"2019-12-01T00:00:00\",\"2020-01-01T00:00:00\",\"2020-02-01T00:00:00\",\"2020-03-01T00:00:00\",\"2020-04-01T00:00:00\",\"2020-05-01T00:00:00\",\"2020-06-01T00:00:00\",\"2020-07-01T00:00:00\",\"2020-08-01T00:00:00\",\"2020-09-01T00:00:00\",\"2020-10-01T00:00:00\",\"2020-11-01T00:00:00\",\"2020-12-01T00:00:00\"],\"y\":[1.0154844724491219,1.0488583724278882,1.0064328545284194,0.978317898777139,1.0070077508556907,0.9910328980911256,1.0350654368237207,0.9994125551072036,0.981979070110214,0.915447565365639,0.9223326734878343,0.9405784462012804,0.8808348427660813,0.8404180883466627,0.8825922271360078,0.886608497347406,0.8757376362006115,0.8639484467353593,0.8286747744703625,0.7802289690173995,0.7923597149675633,0.8301190260731216,0.838565910911424,0.8309340574127446,0.8189077480500457,0.8408525247534524,0.8132179042157949,0.8061251265335551,0.7693911408714856,0.7296142517883837,0.7319199031721192,0.6840420976587325,0.7179365969074881,0.7449800834185005,0.7178595969684645,0.7061994784869945,0.6978084427432205,0.7026156522170981,0.7391179301226559,0.7673797055982067,0.774266688157912,0.7857664478813718,0.7973873452927891,0.7911381894762438,0.8215390766559294,0.8285486619284929,0.851013621521467,0.862577547439424,0.870209866450028,0.8629500061534405,0.852969167035354,0.8592765546897555,0.8693778306470298,0.8470696103653494,0.8474979018280169,0.8560680620967807,0.8638050988807066,0.8885908420634956,0.9078539466409593,0.8920175854932597,0.9026728822538588,0.8914339008863553,0.8767290717431497,0.8969540750583093,0.9001853610085623,0.9224875936831861,0.9153746283160703,0.9182094469586274,0.9064868602053263,0.9271691702594278,0.9257041982724321,0.9434901105617077,0.9417011987303185,0.950390729158843,0.9547755856139204,0.9332328996488581,0.9311685254883971,0.9265780970658815,0.9384660861362619,0.9493796535442579,0.9687605013718797,0.9792304093112784,0.9846147740770175,0.993326911415414,0.9810219968611874,0.9852381656350723,1.006970029871106,1.0275901829234337,1.014860829422261,0.9909361762050162,0.9966980513094007,1.0169818742156098,1.0285514130166655,0.9971533060110092,0.991670390983174,0.9518087850599344,0.9332205345092828,0.9277352701339054,0.9547072128523335,0.9659303295110948,0.9144052609014117,0.9099552633652015,0.9187544352527252,0.8651004792040489,0.7708936993042356,0.7325982321736668,0.7406547142257979,0.702644339598883,0.6577917776101857,0.6950002469922637,0.7397162592202838,0.764073787607179,0.766150297889105,0.8035322179487494,0.8204435515791145,0.8415998263250675,0.8278234267540703,0.856913367279119,0.8718069760236186,0.8532934156562724,0.8716295440283289,0.9063904935372233,0.9178476189456505,0.872077934510564,0.841377761531047,0.8782292125597728,0.8517529556051104,0.903109093141834,0.9252554487910862,0.9287641245066467,0.9687973087654277,0.9809820505288399,1.0026200356208375,1.005534941525537,1.0239649482545885,1.0157459452226516,1.0045114522911465,0.9895919929917997,0.9521280637637975,0.9064542295373397,0.9714779882804219,0.9697588083781983,0.9742943147567544,1.0053908408974257,1.033476687734986,1.0537904985255617,1.0481293632397124,1.0071244529391556,1.0318851616675688,1.037037315100889,1.0537507184162753,1.0719322665515556,1.0600085857589896,1.0652341635217544,1.0731784962103914,1.1109581076049253,1.1200158032253518,1.1485430281257294,1.159794498924606,1.1803188485991674,1.1713670373212999,1.2131954877242561,1.1924162119672248,1.220828064478445,1.2530803960104617,1.2778690875037633,1.3005637126417602,1.2732739319549273,1.310694047998138,1.3142560988252587,1.3126778919488766,1.329768429411756,1.3517038948849516,1.33427611516731,1.3700315363093825,1.35297357521164,1.3745222310342449,1.3966747072072023,1.3961450719984478,1.3687027240816034,1.4218165801140805,1.4117520865540891,1.4170163883543543,1.429196299238673,1.4153761210339708,1.4291521140662136,1.3745957116675973,1.3479244420603265,1.4139477956811441,1.4189521924095376,1.3994915206944067,1.3484555459376764,1.3477737460111479,1.4070603482343336,1.4152418095489325,1.4311631995896161,1.4307109382195295,1.4664282958590376,1.4710623506643115,1.473386700096944,1.454576282201271,1.4992552468311051,1.516500806564182,1.5350948869801533,1.569731368657177,1.5714179394988848,1.5822434536994343,1.5928435424653973,1.6006958635757127,1.6196141047871648,1.6212519085412078,1.646970936534,1.6703915778423046,1.7033300321210778,1.7147413288440938,1.7752145557585108,1.734262656896585,1.7085046020083803,1.7116360447868737,1.7403033999390491,1.745582945418129,1.7807763678560429,1.819493052005036,1.8201830248222233,1.7318330135758226,1.7503309400203035,1.6446847424170448,1.732104377372137,1.7693249718763964,1.7816256943901185,1.8262161574752405,1.7461144118387621,1.8225923658333354,1.8363001367382021,1.8063572476365064,1.822682880011628,1.8464134770109721,1.8915751743325946,1.9246908563622014,1.9233527704523132,1.824524812387003,1.67023536746286,1.8143276285642995,1.8783129332476747,1.9075163311128294,1.9770787070780806,2.072419514617368,2.0248734443953564,1.9979985040559007,2.155466369886235,2.218540689085558],\"mode\":\"lines\",\"line\":{},\"marker\":{},\"name\":\"Named \\\"Mkt-Rf\\\"\"}];\n            var layout = {\"title\":\"Growth of 1 Euro\"};\n            var config = {};\n            Plotly.newPlot('cd9bb939-d5ed-4fd3-8213-f782b0c792fb', data, layout, config);\r\n});\n            };\n            if ((typeof(requirejs) !==  typeof(Function)) || (typeof(requirejs.config) !== typeof(Function))) {\n                var script = document.createElement(\"script\");\n                script.setAttribute(\"src\", \"https://cdnjs.cloudflare.com/ajax/libs/require.js/2.3.6/require.min.js\");\n                script.onload = function(){\n                    renderPlotly_cd9bb939d5ed4fd38213f782b0c792fb();\n                };\n                document.getElementsByTagName(\"head\")[0].appendChild(script);\n            }\n            else {\n                renderPlotly_cd9bb939d5ed4fd38213f782b0c792fb();\n            }\r\n</script>\r\n"
     },
     "output_type": "unknown"
    }
   ],
   "source": [
    "combinedChart\n"
   ]
  },
  {
   "cell_type": "markdown",
   "metadata": {},
   "source": [
    "You might also want to save your results to a csv file.\n"
   ]
  },
  {
   "cell_type": "code",
   "execution_count": null,
   "metadata": {
    "dotnet_interactive": {
     "language": "fsharp"
    }
   },
   "outputs": [],
   "source": [
    "type PortfolioReturnCsv = CsvProvider<\"portfolioName(string),index(int option),yearMonth(date),ret(float)\">\n",
    "\n",
    "let makePortfolioReturnCsvRow (row:PortfolioReturn) =\n",
    "    let name, index =\n",
    "        match row.PortfolioId with\n",
    "        | Indexed(name, index) -> name, Some index\n",
    "        | Named(name) -> name, None\n",
    "    PortfolioReturnCsv\n",
    "        .Row(portfolioName=name,\n",
    "             index = index,\n",
    "             yearMonth=DateTime(row.YearMonth.Year,row.YearMonth.Month,1),\n",
    "             ret=row.Return)\n",
    "\n",
    "portfolioExcessReturns\n",
    "|> Array.map makePortfolioReturnCsvRow\n",
    "|> fun rows -> \n",
    "    let csv = new PortfolioReturnCsv(rows)\n",
    "    csv.Save(\"myExcessReturnPortfolios.csv\")\n"
   ]
  }
 ],
 "metadata": {
  "kernelspec": {
   "display_name": "base",
   "language": "python",
   "name": "base"
  },
  "language_info": {
   "codemirror_mode": {
    "name": "ipython",
    "version": 3
   },
   "file_extension": ".py",
   "mimetype": "text/x-python",
   "name": "python",
   "nbconvert_exporter": "python",
   "pygments_lexer": "ipython3",
   "version": "3.8.5"
  }
 },
 "nbformat": 4,
 "nbformat_minor": 4
}
