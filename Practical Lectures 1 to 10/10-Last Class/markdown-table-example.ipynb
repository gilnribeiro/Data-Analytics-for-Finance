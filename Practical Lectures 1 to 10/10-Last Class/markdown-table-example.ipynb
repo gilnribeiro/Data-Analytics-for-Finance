{
 "cells": [
  {
   "cell_type": "code",
   "execution_count": null,
   "metadata": {
    "dotnet_interactive": {
     "language": "fsharp"
    }
   },
   "outputs": [],
   "source": [
    "// Markdown info"
   ]
  },
  {
   "cell_type": "markdown",
   "metadata": {},
   "source": [
    "Markdown is a way to format text that is often used for programming documentation. This is also the standard for text formatting in notebooks. The basic idea was to make a \"markup\" language that was symbol and looked good in plaintext but that easily be parsed and converted to HTML.\r\n",
    "\r\n",
    "The original markdown spec by the inventor at [Daringfireball](https://daringfireball.net/projects/markdown/) and a good \"Markdown in 60 seconds\" version at [CommonMark](https://commonmark.org/help/).\r\n",
    "\r\n",
    "[Here](https://talk.commonmark.org/t/tables-in-pure-markdown/81) is some documentation on how to make markdown tables.\r\n",
    "\r\n",
    "| **Column 1** | **Column 2** |\r\n",
    "|--------------|--------------|\r\n",
    "|    1.2       | 1.3          |\r\n",
    "|    4.0       |  5.0         |\r\n",
    "\r\n"
   ]
  },
  {
   "cell_type": "markdown",
   "metadata": {},
   "source": []
  }
 ],
 "metadata": {
  "interpreter": {
   "hash": "0e0f0624a6fac4c1c56180c32e1ded926947850460a5af910967bb56a5b2e8c4"
  },
  "kernelspec": {
   "display_name": "Python 3.9.2 64-bit ('r_env': conda)",
   "name": "python3"
  },
  "language_info": {
   "name": "python",
   "version": ""
  },
  "orig_nbformat": 3
 },
 "nbformat": 4,
 "nbformat_minor": 2
}