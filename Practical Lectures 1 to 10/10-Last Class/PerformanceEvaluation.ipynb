{
 "cells": [
  {
   "cell_type": "markdown",
   "metadata": {},
   "source": [
    "# Performance evaluation\n",
    "\n",
    "We're going to evaluate portfolio performance. The common way to do this is to estimate a portfolio's return adjusted for risk using a factor model with tradeable risk factors. \n",
    "\n",
    "What's a risk factor? These risk factors are portfolios and the idea is that the expected excess return on these risk factors is compensation to investors for bearing the risk inherent in holding those portfolios. For the return variation in these factors to be \"risky\", it should be something that investors cannot easily diversify. If it was easy to diversify, then investors could put a small bit of the asset in their portfolio and capture the return without affecting portfolio volatility. That would imply being able to increase return without adding risk. Hence the requirement that a factor constitute return variation that is hard to diversify away.\n",
    "\n",
    "The greater the riskiness of the factor, the greater the factor's expected return (i.e., the risk-return tradeoff). For example, most people feel that stocks are riskier than bonds and indeed stocks have historically had higher returns than bonds.\n",
    "\n",
    "The risk adjustment involves estimating a portfolio's $\\beta$'s on different risk factors. These $\\beta$'s constitute the exposure of the portfolio to the risk factor. If the factor return goes up by 1%, then the portfolio's return goes up by $\\beta \\times 1\\%$. \n",
    "\n",
    "We can estimate these $\\beta$'s by OLS regressions of the portfolio's returns on contemporaneous returns of the risk factors. The slope coefficients on the risk factors are the portfolio's betas on the risk factors. The regression intercept is known as $\\alpha$. It represents the average return of the portfolio that is not explained by the portfolio's $\\beta$'s on the risk factors. This alpha is the risk-adjusted return. \n",
    "\n",
    "Intuitively, $\\alpha$ is the average return on a portfolio long the investment you are evaluating and short a portfolio with the same factor risk as that portfolio. If the factors and factor betas accurately measure the portfolio's risk, then the alpha is the portfolio's return that is unrelated to the portfolio's risk. Investors like positive alphas because that implies that the portfolio's return is higher than what investors require for bearing the portfolio's risk.\n",
    "\n",
    "One thing to keep in mind is that throughout this discussion, we have discussed things from the perspective of arbitrage. That is, like a trader. We have not made any assumptions about utility functions or return distributions. This is the Arbitrage Pricing Theory (APT) of Stephen Ross (1976). He was motivated by the observation that\n",
    "\n",
    "> \"... on theoretical grounds it is difficult to justify either the assumption [in mean-variance anlysis and CAPM] of normality in returns...or of quadratic preferences...and on empirical grounds the conclusions as well as the assumptions of the theory have also come under attack.\"\n",
    "\n",
    "The APT way of thinking is less restrictive than economically motivated equilibrium asset pricing models. Which is nice. But it has the cost that it does not tell us as much. With the APT we cannot say precisely what a security's return should be. We can only say that if we go long a portfolio and short the portfolio that replicates its factor exposure, then the alpha shouldn't be *too* big. But if we're thinking like a trader, that's perhaps most of what we care about anyway.\n",
    "\n",
    "\n"
   ]
  },
  {
   "cell_type": "code",
   "execution_count": null,
   "metadata": {
    "dotnet_interactive": {
     "language": "fsharp"
    }
   },
   "outputs": [
    {
     "data": {
      "text/plain": "Installed package FSharp.Stats version 0.4.1"
     },
     "output_type": "unknown"
    },
    {
     "data": {
      "text/plain": "Installed package FSharp.Data version 4.1.1"
     },
     "output_type": "unknown"
    }
   ],
   "source": [
    "#r \"nuget: FSharp.Stats, 0.4.1\"\n",
    "#r \"nuget: FSharp.Data\"\n",
    "\n",
    "#load \"../common.fsx\"\n",
    "\n",
    "open System\n",
    "open FSharp.Data\n",
    "open Common\n",
    "\n",
    "open FSharp.Stats\n",
    "\n",
    "Environment.CurrentDirectory <- __SOURCE_DIRECTORY__\n"
   ]
  },
  {
   "cell_type": "markdown",
   "metadata": {},
   "source": [
    "We get the Fama-French 3-Factor asset pricing model data.\n"
   ]
  },
  {
   "cell_type": "code",
   "execution_count": null,
   "metadata": {
    "dotnet_interactive": {
     "language": "fsharp"
    }
   },
   "outputs": [],
   "source": [
    "let ff3 = French.getFF3 Frequency.Monthly\n"
   ]
  },
  {
   "cell_type": "markdown",
   "metadata": {},
   "source": [
    "Let's get our factor data.\n"
   ]
  },
  {
   "cell_type": "code",
   "execution_count": null,
   "metadata": {
    "dotnet_interactive": {
     "language": "fsharp"
    }
   },
   "outputs": [],
   "source": [
    "let myFactorPorts = CsvProvider<\"myExcessReturnPortfolios.csv\",\n",
    "                                ResolutionFolder = __SOURCE_DIRECTORY__>.GetSample()\n"
   ]
  },
  {
   "cell_type": "markdown",
   "metadata": {},
   "source": [
    "[ML.NET](https://docs.microsoft.com/en-us/dotnet/machine-learning/) is a .NET (C#/F#/VB.NET) machine learning library. There are several [tutorials](https://dotnet.microsoft.com/learn/ml-dotnet) and many F# examples in the sample github repository [here](https://github.com/dotnet/machinelearning-samples/tree/main/samples/fsharp/getting-started).\n",
    "\n",
    "We will use ML.NET for Ordinary Least Squares (OLS) regression, but you can also do pretty fancy machine learning models with it. So think of it as a gentle introduction giving you some guidance on how to use ML.NET. This will help if you want to experiment with fancy machine learning models after you're done with this course.\n"
   ]
  },
  {
   "cell_type": "code",
   "execution_count": null,
   "metadata": {
    "dotnet_interactive": {
     "language": "fsharp"
    }
   },
   "outputs": [
    {
     "data": {
      "text/plain": "Installed package Microsoft.ML version 1.5.0"
     },
     "output_type": "unknown"
    },
    {
     "data": {
      "text/plain": "Installed package Microsoft.ML.MKL.Components version 1.5.0"
     },
     "output_type": "unknown"
    }
   ],
   "source": [
    "#r \"nuget:Microsoft.ML,1.5\"\n",
    "#r \"nuget:Microsoft.ML.MKL.Components,1.5\"\n",
    "\n",
    "open Microsoft.ML\n",
    "open Microsoft.ML.Data\n"
   ]
  },
  {
   "cell_type": "markdown",
   "metadata": {},
   "source": [
    "Let's start with our long-short portfolio.\n"
   ]
  },
  {
   "cell_type": "code",
   "execution_count": null,
   "metadata": {
    "dotnet_interactive": {
     "language": "fsharp"
    }
   },
   "outputs": [
    {
     "data": {
      "text/html": "<table><thead><tr><th><i>index</i></th><th>Item1</th><th>Item2</th><th>Item3</th><th>Item4</th></tr></thead><tbody><tr><td>0</td><td>Mine</td><td><table><thead><tr><th>Value</th></tr></thead><tbody><tr><td><div class=\"dni-plaintext\">3</div></td></tr></tbody></table></td><td><span>2000-02-01 00:00:00Z</span></td><td><div class=\"dni-plaintext\">-0.023504318580928413</div></td></tr><tr><td>1</td><td>Mine</td><td><table><thead><tr><th>Value</th></tr></thead><tbody><tr><td><div class=\"dni-plaintext\">3</div></td></tr></tbody></table></td><td><span>2000-03-01 00:00:00Z</span></td><td><div class=\"dni-plaintext\">0.08645743985613241</div></td></tr><tr><td>2</td><td>Mine</td><td><table><thead><tr><th>Value</th></tr></thead><tbody><tr><td><div class=\"dni-plaintext\">3</div></td></tr></tbody></table></td><td><span>2000-04-01 00:00:00Z</span></td><td><div class=\"dni-plaintext\">-0.021817835230565925</div></td></tr></tbody></table>"
     },
     "output_type": "unknown"
    }
   ],
   "source": [
    "// Get Long Portfolio\r\n",
    "let long = myFactorPorts.Rows |> Seq.filter(fun row -> row.PortfolioName = \"Mine\" && row.Index = Some 3)\r\n",
    "// Get Short Portfolio\r\n",
    "let short = myFactorPorts.Rows |> Seq.filter(fun row -> row.PortfolioName = \"Mine\" && row.Index = Some 1)\r\n",
    "\r\n",
    "long |> Seq.take 3"
   ]
  },
  {
   "cell_type": "code",
   "execution_count": null,
   "metadata": {
    "dotnet_interactive": {
     "language": "fsharp"
    }
   },
   "outputs": [
    {
     "data": {
      "text/html": "<table><thead><tr><th><i>index</i></th><th>YearMonth</th><th>Return</th></tr></thead><tbody><tr><td>0</td><td><span>2000-02-01 00:00:00Z</span></td><td><div class=\"dni-plaintext\">-0.09159469165540102</div></td></tr><tr><td>1</td><td><span>2000-03-01 00:00:00Z</span></td><td><div class=\"dni-plaintext\">0.008860871744062651</div></td></tr><tr><td>2</td><td><span>2000-04-01 00:00:00Z</span></td><td><div class=\"dni-plaintext\">0.07751895876386396</div></td></tr><tr><td>3</td><td><span>2000-05-01 00:00:00Z</span></td><td><div class=\"dni-plaintext\">0.04945087705506296</div></td></tr><tr><td>4</td><td><span>2000-06-01 00:00:00Z</span></td><td><div class=\"dni-plaintext\">-0.059241392068224354</div></td></tr></tbody></table>"
     },
     "output_type": "unknown"
    }
   ],
   "source": [
    "// Get Long Portfolio\r\n",
    "let long = myFactorPorts.Rows |> Seq.filter(fun row -> row.PortfolioName = \"Mine\" && row.Index = Some 3)\r\n",
    "// Get Short Portfolio\r\n",
    "let short = myFactorPorts.Rows |> Seq.filter(fun row -> row.PortfolioName = \"Mine\" && row.Index = Some 1)\r\n",
    "\r\n",
    "type Return = { YearMonth : DateTime; Return : float }\r\n",
    "let longShort =\r\n",
    "    // this is joining long to short by YearMonth:DateTime and we get the whole row for it\r\n",
    "    let shortMap = short |> Seq.map(fun row -> row.YearMonth, row) |> Map\r\n",
    "    long\r\n",
    "    |> Seq.map(fun longObs -> \r\n",
    "        match Map.tryFind longObs.YearMonth shortMap with\r\n",
    "        | None -> failwith \"probably your date variables are not aligned\"\r\n",
    "        | Some shortObs -> { YearMonth = longObs.YearMonth; Return = longObs.Ret - shortObs.Ret })\r\n",
    "    |> Seq.toArray    \r\n",
    "        \r\n",
    "longShort |> Seq.take 5"
   ]
  },
  {
   "cell_type": "markdown",
   "metadata": {},
   "source": [
    "For regression, it is helpful to have the portfolio\n",
    "return data merged into our factor model data.\n"
   ]
  },
  {
   "cell_type": "code",
   "execution_count": null,
   "metadata": {
    "dotnet_interactive": {
     "language": "fsharp"
    }
   },
   "outputs": [],
   "source": [
    "type RegData =\n",
    "    // The ML.NET OLS trainer requires 32bit \"single\" floats\n",
    "    { Date : DateTime\n",
    "      Portfolio : single\n",
    "      MktRf : single \n",
    "      Hml : single \n",
    "      Smb : single }\n",
    "\n",
    "// ff3 indexed by month\n",
    "// We're not doing date arithmetic, so I'll just\n",
    "// use DateTime on the 1st of the month to represent a month\n",
    "let ff3ByMonth = \n",
    "    ff3\n",
    "    |> Array.map(fun x -> DateTime(x.Date.Year, x.Date.Month,1), x)\n",
    "    |> Map\n",
    "\n",
    "let longShortRegData =\n",
    "    longShort \n",
    "    |> Array.map(fun port ->\n",
    "        let monthToFind = DateTime(port.YearMonth.Year,port.YearMonth.Month,1)\n",
    "        match Map.tryFind monthToFind ff3ByMonth with\n",
    "        | None -> failwith \"probably you messed up your days of months\"\n",
    "        | Some ff3 -> \n",
    "            { Date = monthToFind\n",
    "              Portfolio = single port.Return // single converts to 32bit\n",
    "              MktRf = single ff3.MktRf \n",
    "              Hml = single ff3.Hml \n",
    "              Smb = single ff3.Smb })\n"
   ]
  },
  {
   "cell_type": "code",
   "execution_count": null,
   "metadata": {
    "dotnet_interactive": {
     "language": "fsharp"
    }
   },
   "outputs": [
    {
     "data": {
      "text/html": "<table><thead><tr><th><i>index</i></th><th>Key</th><th>Value</th></tr></thead><tbody><tr><td>0</td><td><span>1926-07-01 00:00:00Z</span></td><td><table><thead><tr><th>Date</th><th>MktRf</th><th>Smb</th><th>Hml</th><th>Rf</th><th>Frequency</th></tr></thead><tbody><tr><td><div class=\"dni-plaintext\">1926-07-01 00:00:00Z</div></td><td><div class=\"dni-plaintext\">0.0296</div></td><td><div class=\"dni-plaintext\">-0.023</div></td><td><div class=\"dni-plaintext\">-0.0287</div></td><td><div class=\"dni-plaintext\">0.0022</div></td><td><div class=\"dni-plaintext\">Monthly</div></td></tr></tbody></table></td></tr><tr><td>1</td><td><span>1926-08-01 00:00:00Z</span></td><td><table><thead><tr><th>Date</th><th>MktRf</th><th>Smb</th><th>Hml</th><th>Rf</th><th>Frequency</th></tr></thead><tbody><tr><td><div class=\"dni-plaintext\">1926-08-01 00:00:00Z</div></td><td><div class=\"dni-plaintext\">0.0264</div></td><td><div class=\"dni-plaintext\">-0.013999999999999999</div></td><td><div class=\"dni-plaintext\">0.04190000000000001</div></td><td><div class=\"dni-plaintext\">0.0025</div></td><td><div class=\"dni-plaintext\">Monthly</div></td></tr></tbody></table></td></tr></tbody></table>"
     },
     "output_type": "unknown"
    }
   ],
   "source": [
    "ff3ByMonth |> Seq.take 2"
   ]
  },
  {
   "cell_type": "code",
   "execution_count": null,
   "metadata": {
    "dotnet_interactive": {
     "language": "fsharp"
    }
   },
   "outputs": [
    {
     "data": {
      "text/html": "<table><thead><tr><th><i>index</i></th><th>Date</th><th>Portfolio</th><th>MktRf</th><th>Hml</th><th>Smb</th></tr></thead><tbody><tr><td>0</td><td><span>2000-02-01 00:00:00Z</span></td><td><div class=\"dni-plaintext\">-0.09159469</div></td><td><div class=\"dni-plaintext\">0.0245</div></td><td><div class=\"dni-plaintext\">-0.0894</div></td><td><div class=\"dni-plaintext\">0.2119</div></td></tr><tr><td>1</td><td><span>2000-03-01 00:00:00Z</span></td><td><div class=\"dni-plaintext\">0.008860872</div></td><td><div class=\"dni-plaintext\">0.052</div></td><td><div class=\"dni-plaintext\">0.0766</div></td><td><div class=\"dni-plaintext\">-0.1682</div></td></tr><tr><td>2</td><td><span>2000-04-01 00:00:00Z</span></td><td><div class=\"dni-plaintext\">0.07751896</div></td><td><div class=\"dni-plaintext\">-0.064</div></td><td><div class=\"dni-plaintext\">0.0741</div></td><td><div class=\"dni-plaintext\">-0.0693</div></td></tr></tbody></table>"
     },
     "output_type": "unknown"
    }
   ],
   "source": [
    "longShortRegData |> Seq.take 3"
   ]
  },
  {
   "cell_type": "markdown",
   "metadata": {},
   "source": [
    "We need to define a ML.Net [\"context\"](https://docs.microsoft.com/en-us/dotnet/api/microsoft.ml.mlcontext?view=ml-dotnet)\r\n",
    "\r\n",
    "> Once instantiated by the user, it provides a way to create components for data preparation, feature enginering, training, prediction, model evaluation.\r\n",
    "\r\n"
   ]
  },
  {
   "cell_type": "code",
   "execution_count": null,
   "metadata": {
    "dotnet_interactive": {
     "language": "fsharp"
    }
   },
   "outputs": [],
   "source": [
    "let ctx = new MLContext()\n"
   ]
  },
  {
   "cell_type": "markdown",
   "metadata": {},
   "source": [
    "Now we can use the context to transform the data into ML.NET's format.\n",
    "\n",
    "In the below code, a .NET Enumerable collection is equivalent to an F# sequence.\n",
    "This line says load an F# collection were the elements of the collection are `RegData` records.\n",
    "The part between `<>` is how we define the type of the data on the collection.\n"
   ]
  },
  {
   "cell_type": "code",
   "execution_count": null,
   "metadata": {
    "dotnet_interactive": {
     "language": "fsharp"
    }
   },
   "outputs": [],
   "source": [
    "let longShortMlData = ctx.Data.LoadFromEnumerable<RegData>(longShortRegData)\n"
   ]
  },
  {
   "cell_type": "markdown",
   "metadata": {},
   "source": [
    "Now we are going to define our machine learning trainer. OLS!\n",
    "\n",
    "The OLS trainer is documented [here](https://docs.microsoft.com/en-us/dotnet/api/microsoft.ml.mklcomponentscatalog.ols?view=ml-dotnet#Microsoft_ML_MklComponentsCatalog_Ols_Microsoft_ML_RegressionCatalog_RegressionTrainers_Microsoft_ML_Trainers_OlsTrainer_Options_) with an example in C#. Though C# is not the easiest language to follow.\n",
    "\n",
    "But [these](https://github.com/dotnet/machinelearning-samples/blob/main/samples/fsharp/getting-started/Regression_BikeSharingDemand/BikeSharingDemand/BikeSharingDemandConsoleApp/Program.fs) F# regression examples with fancier ML models is easier. So we do the OLS trainer like they do those trainers.\n",
    "\n"
   ]
  },
  {
   "cell_type": "code",
   "execution_count": null,
   "metadata": {
    "dotnet_interactive": {
     "language": "fsharp"
    }
   },
   "outputs": [],
   "source": [
    "let trainer = ctx.Regression.Trainers.Ols()\r\n"
   ]
  },
  {
   "cell_type": "markdown",
   "metadata": {},
   "source": [
    "Now we define the models that we want to estimate.\n",
    "Think of this like an ML pipeline that chains data prep and model estimation.\n",
    "\n",
    "- `Label` is the variable that we are trying to predict or explain with our model.\n",
    "- `Features` are the variables that we are using to predict the label column.\n"
   ]
  },
  {
   "cell_type": "code",
   "execution_count": null,
   "metadata": {
    "dotnet_interactive": {
     "language": "fsharp"
    }
   },
   "outputs": [],
   "source": [
    "let capmModel = \n",
    "    EstimatorChain()\n",
    "        .Append(ctx.Transforms.CopyColumns(\"Label\",\"Portfolio\"))\n",
    "        .Append(ctx.Transforms.Concatenate(\"Features\",[|\"MktRf\"|])) \n",
    "        .Append(trainer)   \n",
    "\n",
    "let ff3Model =\n",
    "    EstimatorChain()\n",
    "        .Append(ctx.Transforms.CopyColumns(\"Label\",\"Portfolio\"))\n",
    "        .Append(ctx.Transforms.Concatenate(\"Features\",[|\"MktRf\";\"Hml\";\"Smb\"|]))\n",
    "        .Append(trainer)   \n"
   ]
  },
  {
   "cell_type": "markdown",
   "metadata": {},
   "source": [
    "Now we can estimate our models.\n"
   ]
  },
  {
   "cell_type": "code",
   "execution_count": null,
   "metadata": {
    "dotnet_interactive": {
     "language": "fsharp"
    }
   },
   "outputs": [],
   "source": [
    "let capmEstimate = longShortMlData |> capmModel.Fit\n",
    "let ff3Estimate = longShortMlData |> ff3Model.Fit\n"
   ]
  },
  {
   "cell_type": "markdown",
   "metadata": {},
   "source": [
    "The results can be found in [OLSModelParameters Class](https://docs.microsoft.com/en-us/dotnet/api/microsoft.ml.trainers.olsmodelparameters?view=ml-dotnet).\r\n",
    "CAPM results."
   ]
  },
  {
   "cell_type": "code",
   "execution_count": null,
   "metadata": {
    "dotnet_interactive": {
     "language": "fsharp"
    }
   },
   "outputs": [
    {
     "data": {
      "text/html": "<table><thead><tr><th>HasStatistics</th><th>StandardErrors</th><th>TValues</th><th>PValues</th><th>Weights</th><th>Bias</th><th>RSquared</th><th>RSquaredAdjusted</th></tr></thead><tbody><tr><td><div class=\"dni-plaintext\">True</div></td><td><div class=\"dni-plaintext\">[ 0.0014720679927722707, 0.03204461466705298 ]</div></td><td><div class=\"dni-plaintext\">[ 2.736204600831987, -5.677019539128863 ]</div></td><td><div class=\"dni-plaintext\">[ 0.006662753410637379, 3.804176174071472E-08 ]</div></td><td><div class=\"dni-plaintext\">[ -0.1819179 ]</div></td><td><div class=\"dni-plaintext\">0.0040278793</div></td><td><div class=\"dni-plaintext\">0.1145991516612822</div></td><td><div class=\"dni-plaintext\">0.11104332496112679</div></td></tr></tbody></table>"
     },
     "output_type": "unknown"
    }
   ],
   "source": [
    "capmEstimate.LastTransformer.Model"
   ]
  },
  {
   "cell_type": "markdown",
   "metadata": {},
   "source": [
    "Fama-French 3-Factor model results\n"
   ]
  },
  {
   "cell_type": "code",
   "execution_count": null,
   "metadata": {
    "dotnet_interactive": {
     "language": "fsharp"
    }
   },
   "outputs": [
    {
     "data": {
      "text/html": "<table><thead><tr><th>HasStatistics</th><th>StandardErrors</th><th>TValues</th><th>PValues</th><th>Weights</th><th>Bias</th><th>RSquared</th><th>RSquaredAdjusted</th></tr></thead><tbody><tr><td><div class=\"dni-plaintext\">True</div></td><td><div class=\"dni-plaintext\">[ 0.0016134248861530685, 0.03678921856345468, 0.05010132774887472, 0.05306389205511768 ]</div></td><td><div class=\"dni-plaintext\">[ 2.761917431665564, -12.710616665687168, 7.707783082678414, -1.2397767932674972 ]</div></td><td><div class=\"dni-plaintext\">[ 0.0061780852265655994, 8.165679352540742E-29, 3.119433964610119E-13, 0.21623453497886658 ]</div></td><td><div class=\"dni-plaintext\">[ -0.46761367, 0.38617018, -0.06578738 ]</div></td><td><div class=\"dni-plaintext\">0.004456146</div></td><td><div class=\"dni-plaintext\">0.5089703597941682</div></td><td><div class=\"dni-plaintext\">0.5030064370386318</div></td></tr></tbody></table>"
     },
     "output_type": "unknown"
    }
   ],
   "source": [
    "ff3Estimate.LastTransformer.Model\n"
   ]
  },
  {
   "cell_type": "markdown",
   "metadata": {},
   "source": [
    "For your portfolio, multiply the Alpha (BIAS) by 12 to get the annual alpha, but DO NOT multiply the t-stat"
   ]
  },
  {
   "cell_type": "markdown",
   "metadata": {},
   "source": [
    "You will probably see that the CAPM $R^2$ is lower than the\n",
    "Fama-French $R^2$. This means that you can explain more of the\n",
    "portfolio's returns with the Fama-French model. Or in trader terms,\n",
    "you can hedge the portfolio better with the multi-factor model.\n",
    "We also want predicted values so that we can get regression residuals for calculating\n",
    "the information ratio. ML.NET calls the predicted value the [score](https://docs.microsoft.com/en-us/dotnet/machine-learning/how-to-guides/machine-learning-model-predictions-ml-net).\n",
    "\n",
    "The ML.NET OLS example shows getting predicted values using [C#](https://docs.microsoft.com/en-us/dotnet/api/microsoft.ml.mklcomponentscatalog.ols?view=ml-dotnet#Microsoft_ML_MklComponentsCatalog_Ols_Microsoft_ML_RegressionCatalog_RegressionTrainers_Microsoft_ML_Trainers_OlsTrainer_Options_) with the `context.Data.CreateEnumarable`. Searching the ML.NET samples github repo for `CreateEnumerable` shows [F#](https://github.com/dotnet/machinelearning-samples/search?l=F%23&q=createenumerable) examples.\n"
   ]
  },
  {
   "cell_type": "code",
   "execution_count": null,
   "metadata": {
    "dotnet_interactive": {
     "language": "fsharp"
    }
   },
   "outputs": [
    {
     "data": {
      "text/html": "<table><thead><tr><th><i>index</i></th><th>Label</th><th>Score</th></tr></thead><tbody><tr><td>0</td><td><div class=\"dni-plaintext\">-0.09159469</div></td><td><div class=\"dni-plaintext\">-0.0004291092</div></td></tr><tr><td>1</td><td><div class=\"dni-plaintext\">0.008860872</div></td><td><div class=\"dni-plaintext\">-0.005431852</div></td></tr><tr><td>2</td><td><div class=\"dni-plaintext\">0.07751896</div></td><td><div class=\"dni-plaintext\">0.015670625</div></td></tr><tr><td>3</td><td><div class=\"dni-plaintext\">0.049450878</div></td><td><div class=\"dni-plaintext\">0.01206865</div></td></tr><tr><td>4</td><td><div class=\"dni-plaintext\">-0.05924139</div></td><td><div class=\"dni-plaintext\">-0.0044131116</div></td></tr></tbody></table>"
     },
     "output_type": "unknown"
    }
   ],
   "source": [
    "[<CLIMutable>]\r\n",
    "type Prediction = { Label : single; Score : single}\r\n",
    "\r\n",
    "let makePredictions (estimate:TransformerChain<_>) data =\r\n",
    "    ctx.Data.CreateEnumerable<Prediction>(estimate.Transform(data),reuseRowObject=false)\r\n",
    "    |> Seq.toArray\r\n",
    "\r\n",
    "makePredictions capmEstimate longShortMlData\r\n",
    "|> Array.take 5"
   ]
  },
  {
   "cell_type": "code",
   "execution_count": null,
   "metadata": {
    "dotnet_interactive": {
     "language": "fsharp"
    }
   },
   "outputs": [
    {
     "data": {
      "text/html": "<table><thead><tr><th><i>index</i></th><th>Label</th><th>Score</th></tr></thead><tbody><tr><td>0</td><td><div class=\"dni-plaintext\">-0.09159469</div></td><td><div class=\"dni-plaintext\">-0.0004291092</div></td></tr><tr><td>1</td><td><div class=\"dni-plaintext\">0.008860872</div></td><td><div class=\"dni-plaintext\">-0.005431852</div></td></tr><tr><td>2</td><td><div class=\"dni-plaintext\">0.07751896</div></td><td><div class=\"dni-plaintext\">0.015670625</div></td></tr></tbody></table>"
     },
     "output_type": "unknown"
    }
   ],
   "source": [
    "[<CLIMutable>]\n",
    "type Prediction = { Label : single; Score : single}\n",
    "\n",
    "let makePredictions (estimate:TransformerChain<_>) data =\n",
    "    ctx.Data.CreateEnumerable<Prediction>(estimate.Transform(data),reuseRowObject=false)\n",
    "    |> Seq.toArray\n",
    "\n",
    "let residuals (xs: Prediction array) = xs |> Array.map(fun x -> x.Label - x.Score)\n",
    "\n",
    "let capmPredictions = makePredictions capmEstimate longShortMlData\n",
    "let ff3Predictions = makePredictions ff3Estimate longShortMlData\n",
    "\n",
    "capmPredictions |> Array.take 3\n"
   ]
  },
  {
   "cell_type": "code",
   "execution_count": null,
   "metadata": {
    "dotnet_interactive": {
     "language": "fsharp"
    }
   },
   "outputs": [
    {
     "data": {
      "text/html": "<table><thead><tr><th><i>index</i></th><th>value</th></tr></thead><tbody><tr><td>0</td><td><div class=\"dni-plaintext\">-0.09116558</div></td></tr><tr><td>1</td><td><div class=\"dni-plaintext\">0.014292724</div></td></tr><tr><td>2</td><td><div class=\"dni-plaintext\">0.061848335</div></td></tr></tbody></table>"
     },
     "output_type": "unknown"
    }
   ],
   "source": [
    "capmPredictions |> residuals |> Array.take 3\n"
   ]
  },
  {
   "cell_type": "code",
   "execution_count": null,
   "metadata": {
    "dotnet_interactive": {
     "language": "fsharp"
    }
   },
   "outputs": [],
   "source": [
    "let capmResiduals = residuals capmPredictions\n",
    "let ff3Residuals = residuals ff3Predictions\n"
   ]
  },
  {
   "cell_type": "markdown",
   "metadata": {},
   "source": [
    "In general I would write a function to do this. Function makes it a bit\n",
    "simpler to follow. It's hard for me to read the next few lines and understand\n",
    "what everything is. Too much going on.\n"
   ]
  },
  {
   "cell_type": "code",
   "execution_count": null,
   "metadata": {
    "dotnet_interactive": {
     "language": "fsharp"
    }
   },
   "outputs": [
    {
     "data": {
      "text/html": "<div class=\"dni-plaintext\">0.048334554</div>"
     },
     "output_type": "unknown"
    }
   ],
   "source": [
    "// Single is the type of the float\r\n",
    "let capmAlpha = (single 12.0) * capmEstimate.LastTransformer.Model.Bias \r\n",
    "capmAlpha"
   ]
  },
  {
   "cell_type": "code",
   "execution_count": null,
   "metadata": {
    "dotnet_interactive": {
     "language": "fsharp"
    }
   },
   "outputs": [],
   "source": [
    "// Get annualized Stuff, Alpha, StdResiduals and Information Ratio\r\n",
    "let capmAlpha = (single 12.0) * capmEstimate.LastTransformer.Model.Bias \r\n",
    "let capmStDevResiduals = sqrt(single 12) * (Seq.stDev capmResiduals)\r\n",
    "let capmInformationRatio = capmAlpha / capmStDevResiduals\r\n"
   ]
  },
  {
   "cell_type": "code",
   "execution_count": null,
   "metadata": {
    "dotnet_interactive": {
     "language": "fsharp"
    }
   },
   "outputs": [],
   "source": [
    "let ff3Alpha = (single 12.0) * ff3Estimate.LastTransformer.Model.Bias \n",
    "let ff3StDevResiduals = sqrt(single 12) * (Seq.stDev ff3Residuals)\n",
    "let ff3InformationRatio = ff3Alpha / ff3StDevResiduals\n"
   ]
  },
  {
   "cell_type": "code",
   "execution_count": null,
   "metadata": {
    "dotnet_interactive": {
     "language": "fsharp"
    }
   },
   "outputs": [
    {
     "data": {
      "text/html": "<div class=\"dni-plaintext\">0.60413414</div>"
     },
     "output_type": "unknown"
    }
   ],
   "source": [
    "// Function version\n",
    "\n",
    "let informationRatio monthlyAlpha (monthlyResiduals: single array) =\n",
    "    let annualAlpha = single 12.0 * monthlyAlpha\n",
    "    let annualStDev = sqrt(single 12.0) * (Seq.stDev monthlyResiduals)\n",
    "    annualAlpha / annualStDev \n",
    "\n",
    "informationRatio capmEstimate.LastTransformer.Model.Bias capmResiduals\n"
   ]
  },
  {
   "cell_type": "code",
   "execution_count": null,
   "metadata": {
    "dotnet_interactive": {
     "language": "fsharp"
    }
   },
   "outputs": [
    {
     "data": {
      "text/html": "<div class=\"dni-plaintext\">0.65950793</div>"
     },
     "output_type": "unknown"
    }
   ],
   "source": [
    "informationRatio ff3Estimate.LastTransformer.Model.Bias ff3Residuals\n"
   ]
  }
 ],
 "metadata": {
  "interpreter": {
   "hash": "0e0f0624a6fac4c1c56180c32e1ded926947850460a5af910967bb56a5b2e8c4"
  },
  "kernelspec": {
   "display_name": "Python 3.9.2 64-bit ('r_env': conda)",
   "name": "python3"
  },
  "language_info": {
   "name": "python",
   "version": ""
  },
  "orig_nbformat": 3
 },
 "nbformat": 4,
 "nbformat_minor": 1
}