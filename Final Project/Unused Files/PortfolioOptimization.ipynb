{
 "cells": [
  {
   "cell_type": "code",
   "execution_count": null,
   "metadata": {
    "dotnet_interactive": {
     "language": "fsharp"
    }
   },
   "outputs": [
    {
     "data": {
      "text/plain": "Installed package FSharp.Data version 4.1.1"
     },
     "output_type": "unknown"
    },
    {
     "data": {
      "text/plain": "Installed package FSharp.Stats version 0.4.1"
     },
     "output_type": "unknown"
    }
   ],
   "source": [
    "#r \"nuget: FSharp.Stats, 0.4.1\"\n",
    "#r \"nuget: FSharp.Data\"\n",
    "\n",
    "#load \"../common.fsx\"\n",
    "\n",
    "open System\n",
    "open FSharp.Data\n",
    "open Common\n",
    "\n",
    "open FSharp.Stats\n",
    "\n",
    "\n",
    "Environment.CurrentDirectory <- __SOURCE_DIRECTORY__\n"
   ]
  },
  {
   "cell_type": "markdown",
   "metadata": {},
   "source": [
    "# Portfolio Optimization\n",
    "\n",
    "We're now going to see how to do mean-variance portfolio optimization.\n",
    "The objective is to find the portfolio with the greatest return per\n",
    "unit of standard deviation.\n",
    "\n",
    "In particular, we're going to identify the tangency portfolio. \n",
    "The tangency portfolio is the portfolio fully invested \n",
    "in risky assets that has the maximum achievable sharpe ratio. \n",
    "When there is a risk-free rate, the efficient frontier \n",
    "of optimal portfolios is some combination of\n",
    "the tangency portfolio and the risk-free asset. \n",
    "Investors who want safe portfolios hold a lot \n",
    "of bonds and very little of the tangency portfolio. \n",
    "Investors who want riskier portfolios hold little risk-free bonds and\n",
    "a lot of the tangency portfolio (or even lever the tangency portoflio). \n",
    "\n",
    "Now one thing to keep in mind is that often you think \n",
    "of this as the optimal weight per security.\n",
    "But one well known problem is that trying to do this naively does not work well.\n",
    "And by naively I mean taking a stock's average return and covariances in the sample. \n",
    "In large part, this is because it is hard to estimate a stock's past returns.\n",
    "I know. Big shock, right?\n",
    "\n",
    "However, there are ways to do portfolio optimization that works better.\n",
    "We can do it by creating large groups \n",
    "of stocks with similar characteristics. \n",
    "For example, a factor portfolio. \n",
    "Then you estimate the expected return and covariance matrix using the factor.\n",
    "That tends to give you better portfolios \n",
    "because the characteristics that you're using \n",
    "to form the portfolios help you estimate \n",
    "the return and covariances of the stocks in it.\n",
    "A type to hold our data.\n"
   ]
  },
  {
   "cell_type": "code",
   "execution_count": null,
   "metadata": {
    "dotnet_interactive": {
     "language": "fsharp"
    }
   },
   "outputs": [],
   "source": [
    "type StockData =\n",
    "    { Symbol : string \n",
    "      Date : DateTime\n",
    "      Return : float }\n"
   ]
  },
  {
   "cell_type": "markdown",
   "metadata": {},
   "source": [
    "We get the Fama-French 3-Factor asset pricing model data.\n"
   ]
  },
  {
   "cell_type": "code",
   "execution_count": null,
   "metadata": {
    "dotnet_interactive": {
     "language": "fsharp"
    }
   },
   "outputs": [
    {
     "data": {
      "text/html": "<table><thead><tr><th><i>index</i></th><th>Symbol</th><th>Date</th><th>Return</th></tr></thead><tbody><tr><td>0</td><td>Smb</td><td><span>2021-03-01 00:00:00Z</span></td><td><div class=\"dni-plaintext\">-0.0248</div></td></tr><tr><td>1</td><td>Smb</td><td><span>2021-02-01 00:00:00Z</span></td><td><div class=\"dni-plaintext\">0.021099999999999997</div></td></tr><tr><td>2</td><td>Smb</td><td><span>2021-01-01 00:00:00Z</span></td><td><div class=\"dni-plaintext\">0.0719</div></td></tr></tbody></table>"
     },
     "output_type": "unknown"
    }
   ],
   "source": [
    "let ff3 = French.getFF3 Frequency.Monthly\r\n",
    "\r\n",
    "// Transform to a StockData record type.\r\n",
    "let ff3StockData =\r\n",
    "    [| \r\n",
    "       ff3 |> Array.map(fun x -> {Symbol=\"HML\";Date=x.Date;Return=x.Hml})\r\n",
    "       ff3 |> Array.map(fun x -> {Symbol=\"MktRf\";Date=x.Date;Return=x.MktRf})\r\n",
    "       ff3 |> Array.map(fun x -> {Symbol=\"Smb\";Date=x.Date;Return=x.Smb})\r\n",
    "    |] |> Array.concat\r\n",
    "\r\n",
    "ff3StockData |> Array.rev |> Array.take 3\r\n"
   ]
  },
  {
   "cell_type": "markdown",
   "metadata": {},
   "source": [
    "Let's get our factor data.\n"
   ]
  },
  {
   "cell_type": "code",
   "execution_count": null,
   "metadata": {
    "dotnet_interactive": {
     "language": "fsharp"
    }
   },
   "outputs": [
    {
     "data": {
      "text/html": "<table><thead><tr><th><i>index</i></th><th>Symbol</th><th>Date</th><th>Return</th></tr></thead><tbody><tr><td>0</td><td>Long</td><td><span>2000-02-01 00:00:00Z</span></td><td><div class=\"dni-plaintext\">-0.023504318580928413</div></td></tr><tr><td>1</td><td>Long</td><td><span>2000-03-01 00:00:00Z</span></td><td><div class=\"dni-plaintext\">0.08645743985613241</div></td></tr><tr><td>2</td><td>Long</td><td><span>2000-04-01 00:00:00Z</span></td><td><div class=\"dni-plaintext\">-0.021817835230565925</div></td></tr></tbody></table>"
     },
     "output_type": "unknown"
    }
   ],
   "source": [
    "let myFactorPorts = CsvProvider<\"myExcessReturnPortfolios.csv\",\r\n",
    "                                ResolutionFolder = __SOURCE_DIRECTORY__>.GetSample()\r\n",
    "\r\n",
    "let long = \r\n",
    "    myFactorPorts.Rows \r\n",
    "    |> Seq.filter(fun row -> row.PortfolioName = \"Mine\" && row.Index = Some 3)\r\n",
    "    |> Seq.map(fun x -> { Symbol = \"Long\"; Date = x.YearMonth; Return = x.Ret })\r\n",
    "    |> Seq.toArray\r\n",
    "\r\n",
    "long |> Seq.take 3"
   ]
  },
  {
   "cell_type": "markdown",
   "metadata": {},
   "source": [
    "Some good standard investments.\n"
   ]
  },
  {
   "cell_type": "code",
   "execution_count": null,
   "metadata": {
    "dotnet_interactive": {
     "language": "fsharp"
    }
   },
   "outputs": [
    {
     "data": {
      "text/html": "<table><thead><tr><th><i>index</i></th><th>Symbol</th><th>Date</th><th>Return</th></tr></thead><tbody><tr><td>0</td><td>VTI</td><td><span>2001-06-01 00:00:00Z</span></td><td><div class=\"dni-plaintext\">0.006968641114982965</div></td></tr><tr><td>1</td><td>VTI</td><td><span>2001-06-04 00:00:00Z</span></td><td><div class=\"dni-plaintext\">0.004325259515570723</div></td></tr><tr><td>2</td><td>VTI</td><td><span>2001-06-05 00:00:00Z</span></td><td><div class=\"dni-plaintext\">0.014642549526269422</div></td></tr></tbody></table>"
     },
     "output_type": "unknown"
    }
   ],
   "source": [
    "// Vanguard Data\r\n",
    "let vti = \r\n",
    "    \"VTI\"\r\n",
    "    |> Tiingo.request\r\n",
    "    |> Tiingo.startOn (DateTime(2000,1,1))\r\n",
    "    |> Tiingo.getReturns\r\n",
    "\r\n",
    "let bnd = \r\n",
    "    \"BND\"\r\n",
    "    |> Tiingo.request\r\n",
    "    |> Tiingo.startOn (DateTime(2000,1,1))\r\n",
    "    |> Tiingo.getReturns\r\n",
    "\r\n",
    "vti |> Array.take 3"
   ]
  },
  {
   "cell_type": "markdown",
   "metadata": {},
   "source": [
    "# These are daily returns. So let's convert them to monthly returns.\r\n",
    "\r\n",
    "Remember how to do this?\r\n"
   ]
  },
  {
   "cell_type": "code",
   "execution_count": null,
   "metadata": {
    "dotnet_interactive": {
     "language": "fsharp"
    }
   },
   "outputs": [
    {
     "data": {
      "text/html": "<div class=\"dni-plaintext\">0.3310000000000004</div>"
     },
     "output_type": "unknown"
    }
   ],
   "source": [
    "let exampleRets = [| 0.1; 0.1; 0.1 |]\n",
    "\n",
    "(1.0, exampleRets)\n",
    "||> Array.fold (fun acc ret -> acc * (1.0 + ret))\n",
    "|> fun grossReturn -> grossReturn - 1.0\n"
   ]
  },
  {
   "cell_type": "code",
   "execution_count": null,
   "metadata": {
    "dotnet_interactive": {
     "language": "fsharp"
    }
   },
   "outputs": [
    {
     "data": {
      "text/html": "<div class=\"dni-plaintext\">0.3310000000000004</div>"
     },
     "output_type": "unknown"
    }
   ],
   "source": [
    "// Compare to \n",
    "1.1**3.0 - 1.0\n"
   ]
  },
  {
   "cell_type": "markdown",
   "metadata": {},
   "source": [
    "So let's combine the `VTI` and `BND` data, group by symbol and month,\n",
    "and then convert to monthly returns.\n"
   ]
  },
  {
   "cell_type": "code",
   "execution_count": null,
   "metadata": {
    "dotnet_interactive": {
     "language": "fsharp"
    }
   },
   "outputs": [
    {
     "data": {
      "text/html": "<table><thead><tr><th><i>index</i></th><th>Symbol</th><th>Date</th><th>Return</th></tr></thead><tbody><tr><td>0</td><td>VTI</td><td><span>2001-06-01 00:00:00Z</span></td><td><div class=\"dni-plaintext\">-0.01320316437665836</div></td></tr><tr><td>1</td><td>VTI</td><td><span>2001-07-01 00:00:00Z</span></td><td><div class=\"dni-plaintext\">-0.019469026548670665</div></td></tr><tr><td>2</td><td>VTI</td><td><span>2001-08-01 00:00:00Z</span></td><td><div class=\"dni-plaintext\">-0.057761732851984604</div></td></tr></tbody></table>"
     },
     "output_type": "unknown"
    }
   ],
   "source": [
    "let standardInvestments =\r\n",
    "    Array.concat [vti; bnd]\r\n",
    "    |> Array.groupBy(fun x -> x.Symbol, x.Date.Year, x.Date.Month)\r\n",
    "    |> Array.map(fun ((sym, year, month), xs) -> \r\n",
    "        let sortedRets = \r\n",
    "            xs\r\n",
    "            |> Array.sortBy(fun x -> x.Date)\r\n",
    "            |> Array.map(fun x -> x.Return)\r\n",
    "        let monthlyGrossRet =\r\n",
    "            (1.0, sortedRets)\r\n",
    "            ||> Array.fold (fun acc x -> acc * (1.0 + x))\r\n",
    "        { Symbol = sym\r\n",
    "          Date = DateTime(year, month, 1)\r\n",
    "          Return = monthlyGrossRet - 1.0 })\r\n",
    "\r\n",
    "// Now its monthly data\r\n",
    "standardInvestments |> Array.take 3"
   ]
  },
  {
   "cell_type": "markdown",
   "metadata": {},
   "source": [
    "And let's convert to excess returns\n"
   ]
  },
  {
   "cell_type": "code",
   "execution_count": null,
   "metadata": {
    "dotnet_interactive": {
     "language": "fsharp"
    }
   },
   "outputs": [
    {
     "data": {
      "text/html": "<table><thead><tr><th><i>index</i></th><th>Symbol</th><th>Date</th><th>Return</th></tr></thead><tbody><tr><td>0</td><td>VTI</td><td><span>2001-06-01 00:00:00Z</span></td><td><div class=\"dni-plaintext\">-0.01600316437665836</div></td></tr><tr><td>1</td><td>VTI</td><td><span>2001-07-01 00:00:00Z</span></td><td><div class=\"dni-plaintext\">-0.022469026548670664</div></td></tr><tr><td>2</td><td>VTI</td><td><span>2001-08-01 00:00:00Z</span></td><td><div class=\"dni-plaintext\">-0.0608617328519846</div></td></tr></tbody></table>"
     },
     "output_type": "unknown"
    }
   ],
   "source": [
    "let rf = ff3 |> Seq.map(fun x -> x.Date, x.Rf) |> Map\r\n",
    "\r\n",
    "let standardInvestmentsExcess =\r\n",
    "    let maxff3Date = ff3 |> Array.map(fun x -> x.Date) |> Array.max\r\n",
    "    standardInvestments\r\n",
    "    |> Array.filter(fun x -> x.Date <= maxff3Date)\r\n",
    "    |> Array.map(fun x -> \r\n",
    "        match Map.tryFind x.Date rf with \r\n",
    "        | None -> failwith $\"why isn't there a rf for {x.Date}\"\r\n",
    "        | Some rf -> { x with Return = x.Return - rf })\r\n",
    "\r\n",
    "standardInvestmentsExcess |> Array.take 3"
   ]
  },
  {
   "cell_type": "markdown",
   "metadata": {},
   "source": [
    "If we did it right, the `VTI` return should be pretty similar to the `MktRF`\n",
    "return from Ken French's website.\n"
   ]
  },
  {
   "cell_type": "code",
   "execution_count": null,
   "metadata": {
    "dotnet_interactive": {
     "language": "fsharp"
    }
   },
   "outputs": [
    {
     "data": {
      "text/html": "<table><thead><tr><th><i>index</i></th><th>Item1</th><th>Item2</th></tr></thead><tbody><tr><td>0</td><td><div class=\"dni-plaintext\">1</div></td><td><div class=\"dni-plaintext\">-0.0033</div></td></tr><tr><td>1</td><td><div class=\"dni-plaintext\">2</div></td><td><div class=\"dni-plaintext\">0.0314</div></td></tr><tr><td>2</td><td><div class=\"dni-plaintext\">3</div></td><td><div class=\"dni-plaintext\">0.0365</div></td></tr></tbody></table>"
     },
     "output_type": "unknown"
    }
   ],
   "source": [
    "standardInvestmentsExcess\n",
    "|> Array.filter(fun x -> x.Symbol = \"VTI\" && x.Date.Year = 2021)\n",
    "|> Array.map(fun x -> x.Date.Month, round 4 x.Return)\n",
    "|> Array.take 3\n"
   ]
  },
  {
   "cell_type": "code",
   "execution_count": null,
   "metadata": {
    "dotnet_interactive": {
     "language": "fsharp"
    }
   },
   "outputs": [
    {
     "data": {
      "text/html": "<table><thead><tr><th><i>index</i></th><th>Item1</th><th>Item2</th></tr></thead><tbody><tr><td>0</td><td><div class=\"dni-plaintext\">1</div></td><td><div class=\"dni-plaintext\">-0.0003</div></td></tr><tr><td>1</td><td><div class=\"dni-plaintext\">2</div></td><td><div class=\"dni-plaintext\">0.0278</div></td></tr><tr><td>2</td><td><div class=\"dni-plaintext\">3</div></td><td><div class=\"dni-plaintext\">0.0309</div></td></tr></tbody></table>"
     },
     "output_type": "unknown"
    }
   ],
   "source": [
    "ff3 \n",
    "|> Array.filter(fun x -> x.Date.Year = 2021)\n",
    "|> Array.map(fun x -> x.Date.Month, round 4 x.MktRf)\n"
   ]
  },
  {
   "cell_type": "markdown",
   "metadata": {},
   "source": [
    "So they are close but not exact"
   ]
  },
  {
   "cell_type": "markdown",
   "metadata": {},
   "source": [
    "Let's put our stocks in a map keyed by symbol\n"
   ]
  },
  {
   "cell_type": "code",
   "execution_count": null,
   "metadata": {
    "dotnet_interactive": {
     "language": "fsharp"
    }
   },
   "outputs": [],
   "source": [
    "let stockData =\n",
    "    Array.concat [| standardInvestmentsExcess; long |]\n",
    "    |> Array.groupBy(fun x -> x.Symbol)\n",
    "    |> Map\n",
    "\n",
    "let symbols = \n",
    "    stockData \n",
    "    |> Map.toArray // convert to array of (symbol, observations for that symbol) \n",
    "    |> Array.map fst // take just the symbol\n",
    "    |> Array.sort // sort them\n"
   ]
  },
  {
   "cell_type": "code",
   "execution_count": null,
   "metadata": {
    "dotnet_interactive": {
     "language": "fsharp"
    }
   },
   "outputs": [
    {
     "data": {
      "text/html": "<table><thead><tr><th><i>index</i></th><th>Symbol</th><th>Date</th><th>Return</th></tr></thead><tbody><tr><td>0</td><td>VTI</td><td><span>2001-06-01 00:00:00Z</span></td><td><div class=\"dni-plaintext\">-0.01600316437665836</div></td></tr><tr><td>1</td><td>VTI</td><td><span>2001-07-01 00:00:00Z</span></td><td><div class=\"dni-plaintext\">-0.022469026548670664</div></td></tr><tr><td>2</td><td>VTI</td><td><span>2001-08-01 00:00:00Z</span></td><td><div class=\"dni-plaintext\">-0.0608617328519846</div></td></tr></tbody></table>"
     },
     "output_type": "unknown"
    }
   ],
   "source": [
    "stockData.[\"VTI\"] |> Array.take 3"
   ]
  },
  {
   "cell_type": "code",
   "execution_count": null,
   "metadata": {
    "dotnet_interactive": {
     "language": "fsharp"
    }
   },
   "outputs": [
    {
     "data": {
      "text/html": "<table><thead><tr><th><i>index</i></th><th>Symbol</th><th>Date</th><th>Return</th></tr></thead><tbody><tr><td>0</td><td>BND</td><td><span>2007-04-01 00:00:00Z</span></td><td><div class=\"dni-plaintext\">-0.0010772993088761637</div></td></tr><tr><td>1</td><td>BND</td><td><span>2007-05-01 00:00:00Z</span></td><td><div class=\"dni-plaintext\">-0.011968234741379098</div></td></tr><tr><td>2</td><td>BND</td><td><span>2007-06-01 00:00:00Z</span></td><td><div class=\"dni-plaintext\">-0.007111620581295549</div></td></tr></tbody></table>"
     },
     "output_type": "unknown"
    }
   ],
   "source": [
    "stockData.[\"BND\"] |> Array.take 3\r\n"
   ]
  },
  {
   "cell_type": "code",
   "execution_count": null,
   "metadata": {
    "dotnet_interactive": {
     "language": "fsharp"
    }
   },
   "outputs": [
    {
     "data": {
      "text/html": "<table><thead><tr><th><i>index</i></th><th>value</th></tr></thead><tbody><tr><td>0</td><td>BND</td></tr><tr><td>1</td><td>Long</td></tr><tr><td>2</td><td>VTI</td></tr></tbody></table>"
     },
     "output_type": "unknown"
    }
   ],
   "source": [
    "symbols"
   ]
  },
  {
   "cell_type": "markdown",
   "metadata": {},
   "source": [
    "Let's create a function that calculates covariances\n",
    "for two securities.\n"
   ]
  },
  {
   "cell_type": "code",
   "execution_count": null,
   "metadata": {
    "dotnet_interactive": {
     "language": "fsharp"
    }
   },
   "outputs": [],
   "source": [
    "// Get a ticker symbol x and ticker symbol y and get the stockData for them and lets get the COVariance\r\n",
    "let getCov x y stockData =\r\n",
    "    // This code is making sure you have data from overlapping periods\r\n",
    "    let innerJoin xId yId =\r\n",
    "        let xRet = Map.find xId stockData\r\n",
    "        let yRet = Map.find yId stockData |> Array.map(fun x -> x.Date, x) |> Map\r\n",
    "        xRet\r\n",
    "        |> Array.choose(fun x ->\r\n",
    "            match Map.tryFind x.Date yRet with\r\n",
    "            | None -> None\r\n",
    "            | Some y -> Some (x.Return, y.Return))\r\n",
    "    let x, y = innerJoin x y |> Array.unzip\r\n",
    "    Seq.cov x y\r\n",
    "\r\n",
    "let covariances =\r\n",
    "    symbols\r\n",
    "    |> Array.map(fun x ->\r\n",
    "        symbols\r\n",
    "        |> Array.map(fun y -> getCov x y stockData))\r\n",
    "    |> matrix\r\n",
    "let means = \r\n",
    "    stockData\r\n",
    "    |> Map.toArray\r\n",
    "    |> Array.map(fun (sym, xs) ->\r\n",
    "        sym,\r\n",
    "        xs |> Array.averageBy(fun x -> x.Return))\r\n",
    "    |> Array.sortBy fst\r\n",
    "    |> Array.map snd\r\n",
    "    |> vector\r\n"
   ]
  },
  {
   "cell_type": "code",
   "execution_count": null,
   "metadata": {
    "dotnet_interactive": {
     "language": "fsharp"
    }
   },
   "outputs": [],
   "source": [
    "let means = \r\n",
    "    stockData\r\n",
    "    |> Map.toArray\r\n",
    "    |> Array.map(fun (sym, xs) ->\r\n",
    "        sym,\r\n",
    "        xs |> Array.averageBy(fun x -> x.Return))\r\n",
    "    |> Array.sortBy fst\r\n",
    "    |> Array.map snd\r\n",
    "    |> vector"
   ]
  },
  {
   "cell_type": "markdown",
   "metadata": {},
   "source": [
    "This solution method for finding the tangency portfolio\n",
    "comes from Hilliar, Grinblatt and Titman 2nd\n",
    "European Edition, Example 5.3. \n",
    "\n",
    "Since it has the greatest possible Sharpe ratio, that means\n",
    "that you cannot rebalance the portfolio and increase \n",
    "the return per unit of standard deviation.\n",
    "\n",
    "The solution method relies on the fact that covariance\n",
    "is like marginal variance. At the tangency portfolio,\n",
    "it must be the case that the ratio of each asset's \n",
    "risk premium to it's covariance with the tangency portfolio, \n",
    "$(r_i-r_f)/cov(r_i,r_p)$, must be the same. Because that's\n",
    "the return per marginal variance ratio, and if it was not\n",
    "equal for all assets, then you could rebalance and increase the portfolio's \n",
    "return while holding the portfolio variance constant.\n",
    "\n",
    "In the below algebra, we solve for the portfolio that has covariances with\n",
    "each asset equal to the asset's risk premium. Then we relever to have a portfolio\n",
    "weight equal to 1.0 (we can relever like this because everything is in excess returns)\n",
    "and then we are left with the tangency portfolio.\n"
   ]
  },
  {
   "cell_type": "code",
   "execution_count": null,
   "metadata": {
    "dotnet_interactive": {
     "language": "fsharp"
    }
   },
   "outputs": [
    {
     "data": {
      "text/html": "<table><thead><tr><th><i>index</i></th><th>value</th></tr></thead><tbody><tr><td>0</td><td><div class=\"dni-plaintext\">23.487446320521382</div></td></tr><tr><td>1</td><td><div class=\"dni-plaintext\">2.5509616235263026</div></td></tr><tr><td>2</td><td><div class=\"dni-plaintext\">0.6746274059823851</div></td></tr></tbody></table>"
     },
     "output_type": "unknown"
    }
   ],
   "source": [
    "// solve A * x = b for x\r\n",
    "let w' = Algebra.LinearAlgebra.SolveLinearSystem covariances means\r\n",
    "let w = w' |> Vector.map(fun x -> x /  Vector.sum w')\r\n",
    "\r\n",
    "w'"
   ]
  },
  {
   "cell_type": "code",
   "execution_count": null,
   "metadata": {
    "dotnet_interactive": {
     "language": "fsharp"
    }
   },
   "outputs": [
    {
     "data": {
      "text/html": "<table><thead><tr><th><i>index</i></th><th>value</th></tr></thead><tbody><tr><td>0</td><td>BND</td></tr><tr><td>1</td><td>Long</td></tr><tr><td>2</td><td>VTI</td></tr></tbody></table>"
     },
     "output_type": "unknown"
    }
   ],
   "source": [
    "symbols"
   ]
  },
  {
   "cell_type": "markdown",
   "metadata": {},
   "source": [
    "Portfolio variance\n"
   ]
  },
  {
   "cell_type": "code",
   "execution_count": null,
   "metadata": {
    "dotnet_interactive": {
     "language": "fsharp"
    }
   },
   "outputs": [
    {
     "data": {
      "text/html": "<div class=\"dni-plaintext\">0.00012259243266497154</div>"
     },
     "output_type": "unknown"
    }
   ],
   "source": [
    "let portVariance = w.Transpose * covariances * w\r\n",
    "portVariance"
   ]
  },
  {
   "cell_type": "markdown",
   "metadata": {},
   "source": [
    "Portfolio standard deviation\n"
   ]
  },
  {
   "cell_type": "code",
   "execution_count": null,
   "metadata": {
    "dotnet_interactive": {
     "language": "fsharp"
    }
   },
   "outputs": [
    {
     "data": {
      "text/html": "<div class=\"dni-plaintext\">0.011072146705358069</div>"
     },
     "output_type": "unknown"
    }
   ],
   "source": [
    "let portStDev = sqrt(portVariance)\r\n",
    "portStDev"
   ]
  },
  {
   "cell_type": "markdown",
   "metadata": {},
   "source": [
    "Portfolio mean \n"
   ]
  },
  {
   "cell_type": "code",
   "execution_count": null,
   "metadata": {
    "dotnet_interactive": {
     "language": "fsharp"
    }
   },
   "outputs": [
    {
     "data": {
      "text/html": "<div class=\"dni-plaintext\">0.0032748159874255653</div>"
     },
     "output_type": "unknown"
    }
   ],
   "source": [
    "let portMean = w.Transpose * means\r\n",
    "portMean"
   ]
  },
  {
   "cell_type": "markdown",
   "metadata": {},
   "source": [
    "Annualized Sharpe ratio \n"
   ]
  },
  {
   "cell_type": "code",
   "execution_count": null,
   "metadata": {
    "dotnet_interactive": {
     "language": "fsharp"
    }
   },
   "outputs": [
    {
     "data": {
      "text/html": "<div class=\"dni-plaintext\">1.024579573700019</div>"
     },
     "output_type": "unknown"
    }
   ],
   "source": [
    "sqrt(12.0)*(portMean/portStDev)\n"
   ]
  }
 ],
 "metadata": {
  "kernelspec": {
   "display_name": ".NET (C#)",
   "language": "C#",
   "name": ".net-csharp"
  },
  "language_info": {
   "file_extension": ".cs",
   "mimetype": "text/x-csharp",
   "name": "C#",
   "pygments_lexer": "csharp",
   "version": "9.0"
  }
 },
 "nbformat": 4,
 "nbformat_minor": 1
}